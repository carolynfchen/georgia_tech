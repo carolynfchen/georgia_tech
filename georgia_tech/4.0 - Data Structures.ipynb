{
 "cells": [
  {
   "cell_type": "markdown",
   "id": "c03f4cdd-b0ac-41ec-85f5-934dc9caf5ed",
   "metadata": {},
   "source": [
    "## Data Structures"
   ]
  },
  {
   "cell_type": "code",
   "execution_count": 1,
   "id": "7933f7ce-8377-40bc-a973-3370250400c5",
   "metadata": {},
   "outputs": [
    {
     "name": "stdout",
     "output_type": "stream",
     "text": [
      "myInteger before addOne: 5\n",
      "anInteger: 6\n",
      "myInteger after addOne: 5\n"
     ]
    }
   ],
   "source": [
    "#add one to anInteger \n",
    "def addOne(anInteger):\n",
    "    anInteger = anInteger + 1\n",
    "    print(\"anInteger:\", anInteger) \n",
    "\n",
    "#create myInteger with the value 5\n",
    "myInteger = 5\n",
    "print(\"myInteger before addOne:\", myInteger) \n",
    "\n",
    "#call addOne on myInteger \n",
    "addOne(myInteger) \n",
    "print(\"myInteger after addOne:\", myInteger) "
   ]
  },
  {
   "cell_type": "code",
   "execution_count": 4,
   "id": "94359f80-8095-4c98-90af-dbcd29405c0f",
   "metadata": {},
   "outputs": [
    {
     "name": "stdout",
     "output_type": "stream",
     "text": [
      "5\n"
     ]
    }
   ],
   "source": [
    "def squareInteger(incomingInteger):\n",
    "    incomingInteger = incomingInteger ** 2 \n",
    "    return incomingInteger \n",
    "incomingInteger = 5 \n",
    "squareInteger(incomingInteger)\n",
    "print(incomingInteger)"
   ]
  },
  {
   "cell_type": "code",
   "execution_count": 5,
   "id": "2bf12811-8b61-418b-b1dc-4f7c12b0d8d5",
   "metadata": {},
   "outputs": [
    {
     "name": "stdout",
     "output_type": "stream",
     "text": [
      "myString before addExc: Hello, world\n",
      "aString: Hello, world!\n",
      "myString after addExc: Hello, world\n"
     ]
    }
   ],
   "source": [
    "def addExc(aString):\n",
    "    aString = aString + \"!\"\n",
    "    print(\"aString:\", aString)\n",
    "\n",
    "myString = \"Hello, world\"\n",
    "print(\"myString before addExc:\", myString)\n",
    "addExc(myString)\n",
    "print(\"myString after addExc:\", myString)"
   ]
  },
  {
   "cell_type": "code",
   "execution_count": 6,
   "id": "2c9b4305-82b5-499a-9af2-e0d90162a94b",
   "metadata": {},
   "outputs": [
    {
     "name": "stdout",
     "output_type": "stream",
     "text": [
      "myList before addItem: ['One', 'Two', 'Three']\n",
      "aList: ['One', 'Two', 'Three', 'New Item!']\n",
      "myList after addItem: ['One', 'Two', 'Three', 'New Item!']\n"
     ]
    }
   ],
   "source": [
    "def addItem(aList):\n",
    "    aList.append(\"New Item!\")\n",
    "    print(\"aList:\", aList)\n",
    "\n",
    "myList = [\"One\", \"Two\", \"Three\"] \n",
    "print(\"myList before addItem:\", myList) \n",
    "addItem(myList)\n",
    "print(\"myList after addItem:\", myList)"
   ]
  },
  {
   "cell_type": "code",
   "execution_count": 7,
   "id": "64a0d45f-9a06-43a7-9cfe-c5e6773fdfb5",
   "metadata": {},
   "outputs": [
    {
     "name": "stdout",
     "output_type": "stream",
     "text": [
      "DAVID\n"
     ]
    }
   ],
   "source": [
    "my_string = \"David\"\n",
    "print(my_string.upper())"
   ]
  },
  {
   "cell_type": "code",
   "execution_count": 9,
   "id": "3bafef3b-7924-4d9d-b47e-d69f98473fd9",
   "metadata": {},
   "outputs": [
    {
     "name": "stdout",
     "output_type": "stream",
     "text": [
      "DAVID\n"
     ]
    }
   ],
   "source": [
    "my_string = \"David\"\n",
    "my_string = my_string.upper()\n",
    "print(my_string)"
   ]
  },
  {
   "cell_type": "code",
   "execution_count": 10,
   "id": "b8c08c33-6091-4d58-a90e-4e722a8e129f",
   "metadata": {},
   "outputs": [
    {
     "name": "stdout",
     "output_type": "stream",
     "text": [
      "myInt1: 7\n",
      "myInt2: 5\n"
     ]
    }
   ],
   "source": [
    "myInt1 = 5\n",
    "myInt2 = myInt1 \n",
    "myInt1 = 7\n",
    "\n",
    "print(\"myInt1:\", myInt1)\n",
    "print(\"myInt2:\", myInt2)"
   ]
  },
  {
   "cell_type": "code",
   "execution_count": 11,
   "id": "b34387fe-e1b5-460f-8e54-f913937b2c2e",
   "metadata": {},
   "outputs": [
    {
     "name": "stdout",
     "output_type": "stream",
     "text": [
      "myList1: ['One', 'Two', 'Three', 'Four']\n",
      "myList2: ['One', 'Two', 'Three', 'Four']\n"
     ]
    }
   ],
   "source": [
    "myList1 = [\"One\", \"Two\", \"Three\"]\n",
    "myList2 = myList1 \n",
    "myList1.append(\"Four\")\n",
    "\n",
    "print(\"myList1:\", myList1) \n",
    "print(\"myList2:\", myList2)"
   ]
  },
  {
   "cell_type": "code",
   "execution_count": 12,
   "id": "06adbd6e-3d97-4d71-9798-d09344a31458",
   "metadata": {},
   "outputs": [
    {
     "name": "stdout",
     "output_type": "stream",
     "text": [
      "True\n"
     ]
    }
   ],
   "source": [
    "bool1 = True\n",
    "bool2 = bool1\n",
    "bool1 = False\n",
    "print(bool2)"
   ]
  },
  {
   "cell_type": "code",
   "execution_count": 13,
   "id": "9fcf9dfa-c382-47ed-a95a-a6b283e04232",
   "metadata": {},
   "outputs": [
    {
     "name": "stdout",
     "output_type": "stream",
     "text": [
      "5\n"
     ]
    }
   ],
   "source": [
    "int1 = 5\n",
    "int2 = int1\n",
    "int1 += 2\n",
    "print(int2)"
   ]
  },
  {
   "cell_type": "code",
   "execution_count": 14,
   "id": "c1121ae4-a9ee-42e3-8327-59705d1f98e1",
   "metadata": {},
   "outputs": [
    {
     "name": "stdout",
     "output_type": "stream",
     "text": [
      "Boggle\n"
     ]
    }
   ],
   "source": [
    "string1 = \"Boggle\"\n",
    "string2 = string1\n",
    "string1 += \" the Cat\"\n",
    "print(string2)"
   ]
  },
  {
   "cell_type": "code",
   "execution_count": 15,
   "id": "c99e5229-a6ba-4a9b-9898-540ddd963dfb",
   "metadata": {},
   "outputs": [
    {
     "name": "stdout",
     "output_type": "stream",
     "text": [
      "[1, 2, 3, 4]\n"
     ]
    }
   ],
   "source": [
    "list1 = [1, 2, 3] \n",
    "list2 = list1\n",
    "list1. append(4)\n",
    "print(list2)"
   ]
  },
  {
   "cell_type": "code",
   "execution_count": 16,
   "id": "2beb0e15-b9c4-4ba0-8438-5f9a657df8d7",
   "metadata": {},
   "outputs": [
    {
     "name": "stdout",
     "output_type": "stream",
     "text": [
      "140411350106368\n"
     ]
    }
   ],
   "source": [
    "my_list = [1, 2, 3] \n",
    "print(id(my_list))"
   ]
  },
  {
   "cell_type": "code",
   "execution_count": 18,
   "id": "968b40a7-e80d-4a0b-997c-1fe797606205",
   "metadata": {},
   "outputs": [
    {
     "name": "stdout",
     "output_type": "stream",
     "text": [
      "True\n",
      "False\n"
     ]
    }
   ],
   "source": [
    "myNumericString = \"12345\"\n",
    "myNonNumericString = \"ABCDE\"\n",
    "\n",
    "print(myNumericString.isdigit())\n",
    "print(myNonNumericString.isdigit())"
   ]
  },
  {
   "cell_type": "code",
   "execution_count": 19,
   "id": "98f41d88-278b-46ef-a1ba-bdadfd53b8fc",
   "metadata": {},
   "outputs": [
    {
     "name": "stdout",
     "output_type": "stream",
     "text": [
      "True\n",
      "True\n"
     ]
    }
   ],
   "source": [
    "import string\n",
    "def isdigit(inString):\n",
    "    for character in inString:\n",
    "        if not character in string.digits:\n",
    "            return False \n",
    "        return True\n",
    "\n",
    "myString = \"52672\"\n",
    "print(isdigit(myString))\n",
    "print(myString.isdigit())"
   ]
  },
  {
   "cell_type": "code",
   "execution_count": 34,
   "id": "8acd284b-fe6f-437a-9f23-63cc15a90887",
   "metadata": {},
   "outputs": [],
   "source": [
    "my_string = ''''ello, \"world\"!'''"
   ]
  },
  {
   "cell_type": "code",
   "execution_count": 35,
   "id": "4d7695f3-a090-41c9-add6-aee1a751695c",
   "metadata": {},
   "outputs": [
    {
     "data": {
      "text/plain": [
       "'\\'ello, \"world\"!'"
      ]
     },
     "execution_count": 35,
     "metadata": {},
     "output_type": "execute_result"
    }
   ],
   "source": [
    "my_string"
   ]
  },
  {
   "cell_type": "code",
   "execution_count": 36,
   "id": "a4018cf8-360a-4394-aff1-c41173aade03",
   "metadata": {},
   "outputs": [
    {
     "name": "stdout",
     "output_type": "stream",
     "text": [
      "'''\"\"'\"'\"'\"\n"
     ]
    }
   ],
   "source": [
    "#Write a function called random_marks. random_marks should\n",
    "#take three parameters, all integers. It should return a\n",
    "#string.\n",
    "#\n",
    "#The first parameter represents how many apostrophes should\n",
    "#be in the string. The second parameter represents how many\n",
    "#quotation marks should be in the string. The third\n",
    "#parameter represents how many apostrophe-quotation mark\n",
    "#pairs should be in the string.\n",
    "#\n",
    "#For example, random_marks(3, 2, 3) would return this\n",
    "#string: #'''\"\"'\"'\"'\"\n",
    "#\n",
    "#Note that there are three apostrophes, then two quotation\n",
    "#marks, then three '\" pairs.\n",
    "\n",
    "\n",
    "#Add your function here!\n",
    "\n",
    "def random_marks(apostrophe, quotation, apostrophe_quotation):\n",
    "\n",
    "   return \"'\"*apostrophe + \"\\\"\"*quotation + \"'\\\"\"*apostrophe_quotation\n",
    "\n",
    "\n",
    "#Below are some lines of code that will test your function.\n",
    "#You can change the value of the variable(s) to test your\n",
    "#function with different inputs.\n",
    "#\n",
    "#If your function works correctly, this will originally\n",
    "#print: '''\"\"'\"'\"'\"\n",
    "\n",
    "print(random_marks(3, 2, 3))"
   ]
  },
  {
   "cell_type": "code",
   "execution_count": 50,
   "id": "e58c6217-e76c-41e3-8510-d805f7d5dd5e",
   "metadata": {},
   "outputs": [
    {
     "name": "stdout",
     "output_type": "stream",
     "text": [
      "111\t\n",
      "\t222\n",
      "\t\t333\n"
     ]
    }
   ],
   "source": [
    "#Write a function called \"steps\" that should return a string \n",
    "#that, if printed, looks like this:\n",
    "#\n",
    "#111\n",
    "#\t222\n",
    "#\t\t333\n",
    "#\n",
    "#Note that the characters at the beginning of the second and\n",
    "#third lines must be tabs, not spaces. There should be one\n",
    "#tab on the second line and two on the third line.\n",
    "#\n",
    "#You may only declare ONE string in your function.\n",
    "#\n",
    "#Hint: Don't overthink this! We're literally just asking you\n",
    "#to return one single string that just holds the above text.\n",
    "#You don't have to build the string dynamically or anything.\n",
    "\n",
    "\n",
    "#Write your function here!\n",
    "def steps():\n",
    "    return \"111\\t\\n\\t222\\n\\t\\t333\"\n",
    "\n",
    "\n",
    "#The line below will test your function.\n",
    "print(steps())\n"
   ]
  },
  {
   "cell_type": "code",
   "execution_count": 41,
   "id": "065922e8-76ce-4b61-8615-e4adb1d1d34d",
   "metadata": {},
   "outputs": [
    {
     "name": "stdout",
     "output_type": "stream",
     "text": [
      "12345\n",
      "67890\n"
     ]
    }
   ],
   "source": [
    "mystr = \"12345\\n67890\"\n",
    "print(mystr)"
   ]
  },
  {
   "cell_type": "code",
   "execution_count": 52,
   "id": "40d2553e-e3fc-486d-a044-458f155e6bbf",
   "metadata": {},
   "outputs": [
    {
     "name": "stdout",
     "output_type": "stream",
     "text": [
      "Assignment Concatenation: 1234567890\n",
      "In-Line Concatenation: 1234567890\n",
      "Self-Assignment Concatnation: 1234567890\n"
     ]
    }
   ],
   "source": [
    "mystr1 = \"12345\"\n",
    "mystr2 = \"67890\"\n",
    "mystr3 = mystr1 + mystr2\n",
    "print(\"Assignment Concatenation: \" + mystr3) \n",
    "print(\"In-Line Concatenation: \" + mystr1 + mystr2) \n",
    "mystr1 += mystr2\n",
    "print(\"Self-Assignment Concatnation: \" + mystr1)"
   ]
  },
  {
   "cell_type": "code",
   "execution_count": 66,
   "id": "598fdaf5-a3a8-4dd3-a4d7-ffd13a2075b7",
   "metadata": {},
   "outputs": [],
   "source": [
    "my_string = \"Hello\"\n",
    "my_string += \"!\"\n",
    "my_string = \"!\" + my_string\n",
    "my_string = \"?\" + my_string + \"?\"\n",
    "my_string += my_string"
   ]
  },
  {
   "cell_type": "code",
   "execution_count": 67,
   "id": "7dcccbc7-627a-46de-ad4f-2d498e4a9a62",
   "metadata": {},
   "outputs": [
    {
     "data": {
      "text/plain": [
       "'?!Hello!??!Hello!?'"
      ]
     },
     "execution_count": 67,
     "metadata": {},
     "output_type": "execute_result"
    }
   ],
   "source": [
    "my_string"
   ]
  },
  {
   "cell_type": "code",
   "execution_count": 68,
   "id": "7ab4d759-22a4-4d60-ad63-21f9f8740045",
   "metadata": {},
   "outputs": [
    {
     "name": "stdout",
     "output_type": "stream",
     "text": [
      "Loop iteration # 1 beginning now\n",
      "Loop iteration # 2 beginning now\n",
      "Loop iteration # 3 beginning now\n",
      "Loop iteration # 4 beginning now\n",
      "Loop iteration # 5 beginning now\n"
     ]
    }
   ],
   "source": [
    "for i in range(1, 6):\n",
    "    print(\"Loop iteration #\", i, \"beginning now\")"
   ]
  },
  {
   "cell_type": "code",
   "execution_count": 70,
   "id": "1181b42e-0c1b-4a82-904f-4138bcc6cccb",
   "metadata": {},
   "outputs": [
    {
     "name": "stdout",
     "output_type": "stream",
     "text": [
      "Loop iteration #1 beginning now\n",
      "Loop iteration #2 beginning now\n",
      "Loop iteration #3 beginning now\n",
      "Loop iteration #4 beginning now\n",
      "Loop iteration #5 beginning now\n"
     ]
    }
   ],
   "source": [
    "for i in range(1, 6):\n",
    "    printMessage = \"Loop iteration #\" + str(i) + \" beginning now\"\n",
    "    print(printMessage)"
   ]
  },
  {
   "cell_type": "code",
   "execution_count": 72,
   "id": "6c176f1a-3ee0-4148-ace4-a29cfaff5699",
   "metadata": {},
   "outputs": [
    {
     "name": "stdout",
     "output_type": "stream",
     "text": [
      "Loop iteration #1 beginning now\n",
      "Loop iteration #2 beginning now\n",
      "Loop iteration #3 beginning now\n",
      "Loop iteration #4 beginning now\n",
      "Loop iteration #5 beginning now\n"
     ]
    }
   ],
   "source": [
    "for i in range(1, 6):\n",
    "    printMessage = \" beginning now\"\n",
    "    printMessage = str(i) + printMessage\n",
    "    printMessage = \"Loop iteration #\" + printMessage\n",
    "    print(printMessage)"
   ]
  },
  {
   "cell_type": "code",
   "execution_count": 77,
   "id": "940e0db4-f4d9-4b8d-90de-aded0547a970",
   "metadata": {},
   "outputs": [
    {
     "name": "stdout",
     "output_type": "stream",
     "text": [
      "    CS1301\n"
     ]
    }
   ],
   "source": [
    "#-----------------------------------------------------------\n",
    "#Write a function called align_right. align_right should\n",
    "#take two parameters: a string (a_string) and an integer\n",
    "#(string_length), in that order.\n",
    "#\n",
    "#The function should return the same string with spaces\n",
    "#added to the left so that the text is \"right aligned\" in a\n",
    "#string. The number of spaces added should make the total\n",
    "#string length equal string_length.\n",
    "#\n",
    "#For example: align_right(\"CS1301\", 10) would return the\n",
    "#string \"    CS1301\". Four spaces are added to the left so\n",
    "#\"CS1301\" is right-aligned and the total string length is\n",
    "#10.\n",
    "#\n",
    "#HINT: Remember, len(a_string) will give you the number of\n",
    "#characters currently in a_string.\n",
    "\n",
    "\n",
    "#Add your function here!\n",
    "def align_right(a_string, string_length):\n",
    "    spaces = len(a_string)\n",
    "    totspaces = string_length - spaces \n",
    "    space = \" \" * totspaces\n",
    "    return space + a_string\n",
    "\n",
    "\n",
    "#Below are some lines of code that will test your function.\n",
    "#You can change the value of the variable(s) to test your\n",
    "#function with different inputs.\n",
    "#\n",
    "#If your function works correctly, this will originally\n",
    "#print: \"    CS1301\"\n",
    "print(align_right(\"CS1301\", 10))"
   ]
  },
  {
   "cell_type": "code",
   "execution_count": 78,
   "id": "b9d32a6c-c987-4119-af08-e638b3f48fe4",
   "metadata": {},
   "outputs": [
    {
     "name": "stdout",
     "output_type": "stream",
     "text": [
      "A\n"
     ]
    }
   ],
   "source": [
    "mystr = \"ABCDE\" \n",
    "print(mystr[0])"
   ]
  },
  {
   "cell_type": "code",
   "execution_count": 79,
   "id": "e6c6d968-db24-48fc-9ea7-3dcb3eabe537",
   "metadata": {},
   "outputs": [],
   "source": [
    "mystr = \"You-are-a-strange-loop\""
   ]
  },
  {
   "cell_type": "code",
   "execution_count": 83,
   "id": "b5124613-e05b-4f2f-aa27-297f8f7fbef9",
   "metadata": {},
   "outputs": [
    {
     "data": {
      "text/plain": [
       "'a'"
      ]
     },
     "execution_count": 83,
     "metadata": {},
     "output_type": "execute_result"
    }
   ],
   "source": [
    "mystr[13]"
   ]
  },
  {
   "cell_type": "code",
   "execution_count": 84,
   "id": "48693941-84ad-48e8-90f0-d81d867883ca",
   "metadata": {},
   "outputs": [
    {
     "name": "stdout",
     "output_type": "stream",
     "text": [
      "mysubstr: ABCDE\n"
     ]
    }
   ],
   "source": [
    "mystr = \"ABCDE\"\n",
    "mysubstr = \"\"\n",
    "\n",
    "for char in mystr:\n",
    "    mysubstr += char\n",
    "print(\"mysubstr: \" + mysubstr)"
   ]
  },
  {
   "cell_type": "code",
   "execution_count": 86,
   "id": "faaac721-fe11-4386-8cbc-929ec534b7b9",
   "metadata": {},
   "outputs": [
    {
     "name": "stdout",
     "output_type": "stream",
     "text": [
      "first three char: ABCDEABC\n"
     ]
    }
   ],
   "source": [
    "for i in range(0, 3):\n",
    "    mysubstr += mystr[i]\n",
    "print(\"first three char: \" + mysubstr)"
   ]
  },
  {
   "cell_type": "code",
   "execution_count": 88,
   "id": "6d10e905-4c2f-434e-9043-722f686f498b",
   "metadata": {},
   "outputs": [
    {
     "name": "stdout",
     "output_type": "stream",
     "text": [
      "first three char: ABC\n"
     ]
    }
   ],
   "source": [
    "mstr = \"ABCDE\"\n",
    "start = 0 \n",
    "end = 3\n",
    "print(\"first three char: \" + \\\n",
    "      mystr[start:end])"
   ]
  },
  {
   "cell_type": "code",
   "execution_count": 89,
   "id": "f03ce288-3c8a-4ebb-be74-791326449b6e",
   "metadata": {},
   "outputs": [],
   "source": [
    "mystr = \"You-are-a-strange-loop\""
   ]
  },
  {
   "cell_type": "code",
   "execution_count": 95,
   "id": "9cf9ac69-e13c-4564-8e7c-57e744d180b5",
   "metadata": {},
   "outputs": [
    {
     "data": {
      "text/plain": [
       "'You-are'"
      ]
     },
     "execution_count": 95,
     "metadata": {},
     "output_type": "execute_result"
    }
   ],
   "source": [
    "mystr[:7]"
   ]
  },
  {
   "cell_type": "code",
   "execution_count": 103,
   "id": "e74bbce0-a84a-42c8-a74e-3451c0ef1856",
   "metadata": {},
   "outputs": [
    {
     "name": "stdout",
     "output_type": "stream",
     "text": [
      "789\n",
      "saur\n",
      "1\n"
     ]
    }
   ],
   "source": [
    "#Write a function called \"last_n\" that accepts two arguments:\n",
    "#a string search_string and an integer n. The function should\n",
    "#return the last n characters from search_string. If\n",
    "#search_string is shorter than n characters, then it should\n",
    "#return the entire value of search_string.\n",
    "\n",
    "\n",
    "#Write your function here!\n",
    "def last_n(search_string, n):\n",
    "    if len(search_string) > n: \n",
    "        return search_string[-n:]\n",
    "    else:\n",
    "        return search_string\n",
    "\n",
    "\n",
    "#The code below will test your function. If your function\n",
    "#works correctly, this should print 789, saur, and 1.\n",
    "print(last_n(\"123456789\", 3))\n",
    "print(last_n(\"Bulbasaur\", 4))\n",
    "print(last_n(\"1\", 5))\n"
   ]
  },
  {
   "cell_type": "code",
   "execution_count": 104,
   "id": "1248260d-4396-4483-97c7-489953f512e7",
   "metadata": {},
   "outputs": [],
   "source": [
    "mystr = \"You-are-a-strange-loop\""
   ]
  },
  {
   "cell_type": "code",
   "execution_count": 105,
   "id": "81fd38e6-ad48-462d-a158-2022ba781a43",
   "metadata": {},
   "outputs": [
    {
     "data": {
      "text/plain": [
       "'p'"
      ]
     },
     "execution_count": 105,
     "metadata": {},
     "output_type": "execute_result"
    }
   ],
   "source": [
    "mystr[-1]"
   ]
  },
  {
   "cell_type": "code",
   "execution_count": 111,
   "id": "93c97686-cb95-433b-adf4-0747fa47587f",
   "metadata": {},
   "outputs": [
    {
     "data": {
      "text/plain": [
       "'-a-strange'"
      ]
     },
     "execution_count": 111,
     "metadata": {},
     "output_type": "execute_result"
    }
   ],
   "source": [
    "mystr[-15:-5]"
   ]
  },
  {
   "cell_type": "code",
   "execution_count": 118,
   "id": "29b599a3-08fb-4a9a-9a70-700ed97783ff",
   "metadata": {},
   "outputs": [
    {
     "name": "stdout",
     "output_type": "stream",
     "text": [
      "abcd -> cdab\n",
      "abcde -> cdeab\n",
      "railroad -> roadrail\n",
      "fireworks -> worksfire\n"
     ]
    }
   ],
   "source": [
    "#Write a function called \"scramble\" that accepts a string\n",
    "#as an argument and returns a new string. The new string \n",
    "#should start with the last half of the original string\n",
    "#and end with the first half. \n",
    "#\n",
    "#If the length of the string is odd, split the string \n",
    "#at the floor of the length / 2 (in other words, the second\n",
    "#half is the longer half).\n",
    "#\n",
    "#For example:\n",
    "#  scramble(\"abcd\") -> \"cdab\"\n",
    "#  screamble(\"abcde\") -> \"cdeab\"\n",
    "#  scramble(\"railroad\")) -> \"roadrail\"\n",
    "#  scramble(\"fireworks\")) -> \"worksfire\"\n",
    "\n",
    "\n",
    "#Write your function here!\n",
    "def scramble(string):\n",
    "    return string[(len(string) // 2):] + string[:(len(string) // 2)]\n",
    "\n",
    "\n",
    "#Below are some lines of code that will test your function.\n",
    "#You can change the value of the variable(s) to test your\n",
    "#function with different inputs.\n",
    "#\n",
    "#If your function works correctly, this will originally\n",
    "#print the results you see in the examples above.\n",
    "\n",
    "string1 = \"abcd\"\n",
    "string2 = \"abcde\"\n",
    "string3 = \"railroad\"\n",
    "string4 = \"fireworks\"\n",
    "print(string1 + \" -> \" + scramble(string1))\n",
    "print(string2 + \" -> \" + scramble(string2))\n",
    "print(string3 + \" -> \" + scramble(string3))\n",
    "print(string4 + \" -> \" + scramble(string4))"
   ]
  },
  {
   "cell_type": "code",
   "execution_count": 119,
   "id": "e1bf995b-3f86-4d5d-a61d-9938ddaf57dd",
   "metadata": {},
   "outputs": [
    {
     "name": "stdout",
     "output_type": "stream",
     "text": [
      "BC was found!\n",
      "GH was not found!\n"
     ]
    }
   ],
   "source": [
    "mystr = \"ABCDE\"\n",
    "if \"BC\" in mystr:\n",
    "    print(\"BC was found!\")\n",
    "else:\n",
    "    print(\"BC was not found!\") \n",
    "if \"GH\" in mystr:\n",
    "    print(\"GH was found!\") \n",
    "else:\n",
    "    print(\"GH was not found!\")"
   ]
  },
  {
   "cell_type": "code",
   "execution_count": null,
   "id": "6037835a-2242-4bf5-8987-55766e282685",
   "metadata": {},
   "outputs": [],
   "source": []
  }
 ],
 "metadata": {
  "kernelspec": {
   "display_name": "Python 3 (ipykernel)",
   "language": "python",
   "name": "python3"
  },
  "language_info": {
   "codemirror_mode": {
    "name": "ipython",
    "version": 3
   },
   "file_extension": ".py",
   "mimetype": "text/x-python",
   "name": "python",
   "nbconvert_exporter": "python",
   "pygments_lexer": "ipython3",
   "version": "3.9.12"
  }
 },
 "nbformat": 4,
 "nbformat_minor": 5
}
