{
 "cells": [
  {
   "cell_type": "markdown",
   "id": "3674766f-8491-4b05-abe2-ad718711e836",
   "metadata": {},
   "source": [
    "## Conditionals"
   ]
  },
  {
   "cell_type": "code",
   "execution_count": 4,
   "id": "825e6b8b-6299-401c-b1e2-4e42cca780f6",
   "metadata": {},
   "outputs": [
    {
     "name": "stdout",
     "output_type": "stream",
     "text": [
      "Hi\n"
     ]
    }
   ],
   "source": [
    "x = 5\n",
    "\n",
    "if x >= 10:\n",
    "    print(\"Big number!\")\n",
    "#elif:\n",
    "    #print(\"Small number.\")\n",
    "else:\n",
    "    print(\"Hi\")"
   ]
  },
  {
   "cell_type": "code",
   "execution_count": 5,
   "id": "4fa15428-8632-4f2b-8ae8-9d63b4c7d3fa",
   "metadata": {},
   "outputs": [
    {
     "ename": "NameError",
     "evalue": "name 'result' is not defined",
     "output_type": "error",
     "traceback": [
      "\u001b[0;31m---------------------------------------------------------------------------\u001b[0m",
      "\u001b[0;31mNameError\u001b[0m                                 Traceback (most recent call last)",
      "Input \u001b[0;32mIn [5]\u001b[0m, in \u001b[0;36m<cell line: 6>\u001b[0;34m()\u001b[0m\n\u001b[1;32m      4\u001b[0m \u001b[38;5;28;01melif\u001b[39;00m x \u001b[38;5;241m>\u001b[39m\u001b[38;5;241m=\u001b[39m \u001b[38;5;241m150\u001b[39m:\n\u001b[1;32m      5\u001b[0m     result \u001b[38;5;241m=\u001b[39m \u001b[38;5;124m\"\u001b[39m\u001b[38;5;124mThis is a huge number!\u001b[39m\u001b[38;5;124m\"\u001b[39m\n\u001b[0;32m----> 6\u001b[0m \u001b[38;5;28mprint\u001b[39m(\u001b[43mresult\u001b[49m)\n",
      "\u001b[0;31mNameError\u001b[0m: name 'result' is not defined"
     ]
    }
   ],
   "source": [
    "x = 30 \n",
    "if x >= 100:\n",
    "    result = \"This is a big number!\"\n",
    "elif x >= 150:\n",
    "    result = \"This is a huge number!\"\n",
    "print(result)"
   ]
  },
  {
   "cell_type": "code",
   "execution_count": 9,
   "id": "e4ea71ee-0e15-428a-a28c-5e63f13bb11a",
   "metadata": {},
   "outputs": [
    {
     "name": "stdout",
     "output_type": "stream",
     "text": [
      "candy\n"
     ]
    }
   ],
   "source": [
    "years = 0\n",
    "months = 3\n",
    "days = 13\n",
    "\n",
    "#You may modify the lines of code above, but don't move them!\n",
    "#When you Submit your code, we'll change these lines to\n",
    "#assign different values to the variables.\n",
    "\n",
    "#Ever been at a loss for what to do for your significant\n",
    "#other for Valentine's Day? Let's right some code to generate\n",
    "#a gift recommendation!\n",
    "#\n",
    "#The variables above give the length of the relationship in\n",
    "#number of years, months, and days. Add some code below to\n",
    "#print a gift recommendation based on these values:\n",
    "#\n",
    "# - If you've been dating for at least 4 years, give them a\n",
    "#   dog (\"dog\").\n",
    "# - If you've been dating for at least 1 year but less than\n",
    "#   4 years, give them a watch (\"watch\").\n",
    "# - If you've been dating for at least 6 months but less than\n",
    "#   1 year, give them concert tickets (\"concert tickets\").\n",
    "# - If you've been dating for at least a day but less than 6\n",
    "#   months, give them candy (\"candy\").\n",
    "# - If aren't actually dating, go big or go home: give them\n",
    "#   a yacht to sail away together (\"yacht\").\n",
    "#\n",
    "#Note that no matter what, you should only print one gift.\n",
    "\n",
    "\n",
    "#Add your code here!\n",
    "\n",
    "# - If you've been dating for at least 4 years, give them a\n",
    "#   dog (\"dog\").\n",
    "\n",
    "if years >= 4:\n",
    "    print(\"dog\")\n",
    "\n",
    "# - If you've been dating for at least 1 year but less than\n",
    "#   4 years, give them a watch (\"watch\").\n",
    "else:\n",
    "    if years >= 1 and years < 4:\n",
    "        print(\"watch\")\n",
    "\n",
    "# - If you've been dating for at least 6 months but less than\n",
    "#   1 year, give them concert tickets (\"concert tickets\").\n",
    "    else: \n",
    "        if months >= 6 and months < 12 and years <= 0: \n",
    "            print(\"concert tickets\") \n",
    "\n",
    "# - If you've been dating for at least a day but less than 6\n",
    "#   months, give them candy (\"candy\").\n",
    "\n",
    "        else: \n",
    "            if days == 0 and months < 6 and months != 0 and years == 0:\n",
    "               print(\"candy\") \n",
    "            else:\n",
    "                if days > 0 and months == 0 and years == 0:\n",
    "                    print(\"candy\") \n",
    "                else:\n",
    "                    if days > 0 and months < 6 and years == 0:\n",
    "                        print(\"candy\") \n",
    "# - If aren't actually dating, go big or go home: give them\n",
    "#   a yacht to sail away together (\"yacht\").\n",
    "\n",
    "                    else:\n",
    "                        if days == 0 and months == 0 and years == 0: \n",
    "                            print(\"yacht\") "
   ]
  },
  {
   "cell_type": "code",
   "execution_count": null,
   "id": "dbb14af0-5db5-4622-bfe6-921fd848e4ee",
   "metadata": {},
   "outputs": [],
   "source": []
  }
 ],
 "metadata": {
  "kernelspec": {
   "display_name": "Python 3 (ipykernel)",
   "language": "python",
   "name": "python3"
  },
  "language_info": {
   "codemirror_mode": {
    "name": "ipython",
    "version": 3
   },
   "file_extension": ".py",
   "mimetype": "text/x-python",
   "name": "python",
   "nbconvert_exporter": "python",
   "pygments_lexer": "ipython3",
   "version": "3.9.12"
  }
 },
 "nbformat": 4,
 "nbformat_minor": 5
}
