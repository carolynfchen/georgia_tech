{
 "cells": [
  {
   "cell_type": "markdown",
   "id": "7a59976a-7747-4ef6-9d88-42257bfdd380",
   "metadata": {},
   "source": [
    "## Exception Handling"
   ]
  },
  {
   "cell_type": "markdown",
   "id": "33cd2cc2-7b42-41b0-a4ff-77e3550fbe0d",
   "metadata": {},
   "source": [
    "Try: marks a block of code to attempt, but in which we anticipate an error might arise \n",
    "\n",
    "Catch: names the errors to anticipate, and marks a block of code to run if an anticipated error erises\n",
    "\n",
    "Finally: marks a block of code to run after the above two blocks no matter what"
   ]
  },
  {
   "cell_type": "code",
   "execution_count": 2,
   "id": "2b77dc4a-353d-4cc6-876f-37e26d013f80",
   "metadata": {},
   "outputs": [
    {
     "name": "stdout",
     "output_type": "stream",
     "text": [
      "Converting myString to int...\n",
      "Done!\n"
     ]
    }
   ],
   "source": [
    "myString = \"This string is not a number!\"\n",
    "\n",
    "try:\n",
    "    print(\"Converting myString to int...\") \n",
    "    myInt = int(myString)\n",
    "    print(myInt) \n",
    "except:\n",
    "    pass\n",
    "print(\"Done!\") "
   ]
  },
  {
   "cell_type": "code",
   "execution_count": 4,
   "id": "df2b5b6d-ce45-4771-86ad-50930f9811dc",
   "metadata": {},
   "outputs": [
    {
     "name": "stdout",
     "output_type": "stream",
     "text": [
      "Done!\n"
     ]
    }
   ],
   "source": [
    "try:\n",
    "    my_var = 1 / 0 \n",
    "    print(\"An error occurred!\") \n",
    "except:\n",
    "    pass\n",
    "print(\"Done!\")"
   ]
  },
  {
   "cell_type": "code",
   "execution_count": 5,
   "id": "3453d6b3-22a3-4553-b46e-3bd0d2ddaf6e",
   "metadata": {},
   "outputs": [
    {
     "name": "stdout",
     "output_type": "stream",
     "text": [
      "Converting myString to int...\n",
      "Can't convert; myString not a number.\n",
      "Done!\n"
     ]
    }
   ],
   "source": [
    "myString = \"This string is not a number!\"\n",
    "\n",
    "try: \n",
    "    print(\"Converting myString to int...\")\n",
    "    myInt = int(myString)\n",
    "    print(myInt)\n",
    "except:\n",
    "    print(\"Can't convert; myString not a number.\")\n",
    "print(\"Done!\")"
   ]
  },
  {
   "cell_type": "code",
   "execution_count": 7,
   "id": "d0e87849-8dad-401a-a1b1-c5f06d2a81ba",
   "metadata": {},
   "outputs": [
    {
     "name": "stdout",
     "output_type": "stream",
     "text": [
      "Not possible\n"
     ]
    }
   ],
   "source": [
    "mystery_value = \"9\"\n",
    "\n",
    "#You may modify the lines of code above, but don't move them!\n",
    "#When you Submit your code, we'll change these lines to\n",
    "#assign different values to the variables.\n",
    "\n",
    "#Create a program that divides 10 by mystery_value and prints\n",
    "#the result. In the case that an error occurs, print \"Not\n",
    "#possible\".\n",
    "#\n",
    "#Use error handling to determine if an error will occur; do\n",
    "#not use the type() function. You might be surprised how many\n",
    "#types Python can divide by 10!\n",
    "\n",
    "\n",
    "#Add your code here!\n",
    "try: \n",
    "    div = mystery_value / 10 \n",
    "    print(div)\n",
    "except:\n",
    "    print(\"Not possible\") \n",
    "    "
   ]
  },
  {
   "cell_type": "code",
   "execution_count": 8,
   "id": "187894c1-bc95-4917-9455-86f4d567a259",
   "metadata": {},
   "outputs": [
    {
     "name": "stdout",
     "output_type": "stream",
     "text": [
      "Converting myString to int\n",
      "invalid literal for int() with base 10: 'This string is not a number!'\n",
      "Done!\n"
     ]
    }
   ],
   "source": [
    "myString = \"This string is not a number!\"\n",
    "\n",
    "try: \n",
    "    print(\"Converting myString to int\") \n",
    "    myInt = int(myString) \n",
    "    print(myInt) \n",
    "except ValueError as error: \n",
    "    print(error) \n",
    "print(\"Done!\")"
   ]
  },
  {
   "cell_type": "code",
   "execution_count": 9,
   "id": "174281d5-3702-4f27-822e-64608813eb4d",
   "metadata": {},
   "outputs": [
    {
     "name": "stdout",
     "output_type": "stream",
     "text": [
      "An error occurred!\n",
      "Done!\n"
     ]
    }
   ],
   "source": [
    "try:\n",
    "    print(1 / 0) \n",
    "    print(\"No error occured!\") \n",
    "except ZeroDivisionError:\n",
    "    print(\"An error occurred!\")\n",
    "print(\"Done!\")"
   ]
  },
  {
   "cell_type": "code",
   "execution_count": 10,
   "id": "8deb3688-d130-4333-a218-fda1ad973763",
   "metadata": {},
   "outputs": [
    {
     "ename": "ZeroDivisionError",
     "evalue": "division by zero",
     "output_type": "error",
     "traceback": [
      "\u001b[0;31m---------------------------------------------------------------------------\u001b[0m",
      "\u001b[0;31mZeroDivisionError\u001b[0m                         Traceback (most recent call last)",
      "Input \u001b[0;32mIn [10]\u001b[0m, in \u001b[0;36m<cell line: 1>\u001b[0;34m()\u001b[0m\n\u001b[1;32m      1\u001b[0m \u001b[38;5;28;01mtry\u001b[39;00m:\n\u001b[0;32m----> 2\u001b[0m     \u001b[38;5;28mprint\u001b[39m(\u001b[38;5;241;43m1\u001b[39;49m\u001b[43m \u001b[49m\u001b[38;5;241;43m/\u001b[39;49m\u001b[43m \u001b[49m\u001b[38;5;241;43m0\u001b[39;49m) \n\u001b[1;32m      3\u001b[0m     \u001b[38;5;28mprint\u001b[39m(\u001b[38;5;124m\"\u001b[39m\u001b[38;5;124mNo error occurred!\u001b[39m\u001b[38;5;124m\"\u001b[39m) \n\u001b[1;32m      4\u001b[0m \u001b[38;5;28;01mexcept\u001b[39;00m \u001b[38;5;167;01mNameError\u001b[39;00m: \n",
      "\u001b[0;31mZeroDivisionError\u001b[0m: division by zero"
     ]
    }
   ],
   "source": [
    "try:\n",
    "    print(1 / 0) \n",
    "    print(\"No error occurred!\") \n",
    "except NameError: \n",
    "    print(\"An error occurred!\") \n",
    "print(\"Done!\")"
   ]
  },
  {
   "cell_type": "code",
   "execution_count": 11,
   "id": "8c218f67-a35d-4250-be70-5ab3c05759e2",
   "metadata": {},
   "outputs": [
    {
     "name": "stdout",
     "output_type": "stream",
     "text": [
      "1.1111111111111112\n"
     ]
    }
   ],
   "source": [
    "mystery_value = 9\n",
    "\n",
    "#You may modify the lines of code above, but don't move them!\n",
    "#When you Submit your code, we'll change these lines to\n",
    "#assign different values to the variables.\n",
    "\n",
    "#Create a program that divides 10 by mystery_value and prints\n",
    "#the result. In the case that mystery_value is equal to 0,\n",
    "#print \"Not possible\". Do not catch any other errors. This\n",
    "#means there will be an uncaught error in the correct answer!\n",
    "#\n",
    "#You may not use any conditionals or the type() function.\n",
    "\n",
    "#Add your code here!\n",
    "try: \n",
    "    div = 10 / mystery_value\n",
    "    print(div)\n",
    "except ZeroDivisionError:\n",
    "    print(\"Not possible\") \n",
    "    "
   ]
  },
  {
   "cell_type": "code",
   "execution_count": 66,
   "id": "42229fee-d113-409f-b332-2186013019f6",
   "metadata": {},
   "outputs": [
    {
     "name": "stdout",
     "output_type": "stream",
     "text": [
      "Converting myString to int...\n"
     ]
    },
    {
     "ename": "ZeroDivisionError",
     "evalue": "division by zero",
     "output_type": "error",
     "traceback": [
      "\u001b[0;31m---------------------------------------------------------------------------\u001b[0m",
      "\u001b[0;31mZeroDivisionError\u001b[0m                         Traceback (most recent call last)",
      "Input \u001b[0;32mIn [66]\u001b[0m, in \u001b[0;36m<cell line: 3>\u001b[0;34m()\u001b[0m\n\u001b[1;32m      3\u001b[0m \u001b[38;5;28;01mtry\u001b[39;00m:\n\u001b[1;32m      4\u001b[0m     \u001b[38;5;28mprint\u001b[39m(\u001b[38;5;124m\"\u001b[39m\u001b[38;5;124mConverting myString to int...\u001b[39m\u001b[38;5;124m\"\u001b[39m) \n\u001b[0;32m----> 5\u001b[0m     \u001b[38;5;28mprint\u001b[39m(\u001b[38;5;241;43m1\u001b[39;49m\u001b[43m \u001b[49m\u001b[38;5;241;43m/\u001b[39;49m\u001b[43m \u001b[49m\u001b[38;5;241;43m0\u001b[39;49m)\n\u001b[1;32m      6\u001b[0m     \u001b[38;5;28mprint\u001b[39m(\u001b[38;5;124m\"\u001b[39m\u001b[38;5;124mString #\u001b[39m\u001b[38;5;124m\"\u001b[39m \u001b[38;5;241m+\u001b[39m \u001b[38;5;241m1\u001b[39m \u001b[38;5;241m+\u001b[39m \u001b[38;5;124m\"\u001b[39m\u001b[38;5;124m: \u001b[39m\u001b[38;5;124m\"\u001b[39m \u001b[38;5;241m+\u001b[39m myString) \n\u001b[1;32m      7\u001b[0m     myInt \u001b[38;5;241m=\u001b[39m \u001b[38;5;28mint\u001b[39m(myString) \n",
      "\u001b[0;31mZeroDivisionError\u001b[0m: division by zero"
     ]
    }
   ],
   "source": [
    "myString = \"This string is not a number!\"\n",
    "\n",
    "try:\n",
    "    print(\"Converting myString to int...\") \n",
    "    print(1 / 0)\n",
    "    print(\"String #\" + 1 + \": \" + myString) \n",
    "    myInt = int(myString) \n",
    "    print(myInt) \n",
    "except ValueError as error:\n",
    "    print(error) \n",
    "except TypeError as error:\n",
    "    print(error)\n",
    "print(\"Done!\")"
   ]
  },
  {
   "cell_type": "code",
   "execution_count": 2,
   "id": "f0306588-bca3-41fc-9e77-0857a3fe86a8",
   "metadata": {},
   "outputs": [
    {
     "name": "stdout",
     "output_type": "stream",
     "text": [
      "A ZeroDivisionError occurred!\n",
      "Done!\n"
     ]
    }
   ],
   "source": [
    "try: \n",
    "    print(1 / 0) \n",
    "    print(\"No error occurred!\") \n",
    "except NameError: \n",
    "    print(\"A NameError occurred!\") \n",
    "except ZeroDivisionError:\n",
    "    print(\"A ZeroDivisionError occurred!\") \n",
    "print(\"Done!\") "
   ]
  },
  {
   "cell_type": "code",
   "execution_count": 3,
   "id": "bfef0b3b-861d-4c91-8c4c-e61eecf7dd14",
   "metadata": {},
   "outputs": [
    {
     "name": "stdout",
     "output_type": "stream",
     "text": [
      "A NameError occurred!\n",
      "Done!\n"
     ]
    }
   ],
   "source": [
    "try:\n",
    "    print(undeclared_variable)\n",
    "    print(1 / 0) \n",
    "    print(\"No error occurred!\") \n",
    "except NameError:\n",
    "    print(\"A NameError occurred!\") \n",
    "except ZeroDivisionError:\n",
    "    print(\"A ZeroDivisionError occurred!\") \n",
    "print(\"Done!\")"
   ]
  },
  {
   "cell_type": "code",
   "execution_count": 4,
   "id": "304257b0-a6a5-4ba6-b05f-b9a7afb4049d",
   "metadata": {},
   "outputs": [
    {
     "name": "stdout",
     "output_type": "stream",
     "text": [
      "1.1111111111111112\n",
      "No error occurred!\n",
      "Done!\n"
     ]
    }
   ],
   "source": [
    "mystery_value = 9\n",
    "\n",
    "#You may modify the lines of code above, but don't move them!\n",
    "#When you Submit your code, we'll change these lines to\n",
    "#assign different values to the variables.\n",
    "\n",
    "#Create a program that divides 10 by mystery_value and \n",
    "#prints the result. In the case that mystery_value is \n",
    "#equal to 0, print \"Can't divide by zero\". If for any other\n",
    "#reason the operation fails, print \"Not possible\".\n",
    "#\n",
    "#You may not use any conditionals or the type() function.\n",
    "\n",
    "\n",
    "#Add your code here!\n",
    "try: \n",
    "    print(10 / mystery_value) \n",
    "    #print(\"No error occurred!\") \n",
    "except ZeroDivisionError:\n",
    "    print(\"Can't divide by zero\")\n",
    "except:\n",
    "    print(\"Not possible\")\n",
    "#print(\"Done!\") "
   ]
  },
  {
   "cell_type": "code",
   "execution_count": 6,
   "id": "6f67664b-4162-4790-b4c0-35be9efc69fe",
   "metadata": {},
   "outputs": [
    {
     "name": "stdout",
     "output_type": "stream",
     "text": [
      "Converting myString to int...\n",
      "1\n",
      "No errors occurred!\n",
      "Done!\n"
     ]
    }
   ],
   "source": [
    "myString = \"1\"\n",
    "try:\n",
    "    print(\"Converting myString to int...\")\n",
    "    myInt = int(myString)\n",
    "    print(myInt)\n",
    "except (ValueError, TypeError) as error:\n",
    "    print(\"A ValueError or TypeError occurred.\") \n",
    "except Exception as error:\n",
    "    print(\"Some other type of error occurred.\") \n",
    "else:\n",
    "    print(\"No errors occurred!\") \n",
    "print(\"Done!\") "
   ]
  },
  {
   "cell_type": "code",
   "execution_count": 9,
   "id": "fcc18580-9c40-4dec-9128-aaac867b1c65",
   "metadata": {},
   "outputs": [
    {
     "name": "stdin",
     "output_type": "stream",
     "text": [
      "Enter dividend:  5\n",
      "Enter divisor:  1\n"
     ]
    },
    {
     "name": "stdout",
     "output_type": "stream",
     "text": [
      "The quotient was 5.0\n",
      "Done!\n"
     ]
    }
   ],
   "source": [
    "dividend = int(input(\"Enter dividend: \"))\n",
    "divisor = int(input(\"Enter divisor: \"))\n",
    "\n",
    "try:\n",
    "    quotient = dividend / divisor \n",
    "    print(\"The quotient was\", quotient) \n",
    "except ZeroDivisionError:\n",
    "    print(\"We can't divide by 0!\")\n",
    "print(\"Done!\")"
   ]
  },
  {
   "cell_type": "code",
   "execution_count": 10,
   "id": "b8276a76-6519-44c4-911b-99b806991051",
   "metadata": {},
   "outputs": [
    {
     "ename": "FileNotFoundError",
     "evalue": "[Errno 2] No such file or directory: 'NumberFile.txt'",
     "output_type": "error",
     "traceback": [
      "\u001b[0;31m---------------------------------------------------------------------------\u001b[0m",
      "\u001b[0;31mFileNotFoundError\u001b[0m                         Traceback (most recent call last)",
      "Input \u001b[0;32mIn [10]\u001b[0m, in \u001b[0;36m<cell line: 1>\u001b[0;34m()\u001b[0m\n\u001b[0;32m----> 1\u001b[0m inputFile \u001b[38;5;241m=\u001b[39m \u001b[38;5;28;43mopen\u001b[39;49m\u001b[43m(\u001b[49m\u001b[38;5;124;43m\"\u001b[39;49m\u001b[38;5;124;43mNumberFile.txt\u001b[39;49m\u001b[38;5;124;43m\"\u001b[39;49m\u001b[43m,\u001b[49m\u001b[43m \u001b[49m\u001b[43mmode\u001b[49m\u001b[43m \u001b[49m\u001b[38;5;241;43m=\u001b[39;49m\u001b[43m \u001b[49m\u001b[38;5;124;43m\"\u001b[39;49m\u001b[38;5;124;43mr\u001b[39;49m\u001b[38;5;124;43m\"\u001b[39;49m\u001b[43m)\u001b[49m\n\u001b[1;32m      2\u001b[0m \u001b[38;5;28;01mtry\u001b[39;00m:\n\u001b[1;32m      3\u001b[0m     \u001b[38;5;28;01mfor\u001b[39;00m line \u001b[38;5;129;01min\u001b[39;00m inputFile:\n",
      "\u001b[0;31mFileNotFoundError\u001b[0m: [Errno 2] No such file or directory: 'NumberFile.txt'"
     ]
    }
   ],
   "source": [
    "inputFile = open(\"NumberFile.txt\", mode = \"r\")\n",
    "try:\n",
    "    for line in inputFile:\n",
    "        print(int(line))\n",
    "except ValueError as error:\n",
    "    print(\"A value error occurred!\") \n",
    "else:\n",
    "    print(\"No errors occurred!\") \n",
    "finally:\n",
    "    inputFile.close()"
   ]
  },
  {
   "cell_type": "markdown",
   "id": "467e4dd7-be17-4100-8f02-732c64581fae",
   "metadata": {},
   "source": [
    "## finally block\n",
    "if there is a *finally* block, the code inside the finally block will still run, even if there is an error (that was not caught) before that - the code won't crash"
   ]
  },
  {
   "cell_type": "code",
   "execution_count": 11,
   "id": "95c52f32-f1d3-465f-b817-52c23ff9e2d3",
   "metadata": {},
   "outputs": [
    {
     "name": "stdout",
     "output_type": "stream",
     "text": [
      "An input error occurred!\n"
     ]
    }
   ],
   "source": [
    "try:\n",
    "    #Open InputFile.txt in read-only mode\n",
    "    input_file = open(\"InputFile.txt\", mode = \"r\")\n",
    "    #For each line in the file\n",
    "    for line in input_file:\n",
    "        #Print the line\n",
    "        print(line)\n",
    "    #Close the file\n",
    "    input_file.close()\n",
    "#Catch an IOError\n",
    "except IOError as error:\n",
    "    print(\"An input error occurred!\")"
   ]
  },
  {
   "cell_type": "code",
   "execution_count": 22,
   "id": "11b07c0b-2a67-4066-b920-e463eaa907a9",
   "metadata": {},
   "outputs": [
    {
     "data": {
      "text/plain": [
       "False"
      ]
     },
     "execution_count": 22,
     "metadata": {},
     "output_type": "execute_result"
    }
   ],
   "source": [
    "def has_a_vowel(a_str):\n",
    "    for letter in a_str:\n",
    "        if letter in \"aeiou\":\n",
    "            return True\n",
    "        else:\n",
    "            return False\n",
    "\n",
    "has_a_vowel(\"!@#$?!?!\")"
   ]
  },
  {
   "cell_type": "code",
   "execution_count": 29,
   "id": "4de99682-0ef6-4171-9684-a41c3499a308",
   "metadata": {},
   "outputs": [
    {
     "name": "stdout",
     "output_type": "stream",
     "text": [
      "Starting...\n",
      "Done!\n"
     ]
    }
   ],
   "source": [
    "def has_a_vowel(a_str):\n",
    "     print(\"Starting...\")\n",
    "     for letter in a_str:\n",
    "         print(\"Checking\", letter)\n",
    "         if letter in \"aeiou\":\n",
    "             print(letter, \"is a vowel, returning True\")\n",
    "             return True\n",
    "         else:\n",
    "             print(letter, \"is not a vowel, returning False\")\n",
    "             return False\n",
    "     print(\"Done!\")\n",
    "    \n",
    "has_a_vowel(\"\")"
   ]
  },
  {
   "cell_type": "code",
   "execution_count": 40,
   "id": "970b5527-3330-4138-b793-b644d6c733a1",
   "metadata": {},
   "outputs": [
    {
     "name": "stdout",
     "output_type": "stream",
     "text": [
      "True\n",
      "True\n",
      "False\n",
      "False\n"
     ]
    }
   ],
   "source": [
    "#Write a function called has_a_vowel. has_a_vowel should have\n",
    "#one parameter, a string. It should return True if the string\n",
    "#has any vowels in it, False if it does not.\n",
    "\n",
    "\n",
    "def has_a_vowel(a_str):\n",
    "    for letter in a_str:\n",
    "        if letter in \"aeiou\":\n",
    "            return True\n",
    "    else:\n",
    "        return False\n",
    "    \n",
    "#Below are some lines of code that will test your function.\n",
    "#You can change the value of the variable(s) to test your\n",
    "#function with different inputs.\n",
    "#\n",
    "#If your function works correctly, this will originally\n",
    "#print: True, then True, then False, then False, each on\n",
    "#its own line.\n",
    "print(has_a_vowel(\"abba\"))\n",
    "print(has_a_vowel(\"beeswax\"))\n",
    "print(has_a_vowel(\"syzygy\"))\n",
    "print(has_a_vowel(\"\"))"
   ]
  },
  {
   "cell_type": "code",
   "execution_count": 42,
   "id": "0cca3061-919d-4d82-ac1c-32f056c8cf49",
   "metadata": {},
   "outputs": [
    {
     "name": "stdout",
     "output_type": "stream",
     "text": [
      "1.0\n",
      "2.0\n",
      "We can't divide by 0!\n",
      "-2.0\n",
      "-1.0\n"
     ]
    }
   ],
   "source": [
    "for i in range(2, -3, -1):\n",
    "    try:\n",
    "        print(2 / i)\n",
    "    except ZeroDivisionError:\n",
    "        print(\"We can't divide by 0!\")"
   ]
  },
  {
   "cell_type": "code",
   "execution_count": 44,
   "id": "9783256d-6f33-4fd5-9f28-a4b47b6b9e32",
   "metadata": {},
   "outputs": [
    {
     "name": "stdout",
     "output_type": "stream",
     "text": [
      "1.0\n",
      "2.0\n",
      "We can't divide by 0!\n"
     ]
    }
   ],
   "source": [
    "try:\n",
    "    for i in range(2, -3, -1):\n",
    "        print(2 / i)\n",
    "except ZeroDivisionError:\n",
    "    print(\"We can't divide by 0!\")"
   ]
  },
  {
   "cell_type": "code",
   "execution_count": 46,
   "id": "9d4dcee7-ed46-4fa3-a717-1e8fae2a7161",
   "metadata": {},
   "outputs": [
    {
     "name": "stdout",
     "output_type": "stream",
     "text": [
      "-1.6666666666666667\n",
      "-2.5\n",
      "-5.0\n"
     ]
    }
   ],
   "source": [
    "#Right now, the code below will encounter an error when num\n",
    "#is 0, but it will not print anything when it does, and then\n",
    "#it will keep running for num = 1, num = 2, and num = 3\n",
    "#afterwards. Modify this code so that once it hits an error,\n",
    "#the loop stops altogether.\n",
    "#\n",
    "#You still should not print anything when the error is\n",
    "#encountered, and the loop definition on line 10 should not\n",
    "#be changed.\n",
    "try:\n",
    "    for num in range(-3, 3):\n",
    "        print(5 / num)\n",
    "except:\n",
    "    pass"
   ]
  },
  {
   "cell_type": "code",
   "execution_count": 47,
   "id": "f51f3466-c2ec-4746-9afb-33d0aa0ef827",
   "metadata": {},
   "outputs": [
    {
     "name": "stdout",
     "output_type": "stream",
     "text": [
      "About to encounter an error...\n",
      "division by zero\n",
      "We just encountered an error!\n"
     ]
    }
   ],
   "source": [
    "def divideByZero():\n",
    "    try:\n",
    "        print(1 / 0)\n",
    "    except Exception as error:\n",
    "        print(error)\n",
    "print(\"About to encounter an error...\")\n",
    "divideByZero()\n",
    "print(\"We just encountered an error!\")"
   ]
  },
  {
   "cell_type": "code",
   "execution_count": 48,
   "id": "9f0aa1ce-a8ea-4ec0-8256-3b8b9f009f83",
   "metadata": {},
   "outputs": [
    {
     "name": "stdout",
     "output_type": "stream",
     "text": [
      "About to encounter an error...\n",
      "division by zero\n",
      "We just encountered an error!\n"
     ]
    }
   ],
   "source": [
    "def divideByZero():\n",
    "    print(1 / 0)\n",
    "print(\"About to encounter an error...\")\n",
    "try:\n",
    "    divideByZero()\n",
    "except Exception as error:\n",
    "    print(error)\n",
    "print(\"We just encountered an error!\")"
   ]
  },
  {
   "cell_type": "code",
   "execution_count": 51,
   "id": "dbf135c9-5e02-4da4-9e3a-cd0473fd605f",
   "metadata": {},
   "outputs": [
    {
     "name": "stdout",
     "output_type": "stream",
     "text": [
      "5\n",
      "Cannot convert!\n",
      "5\n"
     ]
    }
   ],
   "source": [
    "#Write a function called get_integer that takes as input one\n",
    "#variable, my_var. If my_var can be converted to an integer,\n",
    "#do so and return that integer. If my_var cannot be converted\n",
    "#to an integer, return a message that says, \"Cannot convert!\"\n",
    "#\n",
    "#For example, for \"5\" as the value of my_var, get_integer would\n",
    "#return the integer 5. If the value of my_var is the string\n",
    "#\"Boggle.\", then get_integer would return a string with the\n",
    "#value \"Cannot convert!\"\n",
    "#\n",
    "#Do not use any conditionals or the type() function.\n",
    "\n",
    "\n",
    "#Write your function here!\n",
    "def get_integer(my_var):\n",
    "    try:\n",
    "        my_var = int(my_var)\n",
    "        return my_var\n",
    "    except:\n",
    "        return (\"Cannot convert!\")\n",
    "\n",
    "\n",
    "#Below are some lines of code that will test your function.\n",
    "#You can change the value of the variable(s) to test your\n",
    "#function with different inputs.\n",
    "#\n",
    "#If your function works correctly, this will originally\n",
    "#print: 5, Cannot convert!, and 5.\n",
    "\n",
    "print(get_integer(\"5\"))\n",
    "print(get_integer(\"Boggle.\"))\n",
    "print(get_integer(5.1))"
   ]
  },
  {
   "cell_type": "code",
   "execution_count": 53,
   "id": "316c793f-88f3-4d92-a6db-95cd68b512f0",
   "metadata": {},
   "outputs": [
    {
     "name": "stdout",
     "output_type": "stream",
     "text": [
      "5\n",
      "invalid literal for int() with base 10: 'Boggle.'\n",
      "5\n"
     ]
    }
   ],
   "source": [
    "#This exercise is identical to the previous exercise,\n",
    "#except that instead of printing \"Cannot convert!\" when my_var\n",
    "#cannot be converted to an integer, you should instead return\n",
    "#the error message that results. For a reminder of how to\n",
    "#access the error message in the except block, check out\n",
    "#3.5.3, specifically CatchingASpecificError-4.py from 3.5.3.3\n",
    "#and CatchingMultipleSpecificErrors-5.py from 3.5.3.4.\n",
    "#\n",
    "#Write a function called get_integer that takes as input one\n",
    "#variable, my_var. If my_var can be converted to an integer,\n",
    "#do so and return that integer. If my_var cannot be converted\n",
    "#to an integer, return the error message that results from\n",
    "#attempting to do so.\n",
    "#\n",
    "#Do not use any conditionals or the type() function.\n",
    "\n",
    "\n",
    "#Write your function here!\n",
    "def get_integer(my_var):\n",
    "    try:\n",
    "        my_var = int(my_var)\n",
    "        return my_var\n",
    "    except ValueError as error:\n",
    "        return (error)\n",
    "\n",
    "\n",
    "\n",
    "#You can use the lines below to test out your function. When\n",
    "#the function is written correctly, the output of these three\n",
    "#lines should be:\n",
    "#5\n",
    "#invalid literal for int() with base 10: 'Boggle.'\n",
    "#5\n",
    "print(get_integer(\"5\"))\n",
    "print(get_integer(\"Boggle.\"))\n",
    "print(get_integer(5.1))"
   ]
  },
  {
   "cell_type": "code",
   "execution_count": 70,
   "id": "ad9b85c8-c3ed-4f6a-b437-bf641b753992",
   "metadata": {},
   "outputs": [
    {
     "name": "stdout",
     "output_type": "stream",
     "text": [
      "Some other error occurred!\n",
      "Done!\n"
     ]
    }
   ],
   "source": [
    "my_other_variable = 1\n",
    "try:\n",
    "    result = 10 // my_var\n",
    "    print(result)\n",
    "except ZeroDivisionError:\n",
    "    print(\"A ZeroDivisionError occurred!\") \n",
    "except NameError:\n",
    "    print(\"A NameError occurred!\")\n",
    "except:\n",
    "    print(\"Some other error occurred!\")\n",
    "print(\"Done!\")"
   ]
  },
  {
   "cell_type": "code",
   "execution_count": 74,
   "id": "84edf668-4bea-4bb0-8a99-e145912f7257",
   "metadata": {},
   "outputs": [
    {
     "name": "stdout",
     "output_type": "stream",
     "text": [
      "An expected error occurred!\n",
      "Closing down...\n",
      "Done!\n"
     ]
    }
   ],
   "source": [
    "my_other_var = 1\n",
    "try:\n",
    "    result = 10 // my_var\n",
    "    print(result)\n",
    "except (ZeroDivisionError, TypeError):\n",
    "    print(\"An expected error occurred!\")\n",
    "else:\n",
    "    print(\"No errors occurred!\")\n",
    "finally:\n",
    "    print(\"Closing down...\")\n",
    "print(\"Done!\")"
   ]
  },
  {
   "cell_type": "code",
   "execution_count": 75,
   "id": "f9e9a31b-bce1-4c3b-89c5-4a3186c7f893",
   "metadata": {},
   "outputs": [
    {
     "name": "stdout",
     "output_type": "stream",
     "text": [
      "-1\n",
      "-2\n",
      "An error occurred!\n",
      "Done!\n"
     ]
    }
   ],
   "source": [
    "i = -2 \n",
    "j = 2 \n",
    "try: \n",
    "    while i < j:\n",
    "        print(j // i)\n",
    "        i += 1\n",
    "except:\n",
    "    print(\"An error occurred!\")\n",
    "print(\"Done!\")"
   ]
  },
  {
   "cell_type": "code",
   "execution_count": 3,
   "id": "a883895b-f6ba-4cbb-8f36-c56d44a43826",
   "metadata": {},
   "outputs": [
    {
     "name": "stdout",
     "output_type": "stream",
     "text": [
      "1\n",
      "5\n",
      "Not found\n",
      "2\n"
     ]
    }
   ],
   "source": [
    "words = [\"dog\", \"sparrow\", \"cat\", \"frog\"]\n",
    "\n",
    "#You may modify the lines of code above, but don't move them!\n",
    "#When you Submit your code, we'll change these lines to\n",
    "#assign different values to the variables.\n",
    "\n",
    "#This program is supposed to print the location of the 'o'\n",
    "#in each word in the list. However, line 22 causes an\n",
    "#error if 'o' is not in the word. Add try/except blocks\n",
    "#to print \"Not found\" when the word does not have an 'o'.\n",
    "#However, when the current word does not have an 'o', the\n",
    "#program should continue to behave as it does now.\n",
    "#\n",
    "#Hint: don't worry that you don't know how line 18 works.\n",
    "#All you need to know is that it may cause an error.\n",
    "#\n",
    "#You may not use any conditionals.\n",
    "\n",
    "\n",
    "#Fix this code!\n",
    "for word in words:\n",
    "    try:\n",
    "        print(word.index(\"o\"))\n",
    "    except:\n",
    "        print(\"Not found\")"
   ]
  },
  {
   "cell_type": "code",
   "execution_count": 34,
   "id": "ec7a9135-f048-4f99-b4c2-7f6c8c942396",
   "metadata": {},
   "outputs": [
    {
     "ename": "SyntaxError",
     "evalue": "'return' outside function (1571274130.py, line 24)",
     "output_type": "error",
     "traceback": [
      "\u001b[0;36m  Input \u001b[0;32mIn [34]\u001b[0;36m\u001b[0m\n\u001b[0;31m    return result\u001b[0m\n\u001b[0m    ^\u001b[0m\n\u001b[0;31mSyntaxError\u001b[0m\u001b[0;31m:\u001b[0m 'return' outside function\n"
     ]
    }
   ],
   "source": [
    "mystery_value = 0\n",
    "\n",
    "#You may modify the lines of code above, but don't move them!\n",
    "#When you Submit your code, we'll change these lines to\n",
    "#assign different values to the variables.\n",
    "\n",
    "#Write a program that divides mystery_value by mystery_value\n",
    "#and prints the result. If that operation results in an\n",
    "#error, divide mystery_value by (mystery_value + 5) and then\n",
    "#print the result. If that still fails, multiply mystery_value\n",
    "#by 5 and print the result. You may assume one of those three\n",
    "#things will work.\n",
    "#\n",
    "#You may not use any conditionals.\n",
    "#\n",
    "#Hint: You're going to want to test one try/except structure\n",
    "#inside another! Think carefully about whether the second\n",
    "#one should go inside the try block or the except block.\n",
    "\n",
    "\n",
    "#Add your code here!\n",
    "try:\n",
    "    result = mystery_value / mystery_value \n",
    "    return result\n",
    "except:\n",
    "    result = mystery_value / (mystery_value + 5) \n",
    "    return result\n",
    "try:\n",
    "    result = mystery_value * 5 \n",
    "    return result\n",
    "except:\n",
    "    return result"
   ]
  },
  {
   "cell_type": "code",
   "execution_count": 41,
   "id": "bbdc2403-f0c6-4663-9946-722f0b585d88",
   "metadata": {},
   "outputs": [
    {
     "name": "stdout",
     "output_type": "stream",
     "text": [
      "o\n",
      "n\n",
      "e\n",
      "t\n",
      "w\n",
      "o\n",
      "Not iterable\n",
      "Not iterable\n",
      "f\n",
      "i\n",
      "v\n",
      "e\n",
      "six\n",
      "seven\n",
      "eight\n"
     ]
    }
   ],
   "source": [
    "given_items = [\"one\", \"two\", 3, 4, \"five\", [\"six\", \"seven\", \"eight\"]]\n",
    "\n",
    "#Write a program that iterates through the items in the\n",
    "#given list. For each item, you should attempt to iterate\n",
    "#through the item and print each character seperately. \n",
    "#\n",
    "#If this second part fails, print \"Not iterable\" -- but\n",
    "#even if the second part fails, you should still go on\n",
    "#to the next item in the list.\n",
    "#\n",
    "#Hint: Although we'll cover lists more in Unit 4, all\n",
    "#you need to know right now is that this syntax will run\n",
    "#a loop over a list, a string, or any other iterable\n",
    "#type of information:\n",
    "#\n",
    "#  for item in given_items:\n",
    "#\n",
    "#To iterate over the items in 'item', you can do the\n",
    "#same thing: for subitem in item:\n",
    "#\n",
    "#Start out by building the nested for-each loops that\n",
    "#you'll need. Then, identify where the error is\n",
    "#occurring to figure out where to put the try-except\n",
    "#structure.\n",
    "#\n",
    "#This one's tricky, but you can do it!\n",
    "\n",
    "\n",
    "#Add your code here!\n",
    "for item in given_items:\n",
    "    #print(item)\n",
    "    try: \n",
    "        #print(item)\n",
    "        for subitem in item:\n",
    "            try:\n",
    "                print(subitem)\n",
    "            except:\n",
    "                print(\"Not iterable\")\n",
    "    except:\n",
    "        print(\"Not iterable\")\n"
   ]
  },
  {
   "cell_type": "code",
   "execution_count": 57,
   "id": "21167d61-0706-4cdd-b7e6-94eab61fb9a6",
   "metadata": {},
   "outputs": [
    {
     "name": "stdout",
     "output_type": "stream",
     "text": [
      "Volume must be greater than 0.\n"
     ]
    }
   ],
   "source": [
    "#In Chapter 3.4, we wrote a function called find_pressure\n",
    "#that calculated pressure given number of moles,\n",
    "#temperature, volume, and optionally, a value for R. If no\n",
    "#value was given for R, we assumed its value should be\n",
    "#0.082057.\n",
    "#\n",
    "#However, as written, that function could crash: what about\n",
    "#when the user enters a Volume of 0? That would cause a\n",
    "#ZeroDivisonError! (In addition to breaking the laws of\n",
    "#physics, but there's no Python error for that.)\n",
    "#\n",
    "#Revise that find_pressure function to catch that error. If\n",
    "#that error occurs, return the string \"Volume must be\n",
    "#greater than 0.\" Otherwise, the function should work just\n",
    "#as it did before.\n",
    "#\n",
    "#Feel free to copy your answer to that exercise and work\n",
    "#from there. If you'd prefer to start from scratch, remember:\n",
    "#you're creating a function called find_pressure that returns\n",
    "#a value for pressure given variables n, T, V, and optionally\n",
    "#R, according to this formula:\n",
    "#\n",
    "# Pressure = (nRT) / V\n",
    "#\n",
    "#You may not use a conditional. R should have a default value\n",
    "#of 0.082057.\n",
    "\n",
    "\n",
    "#Write your function here!\n",
    "def find_pressure(moles, temp, vol, r):\n",
    "    r = 0.082057\n",
    "    try:\n",
    "        pressure = (moles * r * temp) / vol \n",
    "        print(pressure)\n",
    "    except ZeroDivisionError as error:\n",
    "        print(\"Volume must be greater than 0.\")\n",
    "    except:\n",
    "        print(error)\n",
    "    \n",
    "\n",
    "\n",
    "#You may use these lines to test your function. With the\n",
    "#values initially supplied here, your function should return\n",
    "#\"Volume must be greater than 0.\"\n",
    "moles = 10\n",
    "temp = 298\n",
    "vol = 0\n",
    "#r = 62.364 #Torr!\n",
    "find_pressure(moles, temp, vol, r)"
   ]
  },
  {
   "cell_type": "code",
   "execution_count": 122,
   "id": "d952bf15-0c19-4948-827b-6652213d0d5e",
   "metadata": {},
   "outputs": [
    {
     "name": "stdout",
     "output_type": "stream",
     "text": [
      "Word Count: 4\n",
      "Word Count: 1\n",
      "Word Count: 7\n",
      "Word Count: Not a string\n",
      "Word Count: Not a string\n",
      "Word Count: Not a string\n"
     ]
    }
   ],
   "source": [
    "#We've come a long way in this unit! You've learned about\n",
    "#conditionals, loops, functions, and error handling. To end\n",
    "#the unit, let's do a couple problems that tie all these\n",
    "#concepts together.\n",
    "#\n",
    "#Write a function called word_count. word_count takes as\n",
    "#input a string called my_string, and returns as output the\n",
    "#number of words in the string. For the purposes of this\n",
    "#problem, you can assume that every space indicates a new\n",
    "#word; so, the number of words should be one more than the\n",
    "#number of spaces. You may also assume that any strings are\n",
    "#not empty, so there should always be at least one word if\n",
    "#my_string is a string.\n",
    "#\n",
    "#Note, though, that it could be the case that a non-string\n",
    "#is accidentally passed in as the argument for my_string. If\n",
    "#that happens, an error will arise. If such an error arises,\n",
    "#you should instead return \"Not a string\". Otherwise,\n",
    "#return an integer representing the number of words in the\n",
    "#string.\n",
    "\n",
    "\n",
    "#Write your function here!\n",
    "def word_count(my_string):\n",
    "    if type(my_string) == str:\n",
    "        words = my_string.split(\" \")\n",
    "        count = len(words)\n",
    "    else: \n",
    "        return (\"Not a string\")\n",
    "    return count\n",
    "        \n",
    "#Below are some lines of code that will test your function.\n",
    "#You can change the value of the variable(s) to test your\n",
    "#function with different inputs.\n",
    "#\n",
    "#If your function works correctly, this will originally\n",
    "#print: \n",
    "#Word Count: 4\n",
    "#Word Count: 1\n",
    "#Word Count: 7\n",
    "#Word Count: Not a string\n",
    "#Word Count: Not a string\n",
    "#Word Count: Not a string\n",
    "\n",
    "print(\"Word Count:\", word_count(\"Four words are here!\"))\n",
    "print(\"Word Count:\", word_count(\"One.\"))\n",
    "print(\"Word Count:\", word_count(\"There are seven words in this sentence.\"))\n",
    "print(\"Word Count:\", word_count(5))\n",
    "print(\"Word Count:\", word_count(5.1))\n",
    "print(\"Word Count:\", word_count(True))"
   ]
  },
  {
   "cell_type": "code",
   "execution_count": 134,
   "id": "be0a157f-3dd4-4978-9b1e-ab873a9bd735",
   "metadata": {},
   "outputs": [
    {
     "name": "stdout",
     "output_type": "stream",
     "text": [
      "Word Count: 4\n",
      "Word Count: 4\n",
      "Word Count: Not a string\n",
      "Word Count: Not a string\n",
      "Word Count: Not a string\n"
     ]
    }
   ],
   "source": [
    "#Now let's make things a little more challenging.\n",
    "#\n",
    "#Last exercise, you wrote a function called word_count that\n",
    "#counted the number of words in a string essentially by\n",
    "#counting the spaces. However, if there were multiple spaces\n",
    "#in a row, it would incorrectly add additional words. For\n",
    "#example, it would have counted the string \"Hi   David\" as\n",
    "#4 words instead of 2 because there are two additional\n",
    "#spaces.\n",
    "#\n",
    "#Revise your word_count method so that if it encounters\n",
    "#multiple consecutive spaces, it does *not* count an\n",
    "#additional word. For example, these three strings should\n",
    "#all be counted as having two words:\n",
    "#\n",
    "# \"Hi David\"\n",
    "# \"Hi   David\"\n",
    "# \"Hi                 David\"\n",
    "#\n",
    "#Other than ignoring consecutive spaces, the directions are\n",
    "#the same: write a function called word_count that returns an\n",
    "#integer representing the number of words in the string, or\n",
    "#return \"Not a string\" if the input isn't a string. You may\n",
    "#assume that if the input is a string, it starts with a\n",
    "#letter word instead of a space.\n",
    "\n",
    "#Write your function here!\n",
    "def word_count(my_string):\n",
    "    if type(my_string) == str:\n",
    "        words = my_string.split(\" \")\n",
    "        count = len(words)\n",
    "    else: \n",
    "        return (\"Not a string\")\n",
    "    return count\n",
    "        \n",
    "#Below are some lines of code that will test your function.\n",
    "#You can change the value of the variable(s) to test your\n",
    "#function with different inputs.\n",
    "#\n",
    "#If your function works correctly, this will originally\n",
    "#print:\n",
    "#Word Count: 4\n",
    "#Word Count: 2\n",
    "#Word Count: Not a string\n",
    "#Word Count: Not a string\n",
    "#Word Count: Not a string\n",
    "\n",
    "print(\"Word Count:\", word_count(\"Four words are here!\"))\n",
    "print(\"Word Count:\", word_count(\"Hi   David\"))\n",
    "print(\"Word Count:\", word_count(5))\n",
    "print(\"Word Count:\", word_count(5.1))\n",
    "print(\"Word Count:\", word_count(True))"
   ]
  },
  {
   "cell_type": "code",
   "execution_count": 117,
   "id": "51760759-a049-4cc7-bf58-e451ac919c40",
   "metadata": {},
   "outputs": [
    {
     "name": "stdout",
     "output_type": "stream",
     "text": [
      "Closing down...\n"
     ]
    },
    {
     "ename": "NameError",
     "evalue": "name 'my_var' is not defined",
     "output_type": "error",
     "traceback": [
      "\u001b[0;31m---------------------------------------------------------------------------\u001b[0m",
      "\u001b[0;31mNameError\u001b[0m                                 Traceback (most recent call last)",
      "Input \u001b[0;32mIn [129]\u001b[0m, in \u001b[0;36m<cell line: 2>\u001b[0;34m()\u001b[0m\n\u001b[1;32m      1\u001b[0m my_other_var \u001b[38;5;241m=\u001b[39m \u001b[38;5;241m1\u001b[39m\n\u001b[1;32m      2\u001b[0m \u001b[38;5;28;01mtry\u001b[39;00m: \n\u001b[0;32m----> 3\u001b[0m     result \u001b[38;5;241m=\u001b[39m \u001b[38;5;241m10\u001b[39m \u001b[38;5;241m/\u001b[39m\u001b[38;5;241m/\u001b[39m \u001b[43mmy_var\u001b[49m \n\u001b[1;32m      4\u001b[0m     \u001b[38;5;28mprint\u001b[39m(result) \n\u001b[1;32m      5\u001b[0m \u001b[38;5;28;01mexcept\u001b[39;00m (\u001b[38;5;167;01mZeroDivisionError\u001b[39;00m, \u001b[38;5;167;01mTypeError\u001b[39;00m):\n",
      "\u001b[0;31mNameError\u001b[0m: name 'my_var' is not defined"
     ]
    }
   ],
   "source": [
    "my_other_var = 1\n",
    "try: \n",
    "    result = 10 // my_var \n",
    "    print(result) \n",
    "except (ZeroDivisionError, TypeError):\n",
    "    print(\"An expected error occurred!\") \n",
    "else: \n",
    "    print(\"No errors occurred!\") \n",
    "finally: \n",
    "    print(\"Closing down...\") \n",
    "print(\"Done!\")"
   ]
  },
  {
   "cell_type": "code",
   "execution_count": 94,
   "id": "69090b9f-5ef6-400f-917e-54e3f2645253",
   "metadata": {},
   "outputs": [
    {
     "ename": "TypeError",
     "evalue": "can only concatenate str (not \"int\") to str",
     "output_type": "error",
     "traceback": [
      "\u001b[0;31m---------------------------------------------------------------------------\u001b[0m",
      "\u001b[0;31mTypeError\u001b[0m                                 Traceback (most recent call last)",
      "Input \u001b[0;32mIn [94]\u001b[0m, in \u001b[0;36m<cell line: 22>\u001b[0;34m()\u001b[0m\n\u001b[1;32m     22\u001b[0m \u001b[38;5;28;01mtry\u001b[39;00m:\n\u001b[0;32m---> 23\u001b[0m     result \u001b[38;5;241m=\u001b[39m \u001b[43mmystery_value\u001b[49m\u001b[43m \u001b[49m\u001b[38;5;241;43m/\u001b[39;49m\u001b[43m \u001b[49m\u001b[43mmystery_value\u001b[49m \n\u001b[1;32m     24\u001b[0m \u001b[38;5;28;01mexcept\u001b[39;00m:\n",
      "\u001b[0;31mTypeError\u001b[0m: unsupported operand type(s) for /: 'str' and 'str'",
      "\nDuring handling of the above exception, another exception occurred:\n",
      "\u001b[0;31mTypeError\u001b[0m                                 Traceback (most recent call last)",
      "Input \u001b[0;32mIn [94]\u001b[0m, in \u001b[0;36m<cell line: 22>\u001b[0;34m()\u001b[0m\n\u001b[1;32m     23\u001b[0m     result \u001b[38;5;241m=\u001b[39m mystery_value \u001b[38;5;241m/\u001b[39m mystery_value \n\u001b[1;32m     24\u001b[0m \u001b[38;5;28;01mexcept\u001b[39;00m:\n\u001b[0;32m---> 25\u001b[0m     result \u001b[38;5;241m=\u001b[39m mystery_value \u001b[38;5;241m/\u001b[39m (\u001b[43mmystery_value\u001b[49m\u001b[43m \u001b[49m\u001b[38;5;241;43m+\u001b[39;49m\u001b[43m \u001b[49m\u001b[38;5;241;43m5\u001b[39;49m) \n\u001b[1;32m     26\u001b[0m     \u001b[38;5;28;01mtry\u001b[39;00m:\n\u001b[1;32m     27\u001b[0m         result \u001b[38;5;241m=\u001b[39m mystery_value \u001b[38;5;241m*\u001b[39m \u001b[38;5;241m5\u001b[39m\n",
      "\u001b[0;31mTypeError\u001b[0m: can only concatenate str (not \"int\") to str"
     ]
    }
   ],
   "source": [
    "mystery_value = \"cat\"\n",
    "\n",
    "#You may modify the lines of code above, but don't move them!\n",
    "#When you Submit your code, we'll change these lines to\n",
    "#assign different values to the variables.\n",
    "\n",
    "#Write a program that divides mystery_value by mystery_value\n",
    "#and prints the result. If that operation results in an\n",
    "#error, divide mystery_value by (mystery_value + 5) and then\n",
    "#print the result. If that still fails, multiply mystery_value\n",
    "#by 5 and print the result. You may assume one of those three\n",
    "#things will work.\n",
    "#\n",
    "#You may not use any conditionals.\n",
    "#\n",
    "#Hint: You're going to want to test one try/except structure\n",
    "#inside another! Think carefully about whether the second\n",
    "#one should go inside the try block or the except block.\n",
    "\n",
    "\n",
    "#Add your code here!\n",
    "try:\n",
    "    result = mystery_value / mystery_value \n",
    "except:\n",
    "    result = mystery_value / (mystery_value + 5) \n",
    "    try:\n",
    "        result = mystery_value * 5\n",
    "    except:\n",
    "        pass\n",
    "print(result)"
   ]
  },
  {
   "cell_type": "code",
   "execution_count": 95,
   "id": "8d6cb291-e36c-40ca-8666-28cf4b8b72b9",
   "metadata": {},
   "outputs": [
    {
     "name": "stdout",
     "output_type": "stream",
     "text": [
      "o\n",
      "n\n",
      "e\n",
      "t\n",
      "w\n",
      "o\n",
      "Not iterable\n",
      "Not iterable\n",
      "f\n",
      "i\n",
      "v\n",
      "e\n",
      "six\n",
      "seven\n",
      "eight\n"
     ]
    }
   ],
   "source": [
    "given_items = [\"one\", \"two\", 3, 4, \"five\", [\"six\", \"seven\", \"eight\"]]\n",
    "\n",
    "#Write a program that iterates through the items in the\n",
    "#given list. For each item, you should attempt to iterate\n",
    "#through the item and print each character seperately. \n",
    "#\n",
    "#If this second part fails, print \"Not iterable\" -- but\n",
    "#even if the second part fails, you should still go on\n",
    "#to the next item in the list.\n",
    "#\n",
    "#Hint: Although we'll cover lists more in Unit 4, all\n",
    "#you need to know right now is that this syntax will run\n",
    "#a loop over a list, a string, or any other iterable\n",
    "#type of information:\n",
    "#\n",
    "#  for item in given_items:\n",
    "#\n",
    "#To iterate over the items in 'item', you can do the\n",
    "#same thing: for subitem in item:\n",
    "#\n",
    "#Start out by building the nested for-each loops that\n",
    "#you'll need. Then, identify where the error is\n",
    "#occurring to figure out where to put the try-except\n",
    "#structure.\n",
    "#\n",
    "#This one's tricky, but you can do it!\n",
    "\n",
    "\n",
    "#Add your code here!\n",
    "\n",
    "\n",
    "for item in given_items:\n",
    "    #print(item)\n",
    "    try: \n",
    "        #print(item)\n",
    "        for subitem in item:\n",
    "            try:\n",
    "                print(subitem)\n",
    "            except:\n",
    "                print(\"Not iterable\")\n",
    "    except:\n",
    "        print(\"Not iterable\")"
   ]
  },
  {
   "cell_type": "code",
   "execution_count": null,
   "id": "23abc7ba-e3f4-4ec3-b90d-3074c5582087",
   "metadata": {},
   "outputs": [],
   "source": []
  }
 ],
 "metadata": {
  "kernelspec": {
   "display_name": "Python 3 (ipykernel)",
   "language": "python",
   "name": "python3"
  },
  "language_info": {
   "codemirror_mode": {
    "name": "ipython",
    "version": 3
   },
   "file_extension": ".py",
   "mimetype": "text/x-python",
   "name": "python",
   "nbconvert_exporter": "python",
   "pygments_lexer": "ipython3",
   "version": "3.9.12"
  }
 },
 "nbformat": 4,
 "nbformat_minor": 5
}
