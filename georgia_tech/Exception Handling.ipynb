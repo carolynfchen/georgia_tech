{
 "cells": [
  {
   "cell_type": "markdown",
   "id": "7a59976a-7747-4ef6-9d88-42257bfdd380",
   "metadata": {},
   "source": [
    "## Exception Handling"
   ]
  },
  {
   "cell_type": "markdown",
   "id": "33cd2cc2-7b42-41b0-a4ff-77e3550fbe0d",
   "metadata": {},
   "source": [
    "Try: marks a block of code to attempt, but in which we anticipate an error might arise \n",
    "\n",
    "Catch: names the errors to anticipate, and marks a block of code to run if an anticipated error erises\n",
    "\n",
    "Finally: marks a block of code to run after the above two blocks no matter what"
   ]
  },
  {
   "cell_type": "code",
   "execution_count": 2,
   "id": "2b77dc4a-353d-4cc6-876f-37e26d013f80",
   "metadata": {},
   "outputs": [
    {
     "name": "stdout",
     "output_type": "stream",
     "text": [
      "Converting myString to int...\n",
      "Done!\n"
     ]
    }
   ],
   "source": [
    "myString = \"This string is not a number!\"\n",
    "\n",
    "try:\n",
    "    print(\"Converting myString to int...\") \n",
    "    myInt = int(myString)\n",
    "    print(myInt) \n",
    "except:\n",
    "    pass\n",
    "print(\"Done!\") "
   ]
  },
  {
   "cell_type": "code",
   "execution_count": 4,
   "id": "df2b5b6d-ce45-4771-86ad-50930f9811dc",
   "metadata": {},
   "outputs": [
    {
     "name": "stdout",
     "output_type": "stream",
     "text": [
      "Done!\n"
     ]
    }
   ],
   "source": [
    "try:\n",
    "    my_var = 1 / 0 \n",
    "    print(\"An error occurred!\") \n",
    "except:\n",
    "    pass\n",
    "print(\"Done!\")"
   ]
  },
  {
   "cell_type": "code",
   "execution_count": 5,
   "id": "3453d6b3-22a3-4553-b46e-3bd0d2ddaf6e",
   "metadata": {},
   "outputs": [
    {
     "name": "stdout",
     "output_type": "stream",
     "text": [
      "Converting myString to int...\n",
      "Can't convert; myString not a number.\n",
      "Done!\n"
     ]
    }
   ],
   "source": [
    "myString = \"This string is not a number!\"\n",
    "\n",
    "try: \n",
    "    print(\"Converting myString to int...\")\n",
    "    myInt = int(myString)\n",
    "    print(myInt)\n",
    "except:\n",
    "    print(\"Can't convert; myString not a number.\")\n",
    "print(\"Done!\")"
   ]
  },
  {
   "cell_type": "code",
   "execution_count": 7,
   "id": "d0e87849-8dad-401a-a1b1-c5f06d2a81ba",
   "metadata": {},
   "outputs": [
    {
     "name": "stdout",
     "output_type": "stream",
     "text": [
      "Not possible\n"
     ]
    }
   ],
   "source": [
    "mystery_value = \"9\"\n",
    "\n",
    "#You may modify the lines of code above, but don't move them!\n",
    "#When you Submit your code, we'll change these lines to\n",
    "#assign different values to the variables.\n",
    "\n",
    "#Create a program that divides 10 by mystery_value and prints\n",
    "#the result. In the case that an error occurs, print \"Not\n",
    "#possible\".\n",
    "#\n",
    "#Use error handling to determine if an error will occur; do\n",
    "#not use the type() function. You might be surprised how many\n",
    "#types Python can divide by 10!\n",
    "\n",
    "\n",
    "#Add your code here!\n",
    "try: \n",
    "    div = mystery_value / 10 \n",
    "    print(div)\n",
    "except:\n",
    "    print(\"Not possible\") \n",
    "    "
   ]
  },
  {
   "cell_type": "code",
   "execution_count": 8,
   "id": "187894c1-bc95-4917-9455-86f4d567a259",
   "metadata": {},
   "outputs": [
    {
     "name": "stdout",
     "output_type": "stream",
     "text": [
      "Converting myString to int\n",
      "invalid literal for int() with base 10: 'This string is not a number!'\n",
      "Done!\n"
     ]
    }
   ],
   "source": [
    "myString = \"This string is not a number!\"\n",
    "\n",
    "try: \n",
    "    print(\"Converting myString to int\") \n",
    "    myInt = int(myString) \n",
    "    print(myInt) \n",
    "except ValueError as error: \n",
    "    print(error) \n",
    "print(\"Done!\")"
   ]
  },
  {
   "cell_type": "code",
   "execution_count": 9,
   "id": "174281d5-3702-4f27-822e-64608813eb4d",
   "metadata": {},
   "outputs": [
    {
     "name": "stdout",
     "output_type": "stream",
     "text": [
      "An error occurred!\n",
      "Done!\n"
     ]
    }
   ],
   "source": [
    "try:\n",
    "    print(1 / 0) \n",
    "    print(\"No error occured!\") \n",
    "except ZeroDivisionError:\n",
    "    print(\"An error occurred!\")\n",
    "print(\"Done!\")"
   ]
  },
  {
   "cell_type": "code",
   "execution_count": 10,
   "id": "8deb3688-d130-4333-a218-fda1ad973763",
   "metadata": {},
   "outputs": [
    {
     "ename": "ZeroDivisionError",
     "evalue": "division by zero",
     "output_type": "error",
     "traceback": [
      "\u001b[0;31m---------------------------------------------------------------------------\u001b[0m",
      "\u001b[0;31mZeroDivisionError\u001b[0m                         Traceback (most recent call last)",
      "Input \u001b[0;32mIn [10]\u001b[0m, in \u001b[0;36m<cell line: 1>\u001b[0;34m()\u001b[0m\n\u001b[1;32m      1\u001b[0m \u001b[38;5;28;01mtry\u001b[39;00m:\n\u001b[0;32m----> 2\u001b[0m     \u001b[38;5;28mprint\u001b[39m(\u001b[38;5;241;43m1\u001b[39;49m\u001b[43m \u001b[49m\u001b[38;5;241;43m/\u001b[39;49m\u001b[43m \u001b[49m\u001b[38;5;241;43m0\u001b[39;49m) \n\u001b[1;32m      3\u001b[0m     \u001b[38;5;28mprint\u001b[39m(\u001b[38;5;124m\"\u001b[39m\u001b[38;5;124mNo error occurred!\u001b[39m\u001b[38;5;124m\"\u001b[39m) \n\u001b[1;32m      4\u001b[0m \u001b[38;5;28;01mexcept\u001b[39;00m \u001b[38;5;167;01mNameError\u001b[39;00m: \n",
      "\u001b[0;31mZeroDivisionError\u001b[0m: division by zero"
     ]
    }
   ],
   "source": [
    "try:\n",
    "    print(1 / 0) \n",
    "    print(\"No error occurred!\") \n",
    "except NameError: \n",
    "    print(\"An error occurred!\") \n",
    "print(\"Done!\")"
   ]
  },
  {
   "cell_type": "code",
   "execution_count": 11,
   "id": "8c218f67-a35d-4250-be70-5ab3c05759e2",
   "metadata": {},
   "outputs": [
    {
     "name": "stdout",
     "output_type": "stream",
     "text": [
      "1.1111111111111112\n"
     ]
    }
   ],
   "source": [
    "mystery_value = 9\n",
    "\n",
    "#You may modify the lines of code above, but don't move them!\n",
    "#When you Submit your code, we'll change these lines to\n",
    "#assign different values to the variables.\n",
    "\n",
    "#Create a program that divides 10 by mystery_value and prints\n",
    "#the result. In the case that mystery_value is equal to 0,\n",
    "#print \"Not possible\". Do not catch any other errors. This\n",
    "#means there will be an uncaught error in the correct answer!\n",
    "#\n",
    "#You may not use any conditionals or the type() function.\n",
    "\n",
    "#Add your code here!\n",
    "try: \n",
    "    div = 10 / mystery_value\n",
    "    print(div)\n",
    "except ZeroDivisionError:\n",
    "    print(\"Not possible\") \n",
    "    "
   ]
  },
  {
   "cell_type": "code",
   "execution_count": 13,
   "id": "42229fee-d113-409f-b332-2186013019f6",
   "metadata": {},
   "outputs": [
    {
     "name": "stdout",
     "output_type": "stream",
     "text": [
      "Converting myString to int...\n"
     ]
    },
    {
     "ename": "ZeroDivisionError",
     "evalue": "division by zero",
     "output_type": "error",
     "traceback": [
      "\u001b[0;31m---------------------------------------------------------------------------\u001b[0m",
      "\u001b[0;31mZeroDivisionError\u001b[0m                         Traceback (most recent call last)",
      "Input \u001b[0;32mIn [13]\u001b[0m, in \u001b[0;36m<cell line: 3>\u001b[0;34m()\u001b[0m\n\u001b[1;32m      3\u001b[0m \u001b[38;5;28;01mtry\u001b[39;00m:\n\u001b[1;32m      4\u001b[0m     \u001b[38;5;28mprint\u001b[39m(\u001b[38;5;124m\"\u001b[39m\u001b[38;5;124mConverting myString to int...\u001b[39m\u001b[38;5;124m\"\u001b[39m) \n\u001b[0;32m----> 5\u001b[0m     \u001b[38;5;28mprint\u001b[39m(\u001b[38;5;241;43m1\u001b[39;49m\u001b[43m \u001b[49m\u001b[38;5;241;43m/\u001b[39;49m\u001b[43m \u001b[49m\u001b[38;5;241;43m0\u001b[39;49m)\n\u001b[1;32m      6\u001b[0m     \u001b[38;5;28mprint\u001b[39m(\u001b[38;5;124m\"\u001b[39m\u001b[38;5;124mString #\u001b[39m\u001b[38;5;124m\"\u001b[39m \u001b[38;5;241m+\u001b[39m \u001b[38;5;241m1\u001b[39m \u001b[38;5;241m+\u001b[39m \u001b[38;5;124m\"\u001b[39m\u001b[38;5;124m: \u001b[39m\u001b[38;5;124m\"\u001b[39m \u001b[38;5;241m+\u001b[39m myString) \n\u001b[1;32m      7\u001b[0m     myInt \u001b[38;5;241m=\u001b[39m \u001b[38;5;28mint\u001b[39m(myString) \n",
      "\u001b[0;31mZeroDivisionError\u001b[0m: division by zero"
     ]
    }
   ],
   "source": [
    "myString = \"This string is not a number!\"\n",
    "\n",
    "try:\n",
    "    print(\"Converting myString to int...\") \n",
    "    print(1 / 0)\n",
    "    print(\"String #\" + 1 + \": \" + myString) \n",
    "    myInt = int(myString) \n",
    "    print(myInt) \n",
    "except ValueError as error:\n",
    "    print(error) \n",
    "except TypeError as error:\n",
    "    print(error)\n",
    "print(\"Done!\")"
   ]
  },
  {
   "cell_type": "code",
   "execution_count": null,
   "id": "f0306588-bca3-41fc-9e77-0857a3fe86a8",
   "metadata": {},
   "outputs": [],
   "source": []
  }
 ],
 "metadata": {
  "kernelspec": {
   "display_name": "Python 3 (ipykernel)",
   "language": "python",
   "name": "python3"
  },
  "language_info": {
   "codemirror_mode": {
    "name": "ipython",
    "version": 3
   },
   "file_extension": ".py",
   "mimetype": "text/x-python",
   "name": "python",
   "nbconvert_exporter": "python",
   "pygments_lexer": "ipython3",
   "version": "3.9.12"
  }
 },
 "nbformat": 4,
 "nbformat_minor": 5
}
