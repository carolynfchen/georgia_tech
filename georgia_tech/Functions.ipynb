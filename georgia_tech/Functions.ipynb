{
 "cells": [
  {
   "cell_type": "markdown",
   "id": "821f6f98-7aac-4abb-80db-0764fb56c43d",
   "metadata": {
    "tags": []
   },
   "source": [
    "### function definition \n",
    "creates a function, including its name, parameters, and code, to be used by other portions of a program\n",
    "*addition function* \n",
    "- name: add\n",
    "- parameter: addend1 and addend2"
   ]
  },
  {
   "cell_type": "code",
   "execution_count": 1,
   "id": "c353ac3d-c86b-4428-9f22-827b2df1d55f",
   "metadata": {},
   "outputs": [
    {
     "name": "stdout",
     "output_type": "stream",
     "text": [
      "Y 5\n"
     ]
    }
   ],
   "source": [
    "# the function definition\n",
    "\n",
    "#defines the function \"printYen\"\n",
    "def printYen():\n",
    "    #print \"Y\" without the new line afterward\n",
    "    print(\"Y\", end=\" \")\n",
    "\n",
    "#calls the function \"printYen\"\n",
    "printYen()\n",
    "print(5)"
   ]
  },
  {
   "cell_type": "code",
   "execution_count": 2,
   "id": "96e9c511-031f-457d-ac5e-4084e4292a68",
   "metadata": {},
   "outputs": [
    {
     "name": "stdout",
     "output_type": "stream",
     "text": [
      "÷ × "
     ]
    }
   ],
   "source": [
    "#When writing out mathematical equations for younger\n",
    "#audiences, we usually want to use the traditional division\n",
    "#and multiplication symbols, ÷ and ×, instead of slashes and\n",
    "#asterisks. These keys aren't on the keyboard, though. So,\n",
    "#let's write functions that will print them.\n",
    "#\n",
    "#First, write two functions: one called print_division_symbol\n",
    "#and one called print_multiplication_symbol. The functions\n",
    "#should do what their names suggest: print_division_symbol\n",
    "#should print a division symbol, print_multiplication_symbol\n",
    "#should print a multiplication symbol. You can copy the\n",
    "#characters for those symbols from these directions.\n",
    "#\n",
    "#Then, after writing those two functions, call them in the\n",
    "#same order: print_division_symbol, then\n",
    "#print_multiplication_symbol. The output of your code should\n",
    "#thus be ÷, then ×, each on their own line.\n",
    "#\n",
    "#Note that you don't need to worry about the end=\"\" thing\n",
    "#you saw in the video: just print the symbols on their own\n",
    "#lines. Note also that if you receive a UnicodeEncodeError,\n",
    "#try submitting your code instead of running it: that error\n",
    "#happens sometimes, but only affects Run, not Submit.\n",
    "#\n",
    "#HINT: you're writing two functions. You don't want one to\n",
    "#be inside the other.\n",
    "\n",
    "\n",
    "#Write your two functions here!\n",
    "\n",
    "def divide():\n",
    "    print(\"÷\", end=' ')\n",
    "\n",
    "def mult():\n",
    "    print(\"×\", end=' ')\n",
    "\n",
    "\n",
    "#Call your two functions here!\n",
    "divide()\n",
    "mult()\n"
   ]
  },
  {
   "cell_type": "code",
   "execution_count": 6,
   "id": "a62a08b2-a30a-475d-81c4-864f395f8b81",
   "metadata": {},
   "outputs": [
    {
     "name": "stdout",
     "output_type": "stream",
     "text": [
      "Sheee's my cherry pie\n",
      "True\n",
      "84.0\n"
     ]
    }
   ],
   "source": [
    "#Take a look at the three functions completely written\n",
    "#below. It's your job to correctly call each function with\n",
    "#the following parameters:\n",
    "#\n",
    "#  Function 1: the string \"Black Horse and a Cherry Tree\" \n",
    "#  Function 2: no parameters\n",
    "#  Function 3: these five numbers: 80, 80, 95, 86, 79\n",
    "\n",
    "#Function 1\n",
    "def cherry_pie(song):\n",
    "    if (\"Cherry\" in song):\n",
    "        print(\"Sheee's my cherry pie\")\n",
    "    else:\n",
    "        print(\"Huh... must be an American Pie.\")\n",
    "\n",
    "#Function 2\n",
    "def should_I_go_to_Waffle_House():\n",
    "    print(True)\n",
    "\n",
    "#Function 3\n",
    "def average_grades(num1, num2, num3, num4, num5):\n",
    "    sum = num1 + num2 + num3 + num4 + num5\n",
    "    average = sum / 5\n",
    "    print(average)\n",
    "\n",
    "\n",
    "#Add your function calls here! Don't change any of the\n",
    "#code above.\n",
    "\n",
    "cherry_pie(\"Black Horse and a Cherry Tree\")\n",
    "\n",
    "should_I_go_to_Waffle_House()\n",
    "\n",
    "average_grades(80, 80, 95, 86, 79)"
   ]
  },
  {
   "cell_type": "markdown",
   "id": "eb8b435d-0582-40f3-bf9a-6b407f3dec79",
   "metadata": {},
   "source": [
    "- Functions: defined by input and output. Functions may take some input, and they may return some output. \n",
    "- Parameters: pieces of input that the function expect\n",
    "- Arguments: actual pieces of input a specific function call receives. \n",
    "\n",
    "So, a 'multiply' function would potentially expect two numbers: those are parameters \n",
    "\n",
    "If I call 'multiply' with the numbers 7 and 2, then 7 and 2 are arguments. \n",
    "\n",
    "It would return an output, 14."
   ]
  },
  {
   "cell_type": "code",
   "execution_count": 8,
   "id": "708ddb90-0f1d-4a46-af25-e647001815c1",
   "metadata": {},
   "outputs": [
    {
     "name": "stdout",
     "output_type": "stream",
     "text": [
      "Y5\n"
     ]
    }
   ],
   "source": [
    "def returnYen():\n",
    "    return \"Y\"\n",
    "\n",
    "print(returnYen(), end=\"\")\n",
    "print(5)"
   ]
  },
  {
   "cell_type": "code",
   "execution_count": 41,
   "id": "59ce05c7-46b1-4e54-898a-e8452e36a609",
   "metadata": {},
   "outputs": [
    {
     "name": "stdout",
     "output_type": "stream",
     "text": [
      "2022/9/14\n"
     ]
    }
   ],
   "source": [
    "#Write a function called get_todays_date that returns\n",
    "#today's date as a string, in the form year/month/day.\n",
    "#For example, if today is January 15th, 2017, then it\n",
    "#would return 2017/1/15.\n",
    "#\n",
    "#Remember, you took care of the string formatting part of\n",
    "#this exercise in 2.2.9 Coding Exercise 1! Now, you're\n",
    "#converting it to a function that returns the string.\n",
    "#\n",
    "#Note that the line below will let you access today's date\n",
    "#using date.today() anywhere in your code.\n",
    "from datetime import date\n",
    "\n",
    "\n",
    "#Write your function here!\n",
    "\n",
    "mydate = date.today()\n",
    "year = date.today().year\n",
    "month = date.today().month\n",
    "day = date.today().day\n",
    "\n",
    "def get_todays_date():\n",
    "    return str(year)+'/'+str(month)+'/'+str(day)\n",
    "\n",
    "\n",
    "#If you want to test your code, you can do so by calling\n",
    "#your function below. However, this is no longer required\n",
    "#for grading.\n",
    "print(get_todays_date())\n",
    "\n",
    "\n"
   ]
  },
  {
   "cell_type": "code",
   "execution_count": 34,
   "id": "d7e855da-bbed-44ef-b67a-f218c34f1b91",
   "metadata": {},
   "outputs": [
    {
     "name": "stdout",
     "output_type": "stream",
     "text": [
      "<function get_todays_date at 0x7ff0080f4670>\n"
     ]
    }
   ],
   "source": [
    "from datetime import date\n",
    "\n",
    "today = date.today()\n",
    "\n",
    "def get_todays_date():\n",
    "    return today\n",
    "\n",
    "print(get_todays_date)"
   ]
  },
  {
   "cell_type": "code",
   "execution_count": 45,
   "id": "961bf147-a353-4716-83bc-3ffbaf50f634",
   "metadata": {},
   "outputs": [
    {
     "ename": "SyntaxError",
     "evalue": "invalid syntax (2224881078.py, line 6)",
     "output_type": "error",
     "traceback": [
      "\u001b[0;36m  Input \u001b[0;32mIn [45]\u001b[0;36m\u001b[0m\n\u001b[0;31m    print(returnYenAmount(inputAmount))\u001b[0m\n\u001b[0m    ^\u001b[0m\n\u001b[0;31mSyntaxError\u001b[0m\u001b[0;31m:\u001b[0m invalid syntax\n"
     ]
    }
   ],
   "source": [
    "def returnYenAmount(amount):\n",
    "    return \"Y\" + str(amount)\n",
    "\n",
    "inputAmount = int(input(\"Enter the amount: \")\n",
    "                  \n",
    "print(returnYenAmount(inputAmount))"
   ]
  },
  {
   "cell_type": "code",
   "execution_count": 50,
   "id": "8b11e8ec-4211-4e29-8ae7-2b1d34a5ed05",
   "metadata": {},
   "outputs": [
    {
     "name": "stdout",
     "output_type": "stream",
     "text": [
      "A square with side length 4 has an area of 16\n"
     ]
    }
   ],
   "source": [
    "#Write a function that takes in one integer parameter, the\n",
    "#side length of a square, and returns the area. The function\n",
    "#should be named find_area, and have one parameter:\n",
    "#side_length.\n",
    "\n",
    "\n",
    "#Write your function here!\n",
    "\n",
    "def find_area(test_side_length):\n",
    "    return test_side_length * test_side_length\n",
    "\n",
    "#Below are some lines of code that will test your function.\n",
    "#You can change the value of the variable(s) to test your\n",
    "#function with different inputs.\n",
    "#\n",
    "#If your function works correctly, this will originally\n",
    "#print: \"A square with side length 4 has an area of 16\".\n",
    "\n",
    "test_side_length = 4\n",
    "print(\"A square with side length\", test_side_length, \"has an area of\", find_area(test_side_length))\n",
    "\n",
    "\n"
   ]
  },
  {
   "cell_type": "code",
   "execution_count": 53,
   "id": "9e73ec1f-d00a-4211-b269-474aae6dbc0d",
   "metadata": {},
   "outputs": [
    {
     "name": "stdout",
     "output_type": "stream",
     "text": [
      "L5\n"
     ]
    }
   ],
   "source": [
    "def currencyAmount(currency, amount):\n",
    "    if currency == \"JPY\": \n",
    "        return \"Y\" + str(amount) \n",
    "    elif currency == \"USD\": \n",
    "        return \"$\" + str(amount) \n",
    "    elif currency == \"GBP\": \n",
    "        return \"L\" + str(amount)\n",
    "    else: \n",
    "        return str(amount) \n",
    "    \n",
    "print(currencyAmount(\"GBP\", 5))"
   ]
  },
  {
   "cell_type": "code",
   "execution_count": 59,
   "id": "c6fbf432-2f4e-46a1-a8f1-2734752c1ca7",
   "metadata": {},
   "outputs": [
    {
     "name": "stdout",
     "output_type": "stream",
     "text": [
      "Joshua, Jackie, and Marguerite are awesome!\n"
     ]
    }
   ],
   "source": [
    "#Helping us develop this class are a team of teaching\n",
    "#assistants, often called TAs for short.\n",
    "#\n",
    "#Write a function called my_TAs. The function should take as\n",
    "#input three strings: first_TA, second_TA, and third_TA. It\n",
    "#should return as output the string, \"[first_TA], [second_TA],\n",
    "#and [third_TA] are awesome!\", with the values replacing the\n",
    "#variable names.\n",
    "#\n",
    "#For example, my_TAs(\"Sridevi\", \"Lucy\", \"Xu\") would return\n",
    "#the string \"Sridevi, Lucy, and Xu are awesome!\"\n",
    "#\n",
    "#Hint: Notice that because you're returning a string instead\n",
    "#of printing a string, you can't use the print() statement\n",
    "# -- you'll have to create the string yourself, then return\n",
    "#it!\n",
    "\n",
    "\n",
    "#Write your function here!\n",
    "\n",
    "def my_TAs(first_TA, second_TA, third_TA):\n",
    "    return first_TA + \", \" + second_TA + \", and\" + \" \" + third_TA + \" are awesome!\"\n",
    "\n",
    "\n",
    "\n",
    "#Below are some lines of code that will test your function.\n",
    "#You can change the value of the variable(s) to test your\n",
    "#function with different inputs.\n",
    "#\n",
    "#If your function works correctly, this will originally\n",
    "#print: \"Joshua, Jackie, and Marguerite are awesome!\".\n",
    "test_first_TA = \"Joshua\"\n",
    "test_second_TA = \"Jackie\"\n",
    "test_third_TA = \"Marguerite\"\n",
    "print(my_TAs(test_first_TA, test_second_TA, test_third_TA))\n"
   ]
  },
  {
   "cell_type": "code",
   "execution_count": 62,
   "id": "cfbd2062-fa91-459d-b33c-428c107a2c8a",
   "metadata": {},
   "outputs": [
    {
     "name": "stdout",
     "output_type": "stream",
     "text": [
      "Hi Car!\n"
     ]
    }
   ],
   "source": [
    "#Write a function called greeting. greeting should have one\n",
    "#parameter, a string representing a name. It should return\n",
    "#a string with the message \"Hi [name]!\", where the value of\n",
    "#the parameter is used in place of [name].\n",
    "#\n",
    "#For example:\n",
    "#\n",
    "# greeting(\"David\") -> \"Hi David!\"\n",
    "\n",
    "\n",
    "def greeting(input_name):\n",
    "    return \"Hi \" + input_name + \"!\"\n",
    "\n",
    "\n",
    "#Below are some lines of code that will test your function.\n",
    "#You can change the value of the variable(s) to test your\n",
    "#function with different inputs.\n",
    "#\n",
    "#If your function works correctly, this will originally\n",
    "#print: \"Hi David!\"\n",
    "\n",
    "input_name = \"Car\"\n",
    "message = greeting(input_name)\n",
    "print(message)"
   ]
  },
  {
   "cell_type": "code",
   "execution_count": 71,
   "id": "12da1f23-7404-4903-8204-3d336346ea7c",
   "metadata": {},
   "outputs": [
    {
     "name": "stdout",
     "output_type": "stream",
     "text": [
      "160\n"
     ]
    }
   ],
   "source": [
    "#Write a function called total_volume. total_volume should\n",
    "#have four parameters, all integers. The first three\n",
    "#parameters should represent the length, width, and height\n",
    "#of a box respectively. The fourth should represent the\n",
    "#number of boxes.\n",
    "#\n",
    "#The function should return an integer representing the\n",
    "#total volume represented by the given boxes. For example,\n",
    "#if the length is 10, the width is 2, the height is 2, and\n",
    "#there are 4 boxes, then the total volume would be 160:\n",
    "#((10 * 2 * 2) * 4) = 160.\n",
    "\n",
    "\n",
    "def total_volume(a_length, a_width, a_height, box_count):\n",
    "    return a_length * a_width * a_height * box_count\n",
    "\n",
    "#Below are some lines of code that will test your function.\n",
    "#You can change the value of the variable(s) to test your\n",
    "#function with different inputs.\n",
    "#\n",
    "#If your function works correctly, this will originally\n",
    "#print: \"A square with side length 4 has an area of 16\".\n",
    "a_length = 10\n",
    "a_width = 2\n",
    "a_height = 2\n",
    "box_count = 4\n",
    "result = total_volume(a_length, a_width, a_height, box_count)\n",
    "print(result)\n"
   ]
  },
  {
   "cell_type": "code",
   "execution_count": 72,
   "id": "ee5a1f4e-8c72-4530-8575-4688390d70fc",
   "metadata": {},
   "outputs": [
    {
     "ename": "TypeError",
     "evalue": "can't multiply sequence by non-int of type 'float'",
     "output_type": "error",
     "traceback": [
      "\u001b[0;31m---------------------------------------------------------------------------\u001b[0m",
      "\u001b[0;31mTypeError\u001b[0m                                 Traceback (most recent call last)",
      "Input \u001b[0;32mIn [72]\u001b[0m, in \u001b[0;36m<cell line: 27>\u001b[0;34m()\u001b[0m\n\u001b[1;32m     23\u001b[0m     summary_string \u001b[38;5;241m+\u001b[39m\u001b[38;5;241m=\u001b[39m \u001b[38;5;124m\"\u001b[39m\u001b[38;5;124m That\u001b[39m\u001b[38;5;124m'\u001b[39m\u001b[38;5;124ms \u001b[39m\u001b[38;5;124m\"\u001b[39m \u001b[38;5;241m+\u001b[39m \u001b[38;5;28mstr\u001b[39m(calories_consumed) \u001b[38;5;241m+\u001b[39m \u001b[38;5;124m\"\u001b[39m\u001b[38;5;124m calories!\u001b[39m\u001b[38;5;124m\"\u001b[39m\n\u001b[1;32m     25\u001b[0m     \u001b[38;5;28;01mreturn\u001b[39;00m summary_string\n\u001b[0;32m---> 27\u001b[0m result \u001b[38;5;241m=\u001b[39m \u001b[43msoda_habit\u001b[49m\u001b[43m(\u001b[49m\u001b[38;5;124;43m\"\u001b[39;49m\u001b[38;5;124;43mCoca-Cola\u001b[39;49m\u001b[38;5;124;43m\"\u001b[39;49m\u001b[43m,\u001b[49m\u001b[43m \u001b[49m\u001b[38;5;241;43m1.75\u001b[39;49m\u001b[43m,\u001b[49m\u001b[43m \u001b[49m\u001b[38;5;241;43m140\u001b[39;49m\u001b[43m,\u001b[49m\u001b[43m \u001b[49m\u001b[38;5;241;43m9\u001b[39;49m\u001b[43m)\u001b[49m\n\u001b[1;32m     28\u001b[0m \u001b[38;5;28mprint\u001b[39m(result)\n",
      "Input \u001b[0;32mIn [72]\u001b[0m, in \u001b[0;36msoda_habit\u001b[0;34m(sodas_per_week, price_per_soda, calories_per_soda, preferred_soda)\u001b[0m\n\u001b[1;32m     11\u001b[0m \u001b[38;5;28;01mdef\u001b[39;00m \u001b[38;5;21msoda_habit\u001b[39m(sodas_per_week, price_per_soda, calories_per_soda, preferred_soda):\n\u001b[1;32m     12\u001b[0m     \n\u001b[1;32m     13\u001b[0m     \u001b[38;5;66;03m#Above, we've moved preferred_soda to the beginning and\u001b[39;00m\n\u001b[0;32m   (...)\u001b[0m\n\u001b[1;32m     16\u001b[0m     \n\u001b[1;32m     17\u001b[0m     \u001b[38;5;66;03m#Don't change the body of this function!\u001b[39;00m\n\u001b[0;32m---> 19\u001b[0m     money_spent \u001b[38;5;241m=\u001b[39m \u001b[43mprice_per_soda\u001b[49m\u001b[43m \u001b[49m\u001b[38;5;241;43m*\u001b[39;49m\u001b[43m \u001b[49m\u001b[43msodas_per_week\u001b[49m\n\u001b[1;32m     20\u001b[0m     calories_consumed \u001b[38;5;241m=\u001b[39m calories_per_soda \u001b[38;5;241m*\u001b[39m sodas_per_week\n\u001b[1;32m     22\u001b[0m     summary_string \u001b[38;5;241m=\u001b[39m \u001b[38;5;124m\"\u001b[39m\u001b[38;5;124mYou\u001b[39m\u001b[38;5;124m'\u001b[39m\u001b[38;5;124mre spending $\u001b[39m\u001b[38;5;124m\"\u001b[39m \u001b[38;5;241m+\u001b[39m \u001b[38;5;28mstr\u001b[39m(money_spent) \u001b[38;5;241m+\u001b[39m \u001b[38;5;124m\"\u001b[39m\u001b[38;5;124m on \u001b[39m\u001b[38;5;124m\"\u001b[39m \u001b[38;5;241m+\u001b[39m preferred_soda \u001b[38;5;241m+\u001b[39m \u001b[38;5;124m\"\u001b[39m\u001b[38;5;124m per week! \u001b[39m\u001b[38;5;124m\"\u001b[39m\n",
      "\u001b[0;31mTypeError\u001b[0m: can't multiply sequence by non-int of type 'float'"
     ]
    }
   ],
   "source": [
    "#Below we've written a function that is supposed to take in\n",
    "#four parameters and produce a string representing the cost\n",
    "#of a person's weekly soda consumption. Below the function\n",
    "#definition, we're calling the function.\n",
    "#\n",
    "#However, right now, the code is erroring out. Fix this code\n",
    "#without changing the code inside the function. You may\n",
    "#change either the function declaration (on line 11) or the\n",
    "#function call on line 27.\n",
    "\n",
    "def soda_habit(sodas_per_week, price_per_soda, calories_per_soda, preferred_soda):\n",
    "    \n",
    "    #Above, we've moved preferred_soda to the beginning and\n",
    "    #sodas_per_week to the end, so our original function\n",
    "    #call will work.\n",
    "    \n",
    "    #Don't change the body of this function!\n",
    "    \n",
    "    money_spent = price_per_soda * sodas_per_week\n",
    "    calories_consumed = calories_per_soda * sodas_per_week\n",
    "    \n",
    "    summary_string = \"You're spending $\" + str(money_spent) + \" on \" + preferred_soda + \" per week! \"\n",
    "    summary_string += \" That's \" + str(calories_consumed) + \" calories!\"\n",
    "    \n",
    "    return summary_string\n",
    "\n",
    "result = soda_habit(9, 1.75, 140, \"Coca-Cola\")\n",
    "print(result)\n"
   ]
  },
  {
   "cell_type": "code",
   "execution_count": 84,
   "id": "0ec7b893-5c6d-4f80-bb9c-724fa644d5a6",
   "metadata": {},
   "outputs": [
    {
     "name": "stdout",
     "output_type": "stream",
     "text": [
      "!desrever eb dluohs gnirts sihT\n"
     ]
    }
   ],
   "source": [
    "#We've written the function, reverse, below. This function\n",
    "#takes a string and returns the reverse of it. There are two\n",
    "#scope errors somewhere in the code. Read through all the\n",
    "#code below to find and fix the errors, so that the function\n",
    "#produces the correct output and the result of the function\n",
    "#is correctly printed. Note that you should not change the\n",
    "#three lines that are already present in the function, but\n",
    "#you may add lines before them, or you may change or add to\n",
    "#the lines outside the function.\n",
    "#\n",
    "#Note that your goal here is to fix both the function itself\n",
    "#and the program as a whole. So, your function should be\n",
    "#able to be called on a new string, and the program when\n",
    "#run should print the reverse of the string originally on\n",
    "#line 29.\n",
    "\n",
    "\n",
    "def reverse(a_string):\n",
    "    #You may add code before the following three lines.\n",
    "    rev = \"\"\n",
    "    \n",
    "    #Don't change these three lines.\n",
    "    for i in range(len(a_string)-1, -1, -1):\n",
    "        rev = rev + a_string[i]\n",
    "    return rev\n",
    "\n",
    "\n",
    "#You may change or add to the following lines.\n",
    "rev = reverse(\"This string should be reversed!\")\n",
    "print(rev)\n"
   ]
  },
  {
   "cell_type": "code",
   "execution_count": 75,
   "id": "64af069f-bb57-4519-a67b-d8ec2e8d46f3",
   "metadata": {},
   "outputs": [
    {
     "name": "stdout",
     "output_type": "stream",
     "text": [
      "20\n"
     ]
    }
   ],
   "source": [
    "def multiply(num1, num2):\n",
    "    product = num1 * num2 \n",
    "    return product\n",
    "product = multiply(4,5) \n",
    "print(product)"
   ]
  },
  {
   "cell_type": "code",
   "execution_count": 91,
   "id": "49e4c6b6-219b-4d25-8cf0-11970b88c1f4",
   "metadata": {},
   "outputs": [
    {
     "data": {
      "text/plain": [
       "'None'"
      ]
     },
     "execution_count": 91,
     "metadata": {},
     "output_type": "execute_result"
    }
   ],
   "source": [
    "def some_function(number):\n",
    "    if number > 0: \n",
    "        return \"Positive!\" \n",
    "    elif number < 0: \n",
    "        return \"Negative\" \n",
    "    else:\n",
    "        return \"None\"\n",
    "    \n",
    "some_function(0)"
   ]
  },
  {
   "cell_type": "code",
   "execution_count": 96,
   "id": "f25bd47e-cdf0-45e7-ad6b-49350fa786be",
   "metadata": {},
   "outputs": [
    {
     "name": "stdout",
     "output_type": "stream",
     "text": [
      "ABC\n",
      "DEF\n"
     ]
    }
   ],
   "source": [
    "print(\"A\", \"B\", \"C\", sep= \"\") \n",
    "print(\"D\", \"E\", \"F\", sep= \"\")"
   ]
  },
  {
   "cell_type": "code",
   "execution_count": 114,
   "id": "3983320e-f664-4397-ae4e-67d398f0866c",
   "metadata": {},
   "outputs": [
    {
     "ename": "TypeError",
     "evalue": "snowed_in() missing 1 required positional argument: 'is_celsius'",
     "output_type": "error",
     "traceback": [
      "\u001b[0;31m---------------------------------------------------------------------------\u001b[0m",
      "\u001b[0;31mTypeError\u001b[0m                                 Traceback (most recent call last)",
      "Input \u001b[0;32mIn [114]\u001b[0m, in \u001b[0;36m<cell line: 60>\u001b[0;34m()\u001b[0m\n\u001b[1;32m     51\u001b[0m         \u001b[38;5;28;01mreturn\u001b[39;00m(is_celsius)\n\u001b[1;32m     53\u001b[0m \u001b[38;5;66;03m#Below are some lines of code that will test your function.\u001b[39;00m\n\u001b[1;32m     54\u001b[0m \u001b[38;5;66;03m#You can change the value of the variable(s) to test your\u001b[39;00m\n\u001b[1;32m     55\u001b[0m \u001b[38;5;66;03m#function with different inputs.\u001b[39;00m\n\u001b[1;32m     56\u001b[0m \u001b[38;5;66;03m#\u001b[39;00m\n\u001b[1;32m     57\u001b[0m \u001b[38;5;66;03m#If your function works correctly, this will originally\u001b[39;00m\n\u001b[1;32m     58\u001b[0m \u001b[38;5;66;03m#print False, True, and True, each on their own line.\u001b[39;00m\n\u001b[0;32m---> 60\u001b[0m \u001b[38;5;28mprint\u001b[39m(\u001b[43msnowed_in\u001b[49m\u001b[43m(\u001b[49m\u001b[38;5;241;43m15\u001b[39;49m\u001b[43m,\u001b[49m\u001b[43m \u001b[49m\u001b[38;5;124;43m\"\u001b[39;49m\u001b[38;5;124;43msunny\u001b[39;49m\u001b[38;5;124;43m\"\u001b[39;49m\u001b[43m)\u001b[49m) \u001b[38;5;66;03m#Should print False\u001b[39;00m\n\u001b[1;32m     61\u001b[0m \u001b[38;5;28mprint\u001b[39m(snowed_in(\u001b[38;5;241m15\u001b[39m, \u001b[38;5;124m\"\u001b[39m\u001b[38;5;124msunny\u001b[39m\u001b[38;5;124m\"\u001b[39m, is_celsius \u001b[38;5;241m=\u001b[39m \u001b[38;5;28;01mFalse\u001b[39;00m)) \u001b[38;5;66;03m#Should print True\u001b[39;00m\n\u001b[1;32m     62\u001b[0m \u001b[38;5;28mprint\u001b[39m(snowed_in(\u001b[38;5;241m15\u001b[39m, \u001b[38;5;124m\"\u001b[39m\u001b[38;5;124msnowy\u001b[39m\u001b[38;5;124m\"\u001b[39m, is_celsius \u001b[38;5;241m=\u001b[39m \u001b[38;5;28;01mTrue\u001b[39;00m))\n",
      "\u001b[0;31mTypeError\u001b[0m: snowed_in() missing 1 required positional argument: 'is_celsius'"
     ]
    }
   ],
   "source": [
    "### this has an error\n",
    "\n",
    "#Write a function called snowed_in that will determine\n",
    "#whether school is closed based on the weather and\n",
    "#temperature. We'll pretend the school is in Georgia, where\n",
    "#a little snow or sub-freezing temperatures are enough to\n",
    "#close down schools!\n",
    "#\n",
    "#The function should take three parameters:\n",
    "#\n",
    "# - temperature, a float\n",
    "# - weather, a string\n",
    "# - is_celsius, a boolean\n",
    "#\n",
    "#The function should return True if temperature is below\n",
    "#freezing (32 if is_celsius is False, 0 if is_celsius is\n",
    "#True) or if weather is \"snowy\". Otherwise, it should\n",
    "#return False.\n",
    "#\n",
    "#Note, however, that is_celsius should be an optional\n",
    "#argument. If the function call does not supply a value for\n",
    "#is_celsius, assume it is True.\n",
    "#\n",
    "#For example:\n",
    "#\n",
    "# snowed_in(15, \"sunny\") -> False\n",
    "# is_celsius is assumed to be True, so 15 is not below\n",
    "# freezing.\n",
    "#\n",
    "# snowed_in(15, \"sunny\", is_celsius = False) -> True\n",
    "# is_celsius is False, so 15 is below freezing.\n",
    "#\n",
    "# snowed_in(15, \"snowy\", is_celsius = True) -> True\n",
    "# The weather is \"snowy\", so the temperature doesn't matter.\n",
    "\n",
    "\n",
    "#Write your function here!\n",
    "\n",
    "def snowed_in(temperature, weather, is_celsius):\n",
    "    if is_celsius == True:\n",
    "        if temperature < 32: \n",
    "            return True  \n",
    "        if temperature > 32: \n",
    "            return True  \n",
    "    if is_celsius == False:\n",
    "        if temperature < 32: \n",
    "            return True \n",
    "        if temperature > 32: \n",
    "            return False\n",
    "    else:\n",
    "        return(is_celsius)\n",
    "\n",
    "#Below are some lines of code that will test your function.\n",
    "#You can change the value of the variable(s) to test your\n",
    "#function with different inputs.\n",
    "#\n",
    "#If your function works correctly, this will originally\n",
    "#print False, True, and True, each on their own line.\n",
    "\n",
    "print(snowed_in(15, \"sunny\")) #Should print False\n",
    "print(snowed_in(15, \"sunny\", is_celsius = False)) #Should print True\n",
    "print(snowed_in(15, \"snowy\", is_celsius = True)) #Should print True"
   ]
  },
  {
   "cell_type": "code",
   "execution_count": 117,
   "id": "bca60455-11c1-4998-82f0-50b12991003e",
   "metadata": {},
   "outputs": [],
   "source": [
    "def happy():\n",
    "    smile = \"I am smiling\" \n",
    "    sad = \"I am crying\" \n",
    "    return my_smile"
   ]
  },
  {
   "cell_type": "code",
   "execution_count": 121,
   "id": "3f4d7eae-5914-4de7-b15f-4927190b6bc4",
   "metadata": {},
   "outputs": [
    {
     "name": "stdout",
     "output_type": "stream",
     "text": [
      "Good Night, Jack and "
     ]
    }
   ],
   "source": [
    "def say_good_night():\n",
    "    name = \"Jack\" \n",
    "    return \"Good Night, \" + name + \" and \" \n",
    "print(say_good_night(), end= \"\")\n",
    "#print(\"Jill\")"
   ]
  },
  {
   "cell_type": "code",
   "execution_count": 123,
   "id": "16da9828-0c2f-405d-94ea-8ebcd0e77435",
   "metadata": {},
   "outputs": [
    {
     "name": "stdout",
     "output_type": "stream",
     "text": [
      "Marguerite,Joshua,Jackie are awesome!\n"
     ]
    }
   ],
   "source": [
    "def yay_TAs(ta1, ta2, ta3):\n",
    "    result = ta3 + \",\" + ta2 + \",\" + ta1 + \" are awesome!\" \n",
    "    return result \n",
    "my_string = yay_TAs(\"Jackie\", \"Joshua\", \"Marguerite\")\n",
    "print(my_string)"
   ]
  },
  {
   "cell_type": "code",
   "execution_count": 132,
   "id": "b6b8f29a-6d4d-4a2e-af31-0838f1428126",
   "metadata": {},
   "outputs": [
    {
     "ename": "TypeError",
     "evalue": "square() takes 1 positional argument but 2 were given",
     "output_type": "error",
     "traceback": [
      "\u001b[0;31m---------------------------------------------------------------------------\u001b[0m",
      "\u001b[0;31mTypeError\u001b[0m                                 Traceback (most recent call last)",
      "Input \u001b[0;32mIn [132]\u001b[0m, in \u001b[0;36m<cell line: 4>\u001b[0;34m()\u001b[0m\n\u001b[1;32m      2\u001b[0m     result \u001b[38;5;241m=\u001b[39m my_num \u001b[38;5;241m*\u001b[39m my_num\n\u001b[1;32m      3\u001b[0m     \u001b[38;5;28;01mreturn\u001b[39;00m result\n\u001b[0;32m----> 4\u001b[0m \u001b[43msquare\u001b[49m\u001b[43m(\u001b[49m\u001b[38;5;241;43m4\u001b[39;49m\u001b[43m,\u001b[49m\u001b[43m \u001b[49m\u001b[38;5;241;43m2\u001b[39;49m\u001b[43m)\u001b[49m\n\u001b[1;32m      5\u001b[0m \u001b[38;5;28mprint\u001b[39m(result)\n",
      "\u001b[0;31mTypeError\u001b[0m: square() takes 1 positional argument but 2 were given"
     ]
    }
   ],
   "source": [
    "def square(my_num):\n",
    "    result = my_num * my_num\n",
    "    return result\n",
    "square(4, 2)\n",
    "print(result)"
   ]
  },
  {
   "cell_type": "code",
   "execution_count": 126,
   "id": "a94a58cf-92d6-413b-9449-281aa25d3447",
   "metadata": {},
   "outputs": [
    {
     "data": {
      "text/plain": [
       "16"
      ]
     },
     "execution_count": 126,
     "metadata": {},
     "output_type": "execute_result"
    }
   ],
   "source": [
    "4 * 4 "
   ]
  },
  {
   "cell_type": "code",
   "execution_count": 141,
   "id": "0f076a7a-c3cf-49ba-98db-1d88f13c1999",
   "metadata": {},
   "outputs": [
    {
     "name": "stdout",
     "output_type": "stream",
     "text": [
      "You have caught no Pokemon, NewGamer98\n",
      "You are getting better, PokeMASTER222\n",
      "You are the very best, like no one ever was, GaryFOak\n"
     ]
    }
   ],
   "source": [
    "def poke_go(name, number_of_pokemon = 0):\n",
    "    if number_of_pokemon == 0:\n",
    "        return \"You have caught no Pokemon, \" + name \n",
    "    elif number_of_pokemon < 5: \n",
    "        return \"You are just starting out, \" + name \n",
    "    elif number_of_pokemon < 250:\n",
    "        return \"You are getting better, \" + name\n",
    "    else:\n",
    "        return \"You are the very best, like no one ever was, \" + name\n",
    "print(poke_go(\"NewGamer98\"))\n",
    "print(poke_go(\"PokeMASTER222\", number_of_pokemon = 100)) \n",
    "print(poke_go(\"GaryFOak\", 250))"
   ]
  },
  {
   "cell_type": "code",
   "execution_count": 152,
   "id": "5e2d113f-f271-4d32-ab39-44a1e98438ed",
   "metadata": {},
   "outputs": [
    {
     "name": "stdout",
     "output_type": "stream",
     "text": [
      "1\n",
      "2\n",
      "3\n",
      "4\n",
      "5\n",
      "6\n",
      "7\n",
      "8\n",
      "9\n",
      "10\n",
      "Ready or not, here I come!\n"
     ]
    }
   ],
   "source": [
    "#Write a function called hide_and_seek. The function should\n",
    "#have no parameters and return no value; instead, when\n",
    "#called, it should just print the numbers from 1 through 10,\n",
    "#follow by the text \"Ready or not, here I come!\". Each\n",
    "#number and the message at the end should be on its own\n",
    "#line.\n",
    "#\n",
    "#Then, call the function.\n",
    "#\n",
    "#There should be no print statements outside the function.\n",
    "\n",
    "\n",
    "#Write your function here!\n",
    "def hide_and_seek():\n",
    "    for i in range(1, 11): \n",
    "        print(i)\n",
    "    print (\"Ready or not, here I come!\") \n",
    "#Call your function here!\n",
    "hide_and_seek()\n",
    "\n",
    "\n",
    "\n",
    "\n"
   ]
  },
  {
   "cell_type": "code",
   "execution_count": 154,
   "id": "415914c6-6521-45e0-97a2-38062457aba2",
   "metadata": {},
   "outputs": [
    {
     "name": "stdout",
     "output_type": "stream",
     "text": [
      "You're late!\n",
      "Leave now, be early!\n",
      "Watch a comedy!\n",
      "Watch a drama!\n",
      "Watch a movie!\n"
     ]
    }
   ],
   "source": [
    "#Write a function called select_a_show. select_a_show\n",
    "#should have one parameter, an integer representing\n",
    "#how many minutes until you have to leave.\n",
    "#select_a_show should return the following:\n",
    "#\n",
    "# - If you have 0 or fewer minutes, it should return\n",
    "#   the string, \"You're late!\"\n",
    "# - If you have 1 to 10 minutes, it should return\n",
    "#   the string, \"Leave now, be early!\"\n",
    "# - If you have 11 to 45 minutes, it should return\n",
    "#   the string, \"Watch a comedy!\"\n",
    "# - If you have 46 to 100 minutes, it should return\n",
    "#   the string, \"Watch a drama!\"\n",
    "# - If you have more than 100 minutes, it should return\n",
    "#   the string, \"Watch a movie!\"\n",
    "\n",
    "\n",
    "#Add your function here!\n",
    "\n",
    "def select_a_show(minutes):\n",
    "    if minutes <= 0: \n",
    "        return \"You're late!\" \n",
    "    if minutes >= 1 and minutes <= 10: \n",
    "        return \"Leave now, be early!\" \n",
    "    if minutes >= 11 and minutes <= 45: \n",
    "        return \"Watch a comedy!\" \n",
    "    if minutes >= 46 and minutes <= 100: \n",
    "        return \"Watch a drama!\" \n",
    "    if minutes > 100: \n",
    "        return \"Watch a movie!\" \n",
    "    \n",
    "    \n",
    "\n",
    "#Below are some lines of code that will test your function.\n",
    "#You can change the value of the variable(s) to test your\n",
    "#function with different inputs.\n",
    "#\n",
    "#If your function works correctly, this will originally\n",
    "#\"You're late!\", \"Leave now, be early!\", \"Watch a comedy!\",\n",
    "#\"Watch a drama!\", and \"Watch a movie!\".\n",
    "print(select_a_show(-5))\n",
    "print(select_a_show(5))\n",
    "print(select_a_show(34))\n",
    "print(select_a_show(68))\n",
    "print(select_a_show(124))"
   ]
  },
  {
   "cell_type": "code",
   "execution_count": 156,
   "id": "bd97cf66-b6f8-4581-9ea5-576a795f98cf",
   "metadata": {},
   "outputs": [
    {
     "name": "stdout",
     "output_type": "stream",
     "text": [
      "Northwest\n",
      "Southeast\n",
      "Northeast\n",
      "Southwest\n"
     ]
    }
   ],
   "source": [
    "#Write a function called semihemisphere. semihemisphere\n",
    "#should return which semihemisphere a latitude-longitude\n",
    "#coordinate pair is in: Northwest, Northeast, Southwest,\n",
    "#or Southeast. A point in the Northern and Western\n",
    "#hemispheres would be Northwest; in the Southern and Eastern\n",
    "#hemispheres would be Southeast; etc.\n",
    "#\n",
    "#semihemisphere will take as input two floats: latitude\n",
    "#and longitude. Latitude is a number between -90 and 90\n",
    "#representing the North-South position on the globe (-90\n",
    "#for the South pole, 90 for the North pole). Longitude is\n",
    "#a number between -180 to 180 representing the East-West\n",
    "#position on the globe (-180 is the furthest west, and 180\n",
    "#is the furthest east).\n",
    "#\n",
    "#The Southern hemisphere is from -90° to 0° latitude. The\n",
    "#Northern hemisphere is from 0° to 90° latitude. The\n",
    "#Eastern hemisphere is from 0° to 180° longitude. The\n",
    "#Western hemisphere is from -180° to 0° longitude.\n",
    "\n",
    "\n",
    "#Add your code here!\n",
    "def semihemisphere(latitude, longitude):\n",
    "        if latitude >= 0 and latitude <= 90 and longitude <= 0:\n",
    "            return \"Northwest\"\n",
    "        if latitude >= 0 and latitude <= 90 and longitude >= 0:\n",
    "            return \"Northeast\" \n",
    "        if latitude < 0 and longitude <= 0:\n",
    "            return \"Southwest\" \n",
    "        if latitude < 0 and longitude >= 0:\n",
    "            return \"Southeast\" \n",
    "\n",
    "\n",
    "#Below are some lines of code that will test your function.\n",
    "#You can change the value of the variable(s) to test your\n",
    "#function with different inputs.\n",
    "#\n",
    "#If your function works correctly, this will originally\n",
    "#print Northwest, Southeast, Northeast, Southwest\n",
    "print(semihemisphere(33.7, -84.4))\n",
    "print(semihemisphere(-71.1, 86.3))\n",
    "print(semihemisphere(67.1, 12.1))\n",
    "print(semihemisphere(-11.6, -62.3))"
   ]
  },
  {
   "cell_type": "code",
   "execution_count": 164,
   "id": "6788d425-028c-4087-ae9b-686057aff160",
   "metadata": {},
   "outputs": [
    {
     "name": "stdout",
     "output_type": "stream",
     "text": [
      "1\n",
      "Ready or not, here I come!\n",
      "1\n",
      "2\n",
      "3\n",
      "4\n",
      "5\n",
      "6\n",
      "7\n",
      "8\n",
      "9\n",
      "10\n",
      "11\n",
      "12\n",
      "13\n",
      "14\n",
      "15\n",
      "16\n",
      "17\n",
      "18\n",
      "19\n",
      "20\n",
      "21\n",
      "22\n",
      "23\n",
      "24\n",
      "25\n",
      "26\n",
      "27\n",
      "28\n",
      "29\n",
      "30\n",
      "31\n",
      "32\n",
      "33\n",
      "34\n",
      "35\n",
      "36\n",
      "Ready or not, here I come!\n"
     ]
    }
   ],
   "source": [
    "#In the previous coding problem, you created a function\n",
    "#called hide_and_seek that printed the numbers from 1 to 10.\n",
    "#Now, however, we want to extend that. What if we want to\n",
    "#count to 20? 30?\n",
    "#\n",
    "#Modify your previous function so that it takes as input one\n",
    "#parameter: count. Then, instead of printing the numbers from\n",
    "#1 to 10, it should print the numbers from 1 to the value of\n",
    "#count. Then, end with \"Ready or not, here I come!\"\n",
    "\n",
    "\n",
    "#Write your function here!\n",
    "\n",
    "def hide_and_seek(count):\n",
    "    for i in range(1, count+1): \n",
    "        print(i)\n",
    "    print (\"Ready or not, here I come!\") \n",
    "#Call your function here!\n",
    "hide_and_seek(num)\n",
    "#The function call below will test your function. We'll delete\n",
    "#and overwrite this with other calls to hide_and_seek with\n",
    "#different numbers during grading:\n",
    "hide_and_seek(36)\n",
    "\n",
    "\n",
    "\n",
    "\n",
    "\n"
   ]
  },
  {
   "cell_type": "code",
   "execution_count": 177,
   "id": "e4491609-178a-46b4-a3a2-20eecb8ea34b",
   "metadata": {
    "tags": []
   },
   "outputs": [
    {
     "name": "stdout",
     "output_type": "stream",
     "text": [
      "1993 is a leap year: False\n",
      "1996 is a leap year: True\n",
      "1900 is a leap year: False\n",
      "2000 is a leap year: True\n"
     ]
    }
   ],
   "source": [
    "#A year is considered a leap year if it abides by the\n",
    "#following rules:\n",
    "#\n",
    "#  - Every 4th year IS a leap year, EXCEPT...\n",
    "#  - Every 100th year is NOT a leap year, EXCEPT...\n",
    "#  - Every 400th year IS a leap year.\n",
    "#\n",
    "#This starts at year 0. For example:\n",
    "#\n",
    "#  - 1993 is not a leap year because it is not a multiple of 4.\n",
    "#  - 1996 is a leap year because it is a multiple of 4.\n",
    "#  - 1900 is not a leap year because it is a multiple of 100,\n",
    "#    even though it is a multiple of 4.\n",
    "#  - 2000 is a leap year because it is a multiple of 400,\n",
    "#    even though it is a multiple of 100.\n",
    "#\n",
    "#Write a function called is_leap_year. is_leap_year should\n",
    "#take one parameter: year, an integer. It should return the\n",
    "#boolean True if that year is a leap year, the boolean False\n",
    "#if it is not.\n",
    "\n",
    "\n",
    "#Write your function here!\n",
    "\n",
    "def is_leap_year(year):\n",
    "        if year % 4 == 0 and (year % 100 != 0 or year % 400 ==0):\n",
    "            return True\n",
    "        else:\n",
    "            return False \n",
    "        \n",
    "#Below are some lines of code that will test your function.\n",
    "#You can change the value of the variable(s) to test your\n",
    "#function with different inputs.\n",
    "#\n",
    "#If your function works correctly, this will originally\n",
    "#print False, True, False, and True, each preceded by the\n",
    "#label \"[year] is a leap year:\".\n",
    "print(\"1993 is a leap year:\", is_leap_year(1993))\n",
    "print(\"1996 is a leap year:\", is_leap_year(1996))\n",
    "print(\"1900 is a leap year:\", is_leap_year(1900))\n",
    "print(\"2000 is a leap year:\", is_leap_year(2000))"
   ]
  },
  {
   "cell_type": "code",
   "execution_count": 186,
   "id": "e283e58e-4350-4ec8-a608-ecbd81e36af3",
   "metadata": {},
   "outputs": [
    {
     "name": "stdout",
     "output_type": "stream",
     "text": [
      "True\n",
      "True\n",
      "False\n",
      "False\n"
     ]
    }
   ],
   "source": [
    "#Write a function called lucky_sevens that takes in one\n",
    "#parameter, a string variable named a_string. Your function\n",
    "#should return True if there are exactly three '7's in\n",
    "#a_string. If there are less than three or more than three\n",
    "#'7's, the function should return False.\n",
    "#\n",
    "#For example:\n",
    "#  - lucky_sevens(\"happy777bday\") should return True.\n",
    "#  - lucky_sevens(\"h7app7ybd7ay\") should also return True.\n",
    "#  - lucky_sevens(\"happy77bday\") should return False.\n",
    "#  - lucky_sevens(\"h777appy777bday\") should also return False.\n",
    "#\n",
    "#Hint: Remember in Chapter 3.3, we covered how to use a loop\n",
    "#to look at each character in a string.\n",
    "#Write your function here!\n",
    "\n",
    "def lucky_sevens(a_string):\n",
    "    seven = a_string.count(\"7\")\n",
    "    if seven == 3:\n",
    "        return True \n",
    "    else:\n",
    "        return False\n",
    "\n",
    "#Below are some lines of code that will test your function.\n",
    "#You can change the value of the variable(s) to test your\n",
    "#function with different inputs.\n",
    "#\n",
    "#If your function works correctly, this will originally\n",
    "#print: True, True, False, False, each on their own line.\n",
    "print(lucky_sevens(\"happy777bday\"))\n",
    "print(lucky_sevens(\"h7app7ybd7ay\"))\n",
    "print(lucky_sevens(\"happy77bday\"))\n",
    "print(lucky_sevens(\"h777appy777bday\"))"
   ]
  },
  {
   "cell_type": "code",
   "execution_count": 188,
   "id": "6a1641c2-5bf0-49d2-999e-639f3182bc89",
   "metadata": {},
   "outputs": [
    {
     "name": "stdout",
     "output_type": "stream",
     "text": [
      "Result: 48.905972000000006\n"
     ]
    }
   ],
   "source": [
    "#In chemistry, the ideal gas law states:\n",
    "#\n",
    "# pressure * volume = # of moles * gas constant * temperature\n",
    "#\n",
    "#This is usually abbreviated to:\n",
    "#\n",
    "# PV = nRT\n",
    "#\n",
    "#We can solve this for any of these five variables, but let's\n",
    "#solve it for Pressure. In terms of Pressure, the ideal gas\n",
    "#law states:\n",
    "#\n",
    "# P = (nRT) / V\n",
    "\n",
    "#press = (moles * gas * temp) / vol \n",
    "\n",
    "#press * vol = moles * gas * temp\n",
    "#\n",
    "#Write a function called find_pressure that takes as input\n",
    "#three variables: number of moles, temperature, and volume.\n",
    "#You can call these variables in the function whatever you\n",
    "#want, but they must be specified in that order: moles, then\n",
    "#temperature, then volume. You should assume all three are\n",
    "#floats. Then, return as output your calculation for\n",
    "#pressure. For the gas constant, you should use the value \n",
    "#0.082057.\n",
    "#\n",
    "#Hint: Python's rounding errors can change based on the\n",
    "#order of the multipliers. If you're having difficulty with\n",
    "#your answer being off by tiny fractions, change the order\n",
    "#of the numbers to match the order in the formula above.\n",
    "\n",
    "\n",
    "#Write your function here!\n",
    "\n",
    "def find_pressure(moles, temp, vol):\n",
    "    press = (moles * 0.082057 * temp) / vol\n",
    "    return press\n",
    "\n",
    "\n",
    "\n",
    "#Below are some lines of code that will test your function.\n",
    "#You can change the value of the variable(s) to test your\n",
    "#function with different inputs.\n",
    "#\n",
    "#If your function works correctly, this will originally\n",
    "#print: \"Result: 48.905972000000006\". The extra zeroes and\n",
    "#the 6 are rounding errors by Python.\n",
    "moles = 10 #moles \n",
    "temp = 298 #temp\n",
    "vol = 5 #vol\n",
    "print(\"Result:\", find_pressure(moles, temp, vol))"
   ]
  },
  {
   "cell_type": "code",
   "execution_count": 191,
   "id": "0a531139-1eae-44fb-898a-dcc0205a671e",
   "metadata": {},
   "outputs": [
    {
     "ename": "TypeError",
     "evalue": "find_pressure() missing 4 required positional arguments: 'moles', 'r', 'temp', and 'vol'",
     "output_type": "error",
     "traceback": [
      "\u001b[0;31m---------------------------------------------------------------------------\u001b[0m",
      "\u001b[0;31mTypeError\u001b[0m                                 Traceback (most recent call last)",
      "Input \u001b[0;32mIn [191]\u001b[0m, in \u001b[0;36m<cell line: 44>\u001b[0;34m()\u001b[0m\n\u001b[1;32m     42\u001b[0m vol \u001b[38;5;241m=\u001b[39m \u001b[38;5;241m5\u001b[39m\n\u001b[1;32m     43\u001b[0m r \u001b[38;5;241m=\u001b[39m \u001b[38;5;241m62.364\u001b[39m \u001b[38;5;66;03m#Torr!\u001b[39;00m\n\u001b[0;32m---> 44\u001b[0m \u001b[38;5;28mprint\u001b[39m(\u001b[38;5;124m\"\u001b[39m\u001b[38;5;124mResult:\u001b[39m\u001b[38;5;124m\"\u001b[39m, \u001b[43mfind_pressure\u001b[49m\u001b[43m(\u001b[49m\u001b[43m)\u001b[49m)\n",
      "\u001b[0;31mTypeError\u001b[0m: find_pressure() missing 4 required positional arguments: 'moles', 'r', 'temp', and 'vol'"
     ]
    }
   ],
   "source": [
    "#Last problem, we wrote a function that calculated pressure\n",
    "#given number of moles, temperature, and volume. We told you\n",
    "#to assume a value of 0.082057 for R. This value means that\n",
    "#pressure must be given in atm, or atmospheres, one of the\n",
    "#common units of measurement for pressure.\n",
    "#\n",
    "#atm is the most common unit for pressure, but there are\n",
    "#others: mmHg, Torr, Pa, kPa, bar, and mb, for example. what\n",
    "#if pressure was sent in using one of these units? Our\n",
    "#calculation would be wrong!\n",
    "#\n",
    "#So, we want to *assume* that pressure is in atm (and thus,\n",
    "#that R should be 0.082057), but we want to let the person\n",
    "#calling our function change that if need be. So, revise\n",
    "#your find_pressure function so that R is a keyword parameter.\n",
    "#Its default value should be 0.082057, but the person calling\n",
    "#the function can override that. The name of the parameter for\n",
    "#the gas constant must be R for this to work.\n",
    "#\n",
    "#As a reminder, you're writing a function that calculates:\n",
    "#\n",
    "# P = (nRT) / V\n",
    "#\n",
    "\n",
    "\n",
    "#Write your function here! You may copy your work from 3.4.5\n",
    "#if you'd like.\n",
    "def find_pressure(moles, r, temp, vol):\n",
    "    press = (moles * r * temp) / vol\n",
    "    return press\n",
    "\n",
    "\n",
    "\n",
    "#Below are some lines of code that will test your function.\n",
    "#You can change the value of the variable(s) to test your\n",
    "#function with different inputs.\n",
    "#\n",
    "#If your function works correctly, this will originally\n",
    "#print: \"Result: 37168.944\".\n",
    "moles = 10\n",
    "temp = 298\n",
    "vol = 5\n",
    "r = 62.364 #Torr!\n",
    "print(\"Result:\", find_pressure())\n"
   ]
  },
  {
   "cell_type": "code",
   "execution_count": 194,
   "id": "a16ec745-99d0-4094-bf08-95f6e975ceaf",
   "metadata": {},
   "outputs": [
    {
     "name": "stdout",
     "output_type": "stream",
     "text": [
      "2\n",
      "3\n",
      "5\n",
      "10\n"
     ]
    }
   ],
   "source": [
    "#Write a function called sum_of_primes. sum_of_primes should\n",
    "#take as input a single integer, and then it should sum all\n",
    "#the prime numbers up to and including that integer (if it is\n",
    "#prime. Note that 1 is not considered a prime number.\n",
    "#\n",
    "#For example, sum_of_primes(6) would return 10: 2 + 3 + 5 = 10.\n",
    "#1, 4 and 6 are not prime; 2, 3, and 5 are.\n",
    "#\n",
    "#Other examples include:\n",
    "#\n",
    "# sum_of_primes(7)  -> 17 (2 + 3 + 5 + 7 = 17)\n",
    "# sum_of_primes(8)  -> 17 (2 + 3 + 5 + 7 = 17)\n",
    "# sum_of_primes(11) -> 28 (2 + 3 + 5 + 7 + 11 = 28)\n",
    "#\n",
    "#To help you with this, we have supplied you with a function\n",
    "#to find if a single number is prime. You do not need to know\n",
    "#how this program works; only that it works. You may use this\n",
    "#function, but you do not have to. Here is the function:\n",
    "\n",
    "def is_prime(n):\n",
    "    from itertools import count, islice\n",
    "    return n > 1 and all(n % i for i in islice(count(2), int(n**0.5)-1))\n",
    "\n",
    "#Add your function here!\n",
    "\n",
    "def sum_of_primes(num):\n",
    "    total = 0\n",
    "    if num > 1:\n",
    "        for n in range(2, num + 1):\n",
    "            if is_prime(n):\n",
    "                print(n)\n",
    "                total += n\n",
    "    return total\n",
    "\n",
    "#Below are some lines of code that will test your function.\n",
    "#You can change the value of the variable(s) to test your\n",
    "#function with different inputs.\n",
    "#\n",
    "#If your function works correctly, this will originally\n",
    "#print 10, 17, 17, and 28.\n",
    "print(sum_of_primes(6))\n",
    "print(sum_of_primes(7))\n",
    "print(sum_of_primes(8))\n",
    "print(sum_of_primes(11))\n"
   ]
  },
  {
   "cell_type": "code",
   "execution_count": 198,
   "id": "e080e255-efe8-4971-871b-76e7d30024e7",
   "metadata": {},
   "outputs": [
    {
     "name": "stdout",
     "output_type": "stream",
     "text": [
      "Winter\n",
      "Spring\n",
      "Summer\n",
      "Fall\n"
     ]
    }
   ],
   "source": [
    "#Write a function called what_season. what_season should\n",
    "#have two parameters: the first a string representing\n",
    "#a month, and the second an integer representing a day.\n",
    "#\n",
    "#what_season should return \"Spring\" if the date is in\n",
    "#Spring, \"Summer\" if it's in Summer, \"Fall\" if it's in\n",
    "#Fall, and \"Winter\" if it's in Winter.\n",
    "#\n",
    "#For this problem, we define those seasons as follows:\n",
    "#\n",
    "# - Spring starts March 20.\n",
    "# - Summer starts June 21.\n",
    "# - Fall starts September 22.\n",
    "# - Winter starts December 21.\n",
    "#\n",
    "#So, March 20 to June 20 would be Spring; June 21 to\n",
    "#September 21 would be Summer; September 22 to December\n",
    "#20 would be Fall; and December 21 to March 19 would be\n",
    "#Winter.\n",
    "\n",
    ", \n",
    "#Add your code here!\n",
    "def what_season(month, day):\n",
    "    if month == \"March\" and day >= 20 or month == \"April\" or month == \"May\" or month == \"June\" and day <= 20: \n",
    "        return \"Spring\"\n",
    "    if month == \"June\" and day > 20 or month == \"July\" or month == \"August\" or month == \"September\" and day < 21:  \n",
    "        return \"Summer\"\n",
    "    if month == \"September\" and day >= 22 or month == \"October\" or month == \"November\" or month == \"December\" and day <= 20: \n",
    "        return \"Fall\"\n",
    "    if month == \"December\" and day >= 21 or month == \"January\" or month == \"Feburary\" or month == \"March\" and day < 20:\n",
    "        return \"Winter\"\n",
    "\n",
    "#Below are some lines of code that will test your function.\n",
    "#You can change the value of the variable(s) to test your\n",
    "#function with different inputs.\n",
    "#\n",
    "#If your function works correctly, this will originally\n",
    "#print Winter, Spring, Summer, and Fall in that order.\n",
    "print(what_season(\"December\", 25))\n",
    "print(what_season(\"June\", 15))\n",
    "print(what_season(\"June\", 23))\n",
    "print(what_season(\"September\", 27))"
   ]
  },
  {
   "cell_type": "code",
   "execution_count": 205,
   "id": "0627e163-c65d-48d7-a179-49ce96ea86a9",
   "metadata": {},
   "outputs": [
    {
     "name": "stdout",
     "output_type": "stream",
     "text": [
      "The Hawks are not a contender!\n"
     ]
    }
   ],
   "source": [
    "#Basketball coach Phil Jackson says that in order for an NBA\n",
    "#team to be a contender for a championship, they need to win\n",
    "#40 games before they lose 20 games.\n",
    "#\n",
    "#Write a function called is_a_contender that will take three\n",
    "#parameters: a team name (a string), a number of wins (an\n",
    "#integer), and a number of losses (an integer).\n",
    "#\n",
    "#Based on these parameters, the function should return one\n",
    "#of three strings:\n",
    "#\n",
    "# - If the team is a contender (at least 40 wins and fewer\n",
    "#   than 20 losses), return \"The [team name] are a contender!\"\n",
    "# - If the team is not a contender (less than 40 wins and at least\n",
    "#   20 losses), return \"The [team name] are not a contender!\"\n",
    "# - If it cannot be determined (both values are higher or both\n",
    "#   values are lower), return \"The [team name] might be a contender!\"\n",
    "\n",
    "\n",
    "#Add your code here!\n",
    "\n",
    "def is_a_contender(name, win, loss): \n",
    "    if win >= 40 and loss < 20: \n",
    "        return (\"The \" + name +  \" are a contender!\")\n",
    "    if win < 40 and loss >= 20: \n",
    "        return (\"The \" + name + \" are not a contender!\") \n",
    "    else: \n",
    "        return (\"The \" + name + \" might be a contender!\") \n",
    "    \n",
    "\n",
    "#Below are some lines of code that will test your function.\n",
    "#You can change the value of the variable(s) to test your\n",
    "#function with different inputs.\n",
    "#\n",
    "#If your function works correctly, this will originally\n",
    "#print: \"The Hawks are not a contender!\".\n",
    "\n",
    "name = \"Hawks\"\n",
    "win = 18\n",
    "loss = 40\n",
    "\n",
    "print(is_a_contender(name, win, loss))"
   ]
  },
  {
   "cell_type": "code",
   "execution_count": 208,
   "id": "a23e2d5c-cbe8-40fe-aed8-f2dd7ce55ba4",
   "metadata": {},
   "outputs": [
    {
     "ename": "SyntaxError",
     "evalue": "invalid syntax (3246999635.py, line 25)",
     "output_type": "error",
     "traceback": [
      "\u001b[0;36m  Input \u001b[0;32mIn [210]\u001b[0;36m\u001b[0m\n\u001b[0;31m    elif systolic <= 120 and diastolic <= 80:\u001b[0m\n\u001b[0m    ^\u001b[0m\n\u001b[0;31mSyntaxError\u001b[0m\u001b[0;31m:\u001b[0m invalid syntax\n"
     ]
    }
   ],
   "source": [
    "#Consult this blood pressures chart: http://bit.ly/2CloACs\n",
    "#\n",
    "#Write a function called check_blood_pressure that takes two\n",
    "#parameters: a systolic blood pressure and a diastolic blood\n",
    "#pressure, in that order. Your function should return \"Low\",\n",
    "#\"Ideal\", \"Pre-high\", or \"High\" -- whichever corresponds to\n",
    "#the given systolic and diastolic blood pressure.\n",
    "#\n",
    "#You should assume that if a combined blood pressure is on the\n",
    "#line between two categories (e.g. 80 and 60, or 120 and 70),\n",
    "#the result should be the higher category (e.g. Ideal and\n",
    "#Pre-high for those two combinations).\n",
    "#\n",
    "#HINT: Don't overcomplicate this! Think carefully about in\n",
    "#what order you should check the different categories. This\n",
    "#problem could be easy or extremely hard depending on the\n",
    "#order you change and whether you use returns or elifs wisely.\n",
    "\n",
    "\n",
    "#Add your code here!\n",
    "#Add your code here!\n",
    "def check_blood_pressure(systolic, diastolic):\n",
    "    if systolic <= 90 and diastolic <= 60:\n",
    "        return \"Low\"\n",
    "        elif systolic <= 120 and diastolic <= 80: \n",
    "            return \"Ideal\" \n",
    "        elif systolic <= 140 and diastolic <=90 :\n",
    "            return \"Pre-high\"\n",
    "    else systolic <= 200 and diastolic <= 101:\n",
    "        return \"High\"\n",
    "\n",
    "#Below are some lines of code that will test your function.\n",
    "#You can change the value of the variable(s) to test your\n",
    "#function with different inputs.\n",
    "#\n",
    "#If your function works correctly, this will originally\n",
    "#print: Ideal\n",
    "systolic = 110\n",
    "diastolic = 70\n",
    "\n",
    "print(check_blood_pressure(systolic, diastolic))"
   ]
  },
  {
   "cell_type": "code",
   "execution_count": 213,
   "id": "b18cccb4-aa7f-43f6-86d5-c2a458292588",
   "metadata": {},
   "outputs": [
    {
     "ename": "SyntaxError",
     "evalue": "invalid syntax (1801149686.py, line 30)",
     "output_type": "error",
     "traceback": [
      "\u001b[0;36m  Input \u001b[0;32mIn [213]\u001b[0;36m\u001b[0m\n\u001b[0;31m    mod = calculate_modifier(STAB, Type, Critical, Other, Random):\u001b[0m\n\u001b[0m                                                                 ^\u001b[0m\n\u001b[0;31mSyntaxError\u001b[0m\u001b[0;31m:\u001b[0m invalid syntax\n"
     ]
    }
   ],
   "source": [
    "#Recall Coding Problem 2.4.4. In that problem, you calculated\n",
    "#the damage done by an attack based on several parameters.\n",
    "#\n",
    "#Convert your code from there into two functions, one called\n",
    "#calculate_damage and one called calculate_modifier.\n",
    "#\n",
    "#Your function for calculate_damage must call calculate_modifier;\n",
    "#it may not calculate the modifier separately. As such,\n",
    "#calculate_damage should accept all ten parameters: STAB,\n",
    "#Type, Critical, Other, Random, Level, Attack, Defense, and\n",
    "#Base. You'll need to pass STAB, Type, Critical, Other, and\n",
    "#Random to calculate_modifier.\n",
    "#\n",
    "#Make sure the parameters to each function follow the order\n",
    "#shown above.\n",
    "#\n",
    "#As a reminder, damage is calculated using this formula:\n",
    "#courses.edx.org/asset-v1:GTx+CS1301xII+1T2018+type@asset+block@DamageCalc.png\n",
    "#\n",
    "#Modifier is calculated using this formula:\n",
    "#https://studio.edx.org/asset-v1:GTx+CS1301+1T2017+type@asset+block@ModifierCalc.png\n",
    "\n",
    "\n",
    "#Add your code here!\n",
    "\n",
    "def calculate_modifer(STAB, Type, Critical, Other, Random):\n",
    "    return STAB * Type * Critical * Other * Random\n",
    "\n",
    "def calculate_damage(STAB, Type, Critical, Other, Random, Level, Attack, Defense, Base):\n",
    "    mod = calculate_modifier(STAB, Type, Critical, Other, Random)\n",
    "    return (((2 * Level + 10) / 250) * (Attack / Defense) * Base + 2) * mod\n",
    "    \n",
    "#Below are some lines of code that will test your function.\n",
    "#You can change the value of the variable to test your\n",
    "#function with different inputs.\n",
    "#\n",
    "#If your function works correctly, this will originally\n",
    "#print: 16.0\n",
    "STAB = 1\n",
    "Type = 0.25\n",
    "Critical = 2\n",
    "Other = 1\n",
    "Random = 1\n",
    "Level = 50\n",
    "Attack = 125\n",
    "Defense = 110\n",
    "Base = 60\n",
    "\n",
    "print(calculate_damage(STAB, Type, Critical, Other, Random, Level, Attack, Defense, Base))"
   ]
  },
  {
   "cell_type": "code",
   "execution_count": 214,
   "id": "b7f0f508-ba05-4cc9-b466-53b4bd4d9853",
   "metadata": {},
   "outputs": [
    {
     "ename": "SyntaxError",
     "evalue": "invalid syntax (2927792906.py, line 34)",
     "output_type": "error",
     "traceback": [
      "\u001b[0;36m  Input \u001b[0;32mIn [214]\u001b[0;36m\u001b[0m\n\u001b[0;31m    letter =\u001b[0m\n\u001b[0m             ^\u001b[0m\n\u001b[0;31mSyntaxError\u001b[0m\u001b[0;31m:\u001b[0m invalid syntax\n"
     ]
    }
   ],
   "source": [
    "#-----------------------------------------------------------\n",
    "#In this problem, you should write three functions:\n",
    "#word_count, letter_count, and average_word_length.\n",
    "#\n",
    "#word_count should take as input a string. It should return\n",
    "#the number of words in the string. You may assume that the\n",
    "#number of words in the string will be one more than the\n",
    "#number of spaces in the string.\n",
    "#\n",
    "#letter_count should take as input a string. It should return\n",
    "#the number of letters in the string. You may assume that\n",
    "#the string is only letters and spaces: no punctuation or\n",
    "#numbers.\n",
    "#\n",
    "#average_word_length should take as input a string. It should\n",
    "#return the average length of the words in the string. You\n",
    "#can find the average length by dividing the number of letters\n",
    "#by the number of words.\n",
    "#\n",
    "#Your implementation for average_word_length *must* call\n",
    "#word_count and letter_count.\n",
    "\n",
    "\n",
    "#Add your code here!\n",
    "\n",
    "def word_count(a_string):\n",
    "    words = 0\n",
    "    for letter in a_string:\n",
    "        if letter == \" \":\n",
    "            words += 1\n",
    "    return words \n",
    "\n",
    "def letter_count():\n",
    "    letter = \n",
    "    \n",
    "def average_word_length():\n",
    "    length = \n",
    "\n",
    "\n",
    "\n",
    "#Below are some lines of code that will test your function.\n",
    "#You can change the value of the variable to test your\n",
    "#function with different inputs.\n",
    "#\n",
    "#If your function works correctly, this will originally\n",
    "#print: 3.5\n",
    "a_string = \"Up with the white and gold\"\n",
    "\n",
    "print(average_word_length(a_string))"
   ]
  },
  {
   "cell_type": "code",
   "execution_count": 215,
   "id": "793b9c60-aaf0-4638-b7b1-b8286839ae95",
   "metadata": {},
   "outputs": [
    {
     "ename": "NameError",
     "evalue": "name 'is_valid' is not defined",
     "output_type": "error",
     "traceback": [
      "\u001b[0;31m---------------------------------------------------------------------------\u001b[0m",
      "\u001b[0;31mNameError\u001b[0m                                 Traceback (most recent call last)",
      "Input \u001b[0;32mIn [215]\u001b[0m, in \u001b[0;36m<cell line: 33>\u001b[0;34m()\u001b[0m\n\u001b[1;32m     30\u001b[0m sample_invalid_string \u001b[38;5;241m=\u001b[39m \u001b[38;5;124m\"\u001b[39m\u001b[38;5;124m1234!5678.9011?1111\u001b[39m\u001b[38;5;124m\"\u001b[39m\n\u001b[1;32m     31\u001b[0m valid_characters \u001b[38;5;241m=\u001b[39m \u001b[38;5;124m\"\u001b[39m\u001b[38;5;124m0123456789-\u001b[39m\u001b[38;5;124m\"\u001b[39m\n\u001b[0;32m---> 33\u001b[0m \u001b[38;5;28mprint\u001b[39m(\u001b[43mis_valid\u001b[49m(sample_valid_string, valid_characters))\n\u001b[1;32m     34\u001b[0m \u001b[38;5;28mprint\u001b[39m(is_valid(sample_invalid_string, valid_characters))\n",
      "\u001b[0;31mNameError\u001b[0m: name 'is_valid' is not defined"
     ]
    }
   ],
   "source": [
    "#There are a lot of use cases where we want to check to see\n",
    "#if a string has any invalid characters in it. For example,\n",
    "#when asking for a credit card number, we want to make sure\n",
    "#there are no non-numerals (although we might accept dashes\n",
    "#or spaces). When asking for a name, we want to make sure\n",
    "#all the characters are letters, spaces, or the occasional\n",
    "#punctuation mark.\n",
    "#\n",
    "#Write a function called is_valid. is_valid should take two\n",
    "#parameters: a string to check, and a string of all valid\n",
    "#characters.\n",
    "#\n",
    "#is_valid should return the boolean True if all the\n",
    "#characters in the string to check are present in the string\n",
    "#of valid characters. It should return False if any character\n",
    "#in the checked string does not appear.\n",
    "\n",
    "\n",
    "#Add your code here!\n",
    "\n",
    "\n",
    "\n",
    "#Below are some lines of code that will test your function.\n",
    "#You can change the value of the variable(s) to test your\n",
    "#function with different inputs.\n",
    "#\n",
    "#If your function works correctly, this will originally\n",
    "#print True, then False\n",
    "sample_valid_string = \"1234-5678-9011-1111\"\n",
    "sample_invalid_string = \"1234!5678.9011?1111\"\n",
    "valid_characters = \"0123456789-\"\n",
    "\n",
    "print(is_valid(sample_valid_string, valid_characters))\n",
    "print(is_valid(sample_invalid_string, valid_characters))\n",
    "\n"
   ]
  },
  {
   "cell_type": "code",
   "execution_count": 216,
   "id": "4d2327fb-eb64-45d2-8c24-d9cb211d5d4b",
   "metadata": {},
   "outputs": [
    {
     "ename": "NameError",
     "evalue": "name 'count_letters' is not defined",
     "output_type": "error",
     "traceback": [
      "\u001b[0;31m---------------------------------------------------------------------------\u001b[0m",
      "\u001b[0;31mNameError\u001b[0m                                 Traceback (most recent call last)",
      "Input \u001b[0;32mIn [216]\u001b[0m, in \u001b[0;36m<cell line: 33>\u001b[0;34m()\u001b[0m\n\u001b[1;32m      1\u001b[0m \u001b[38;5;66;03m#In this problem, your goal is to write a function that can\u001b[39;00m\n\u001b[1;32m      2\u001b[0m \u001b[38;5;66;03m#either count all the vowels in a string or all the consonants\u001b[39;00m\n\u001b[1;32m      3\u001b[0m \u001b[38;5;66;03m#in a string.\u001b[39;00m\n\u001b[0;32m   (...)\u001b[0m\n\u001b[1;32m     28\u001b[0m \u001b[38;5;66;03m#If your function works correctly, this will originally\u001b[39;00m\n\u001b[1;32m     29\u001b[0m \u001b[38;5;66;03m#print 14, then 7.\u001b[39;00m\n\u001b[1;32m     31\u001b[0m a_string \u001b[38;5;241m=\u001b[39m \u001b[38;5;124m\"\u001b[39m\u001b[38;5;124mup with the white and gold\u001b[39m\u001b[38;5;124m\"\u001b[39m\n\u001b[0;32m---> 33\u001b[0m \u001b[38;5;28mprint\u001b[39m(\u001b[43mcount_letters\u001b[49m(a_string, \u001b[38;5;28;01mTrue\u001b[39;00m))\n\u001b[1;32m     34\u001b[0m \u001b[38;5;28mprint\u001b[39m(count_letters(a_string, \u001b[38;5;28;01mFalse\u001b[39;00m))\n",
      "\u001b[0;31mNameError\u001b[0m: name 'count_letters' is not defined"
     ]
    }
   ],
   "source": [
    "#In this problem, your goal is to write a function that can\n",
    "#either count all the vowels in a string or all the consonants\n",
    "#in a string.\n",
    "#\n",
    "#Call this function count_letters. It should have two\n",
    "#parameters: the string in which to search, and a boolean\n",
    "#called find_consonants. If find_consonants is True, then the\n",
    "#function should count consonants. If it's False, then it\n",
    "#should instead count vowels.\n",
    "#\n",
    "#Return the number of vowels or consonants in the string\n",
    "#depending on the value of find_consonants. Do not count\n",
    "#any characters that are neither vowels nor consonants (e.g.\n",
    "#punctuation, spaces, numbers).\n",
    "#\n",
    "#You may assume the string will be all lower-case letters\n",
    "#(no capital letters).\n",
    "\n",
    "\n",
    "#Add your code here!\n",
    "\n",
    "\n",
    "\n",
    "#Below are some lines of code that will test your function.\n",
    "#You can change the value of the variable(s) to test your\n",
    "#function with different inputs.\n",
    "#\n",
    "#If your function works correctly, this will originally\n",
    "#print 14, then 7.\n",
    "\n",
    "a_string = \"up with the white and gold\"\n",
    "\n",
    "print(count_letters(a_string, True))\n",
    "print(count_letters(a_string, False))\n"
   ]
  },
  {
   "cell_type": "code",
   "execution_count": 220,
   "id": "0e1aaf14-d603-482c-98bd-8aab82097a15",
   "metadata": {},
   "outputs": [
    {
     "name": "stdout",
     "output_type": "stream",
     "text": [
      "1\n",
      "2\n",
      "3\n",
      "4\n",
      "5\n",
      "6\n",
      "7\n",
      "8\n",
      "9\n",
      "10\n",
      "11\n",
      "12\n",
      "13\n",
      "14\n",
      "15\n",
      "16\n",
      "17\n",
      "18\n",
      "19\n",
      "20\n",
      "21\n",
      "22\n",
      "23\n",
      "24\n",
      "25\n",
      "26\n",
      "27\n",
      "28\n",
      "29\n",
      "30\n",
      "31\n",
      "32\n",
      "33\n",
      "34\n",
      "35\n",
      "36\n",
      "Ready or not, here I come\n"
     ]
    }
   ],
   "source": [
    "def hide_and_seek(count):\n",
    "    for num in range(1, count+1):\n",
    "        print(num)\n",
    "    print(\"Ready or not, here I come\")\n",
    "    \n",
    "hide_and_seek(36)"
   ]
  },
  {
   "cell_type": "code",
   "execution_count": 230,
   "id": "91e33491-e182-4825-921c-df1140237703",
   "metadata": {},
   "outputs": [
    {
     "name": "stdout",
     "output_type": "stream",
     "text": [
      "True\n",
      "True\n",
      "False\n",
      "False\n"
     ]
    }
   ],
   "source": [
    "def lucky_sevens(a_string):\n",
    "    # initialize count outside of for loop\n",
    "    count = 0 \n",
    "    for char in a_string:\n",
    "        if char == \"7\":\n",
    "            count += 1\n",
    "    if count == 3:\n",
    "        return True \n",
    "    else:\n",
    "        return False\n",
    "print(lucky_sevens(\"happy777bday\"))\n",
    "print(lucky_sevens(\"h7app7ybd7ay\"))\n",
    "print(lucky_sevens(\"happy77bday\"))\n",
    "print(lucky_sevens(\"h777appy777bday\"))"
   ]
  },
  {
   "cell_type": "code",
   "execution_count": null,
   "id": "fea7c18a-9250-48c0-9a20-ef104031b551",
   "metadata": {},
   "outputs": [],
   "source": []
  }
 ],
 "metadata": {
  "kernelspec": {
   "display_name": "Python 3 (ipykernel)",
   "language": "python",
   "name": "python3"
  },
  "language_info": {
   "codemirror_mode": {
    "name": "ipython",
    "version": 3
   },
   "file_extension": ".py",
   "mimetype": "text/x-python",
   "name": "python",
   "nbconvert_exporter": "python",
   "pygments_lexer": "ipython3",
   "version": "3.9.12"
  }
 },
 "nbformat": 4,
 "nbformat_minor": 5
}
