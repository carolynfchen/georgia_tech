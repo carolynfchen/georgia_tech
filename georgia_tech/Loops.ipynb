{
 "cells": [
  {
   "cell_type": "code",
   "execution_count": 1,
   "id": "60953798-44be-4e4c-a743-514556ae235a",
   "metadata": {
    "collapsed": true,
    "jupyter": {
     "outputs_hidden": true
    },
    "tags": []
   },
   "outputs": [
    {
     "name": "stdout",
     "output_type": "stream",
     "text": [
      "First loop:\n",
      "1\n",
      "2\n",
      "3\n",
      "4\n",
      "5\n",
      "6\n",
      "7\n",
      "8\n",
      "9\n",
      "10\n",
      "Second loop:\n",
      "-5\n",
      "-4\n",
      "-3\n",
      "-2\n",
      "-1\n",
      "0\n",
      "1\n",
      "2\n",
      "3\n",
      "4\n",
      "5\n",
      "Third loop:\n",
      "2\n",
      "4\n",
      "6\n",
      "8\n",
      "10\n",
      "12\n",
      "14\n",
      "16\n",
      "18\n",
      "20\n"
     ]
    }
   ],
   "source": [
    "#In the designated areas below, write the three for loops\n",
    "#that are described. Do not change the print statements that\n",
    "#are currently there.\n",
    "\n",
    "print(\"First loop:\")\n",
    "\n",
    "#Write a loop here that prints the numbers from 1 to 10,\n",
    "#inclusive (meaning that it prints both 1 and 10, and all\n",
    "#the numbers in between). Print each number on a separate\n",
    "#line.\n",
    "\n",
    "for i in range(1, 11):\n",
    "    print(i)\n",
    "\n",
    "print(\"Second loop:\")\n",
    "\n",
    "#Write a loop here that prints the numbers from -5 to 5,\n",
    "#inclusive. Print each number on a separate line.\n",
    "\n",
    "for i in range (-5,6):\n",
    "    print(i)\n",
    "   \n",
    "print(\"Third loop:\")\n",
    "\n",
    "#Write a loop here that prints the even numbers only from 1\n",
    "#to 20, inclusive. Print each number on a separate line.\n",
    "#\n",
    "#Hint: There are two ways to do this. You can use the syntax\n",
    "#for the range() function shown in the multiple-choice\n",
    "#problem above, or you can use a conditional with a modulus\n",
    "#operator to determine whether or not to print.\n",
    "\n",
    "\n",
    "for i in range (2, 21, 2):\n",
    "    print(i)"
   ]
  },
  {
   "cell_type": "code",
   "execution_count": 3,
   "id": "756beabc-931f-418e-98dc-78d455aa71eb",
   "metadata": {},
   "outputs": [
    {
     "name": "stdout",
     "output_type": "stream",
     "text": [
      "120\n"
     ]
    }
   ],
   "source": [
    "mystery_int = 5\n",
    "\n",
    "#You may modify the lines of code above, but don't move them!\n",
    "#When you Submit your code, we'll change these lines to\n",
    "#assign different values to the variables.\n",
    "\n",
    "#In math, factorial is a mathematical operation where an\n",
    "#integer is multipled by every number between itself and 1.\n",
    "#For example, 5 factorial is 5 * 4 * 3 * 2 * 1, or 120.\n",
    "#Factorial is represented by an exclamation point: 5!\n",
    "#\n",
    "#Use a for loop to calculate the factorial of the number\n",
    "#given by mystery_int above. Then, print the result.\n",
    "#\n",
    "#Hint: Running a loop from 1 to mystery_int will give you\n",
    "#all the integers you need to multiply together. You'll need\n",
    "#to track the total product using a variable declared before\n",
    "#starting the loop, though!\n",
    "\n",
    "\n",
    "#Add your code here!"
   ]
  },
  {
   "cell_type": "code",
   "execution_count": 4,
   "id": "841b859a-8dba-43bd-bf37-da8a3aba11ae",
   "metadata": {},
   "outputs": [
    {
     "name": "stdout",
     "output_type": "stream",
     "text": [
      "120\n"
     ]
    }
   ],
   "source": [
    "product = 1\n",
    "for i in range(1, mystery_int+1):\n",
    "    product *= i\n",
    "print(product)"
   ]
  },
  {
   "cell_type": "code",
   "execution_count": null,
   "id": "3b519fc3-f850-4fd0-8a1b-a2b573a1f804",
   "metadata": {},
   "outputs": [],
   "source": [
    "mystery_string = \"CS1301\"\n",
    "\n",
    "#Write a for-each loop that lists each character in\n",
    "#mystery_string with its index. For example, if the string\n",
    "#was \"David\", the output would be:\n",
    "#0 D\n",
    "#1 a\n",
    "#2 v\n",
    "#3 i\n",
    "#4 d\n",
    "#\n",
    "#Note that the first item is #0, the second is #1, and so\n",
    "#on! We'll talk about why that is in Unit 4.\n",
    "#\n",
    "#Hint: You'll need a separate variable to keep track of how\n",
    "#many letters you've printed! You may not use the range\n",
    "#function on this problem.\n",
    "\n",
    "\n",
    "#Add your code here!"
   ]
  },
  {
   "cell_type": "code",
   "execution_count": 8,
   "id": "a26c242a-8352-4493-9a27-acae623de959",
   "metadata": {},
   "outputs": [
    {
     "name": "stdout",
     "output_type": "stream",
     "text": [
      "0 C\n",
      "1 S\n",
      "2 1\n",
      "3 3\n",
      "4 0\n",
      "5 1\n"
     ]
    }
   ],
   "source": [
    "mystery_string = \"CS1301\"\n",
    "count = 0 \n",
    "for letter in mystery_string:\n",
    "    print(count, letter)\n",
    "    count += 1"
   ]
  },
  {
   "cell_type": "code",
   "execution_count": 9,
   "id": "5863f420-74b2-4a7b-b043-122874551fc2",
   "metadata": {},
   "outputs": [],
   "source": [
    "#Creates listOfNumbers and assigns it to a list of ten \n",
    "#numbers, 91 through 100\n",
    "listOfNumbers = [91, 92, 93, 94, 95, 96, 97, 98, 99, 100]\n",
    "sum = 0\n",
    "\n",
    "#Runs this loop once for each item, assigning the current \n",
    "#item to the variable 'currentNumber'\n",
    "for currentNumber in listOfNumbers:\n",
    "    sum += currentNumber \n",
    "\n",
    "#Divides sum by the number of items in the list\n",
    "print(sum / len(listOfNumbers))   "
   ]
  },
  {
   "cell_type": "code",
   "execution_count": 10,
   "id": "e1f67866-fe9f-4635-9e2b-0c8a68a888e3",
   "metadata": {},
   "outputs": [],
   "source": [
    "mystery_int_1 = 3\n",
    "mystery_int_2 = 4\n",
    "mystery_int_3 = 5\n",
    "\n",
    "#You may modify the lines of code above, but don't move them!\n",
    "#When you Submit your code, we'll change these lines to\n",
    "#assign different values to the variables.\n",
    "\n",
    "#Above are three values. Run a while loop until all three\n",
    "#values are less than or equal to 0. Every time you change\n",
    "#the value of the three variables, print out their new values\n",
    "#all on the same line, separated by single spaces. For\n",
    "#example, if their values were 3, 4, and 5 respectively, your\n",
    "#code would print:\n",
    "#\n",
    "#2 3 4\n",
    "#1 2 3\n",
    "#0 1 2\n",
    "#-1 0 1\n",
    "#-2 -1 0\n",
    "\n",
    "\n",
    "#Add your code here!"
   ]
  },
  {
   "cell_type": "code",
   "execution_count": 11,
   "id": "a891be46-9bb3-45b9-99c8-c387bb3e540e",
   "metadata": {},
   "outputs": [
    {
     "name": "stdout",
     "output_type": "stream",
     "text": [
      "2 3 4\n",
      "1 2 3\n",
      "0 1 2\n",
      "-1 0 1\n",
      "-2 -1 0\n"
     ]
    }
   ],
   "source": [
    "mystery_int_1 = 3\n",
    "mystery_int_2 = 4\n",
    "mystery_int_3 = 5\n",
    "\n",
    "while mystery_int_1 > 0 or mystery_int_2 > 0 or mystery_int_3 > 0:\n",
    "    mystery_int_1 -= 1\n",
    "    mystery_int_2 -= 1\n",
    "    mystery_int_3 -= 1\n",
    "    print(mystery_int_1, mystery_int_2, mystery_int_3)"
   ]
  },
  {
   "cell_type": "code",
   "execution_count": 12,
   "id": "ba6467b0-76e0-4195-9432-4d79ff3ddd4d",
   "metadata": {},
   "outputs": [],
   "source": [
    "num = 5\n",
    "\n",
    "#You may modify the lines of code above, but don't move them!\n",
    "#When you Submit your code, we'll change these lines to\n",
    "#assign different values to the variables.\n",
    "#\n",
    "#Write some code below that will print the factorial of num.\n",
    "#Remember to remove any debug statements when you're ready\n",
    "#to submit for credit."
   ]
  },
  {
   "cell_type": "code",
   "execution_count": 18,
   "id": "e933a2ad-b871-4880-b068-e3abe4dcc553",
   "metadata": {},
   "outputs": [
    {
     "name": "stdout",
     "output_type": "stream",
     "text": [
      "120\n"
     ]
    }
   ],
   "source": [
    "num = 5\n",
    "\n",
    "result = 1\n",
    "for i in range(1, num+1):\n",
    "    result *= i\n",
    "print(result)"
   ]
  },
  {
   "cell_type": "code",
   "execution_count": 19,
   "id": "5660e459-a027-40fc-9555-662dd3104171",
   "metadata": {},
   "outputs": [
    {
     "name": "stdout",
     "output_type": "stream",
     "text": [
      "First Example:\n",
      "1 times 1 equals 1\n",
      "1 times 2 equals 2\n",
      "1 times 3 equals 3\n",
      "1 times 4 equals 4\n",
      "1 times 5 equals 5\n",
      "1 times 6 equals 6\n",
      "1 times 7 equals 7\n",
      "1 times 8 equals 8\n",
      "1 times 9 equals 9\n",
      "1 times 10 equals 10\n",
      "2 times 1 equals 2\n",
      "2 times 2 equals 4\n",
      "2 times 3 equals 6\n",
      "2 times 4 equals 8\n",
      "2 times 5 equals 10\n",
      "2 times 6 equals 12\n",
      "2 times 7 equals 14\n",
      "2 times 8 equals 16\n",
      "2 times 9 equals 18\n",
      "2 times 10 equals 20\n",
      "3 times 1 equals 3\n",
      "3 times 2 equals 6\n",
      "3 times 3 equals 9\n",
      "3 times 4 equals 12\n",
      "3 times 5 equals 15\n",
      "3 times 6 equals 18\n",
      "3 times 7 equals 21\n",
      "3 times 8 equals 24\n",
      "3 times 9 equals 27\n",
      "3 times 10 equals 30\n",
      "4 times 1 equals 4\n",
      "4 times 2 equals 8\n",
      "4 times 3 equals 12\n",
      "4 times 4 equals 16\n",
      "4 times 5 equals 20\n",
      "4 times 6 equals 24\n",
      "4 times 7 equals 28\n",
      "4 times 8 equals 32\n",
      "4 times 9 equals 36\n",
      "4 times 10 equals 40\n",
      "5 times 1 equals 5\n",
      "5 times 2 equals 10\n",
      "5 times 3 equals 15\n",
      "5 times 4 equals 20\n",
      "5 times 5 equals 25\n",
      "5 times 6 equals 30\n",
      "5 times 7 equals 35\n",
      "5 times 8 equals 40\n",
      "5 times 9 equals 45\n",
      "5 times 10 equals 50\n",
      "6 times 1 equals 6\n",
      "6 times 2 equals 12\n",
      "6 times 3 equals 18\n",
      "6 times 4 equals 24\n",
      "6 times 5 equals 30\n",
      "6 times 6 equals 36\n",
      "6 times 7 equals 42\n",
      "6 times 8 equals 48\n",
      "6 times 9 equals 54\n",
      "6 times 10 equals 60\n",
      "7 times 1 equals 7\n",
      "7 times 2 equals 14\n",
      "7 times 3 equals 21\n",
      "7 times 4 equals 28\n",
      "7 times 5 equals 35\n",
      "7 times 6 equals 42\n",
      "7 times 7 equals 49\n",
      "7 times 8 equals 56\n",
      "7 times 9 equals 63\n",
      "7 times 10 equals 70\n",
      "8 times 1 equals 8\n",
      "8 times 2 equals 16\n",
      "8 times 3 equals 24\n",
      "8 times 4 equals 32\n",
      "8 times 5 equals 40\n",
      "8 times 6 equals 48\n",
      "8 times 7 equals 56\n",
      "8 times 8 equals 64\n",
      "8 times 9 equals 72\n",
      "8 times 10 equals 80\n",
      "9 times 1 equals 9\n",
      "9 times 2 equals 18\n",
      "9 times 3 equals 27\n",
      "9 times 4 equals 36\n",
      "9 times 5 equals 45\n",
      "9 times 6 equals 54\n",
      "9 times 7 equals 63\n",
      "9 times 8 equals 72\n",
      "9 times 9 equals 81\n",
      "9 times 10 equals 90\n",
      "10 times 1 equals 10\n",
      "10 times 2 equals 20\n",
      "10 times 3 equals 30\n",
      "10 times 4 equals 40\n",
      "10 times 5 equals 50\n",
      "10 times 6 equals 60\n",
      "10 times 7 equals 70\n",
      "10 times 8 equals 80\n",
      "10 times 9 equals 90\n",
      "10 times 10 equals 100\n"
     ]
    }
   ],
   "source": [
    "#Imagine if we wanted to print the times tables for the numbers 1\n",
    "#through 10. In other words, we want to multiply 1 times every number\n",
    "#from 1 to 10, 2 by every number from 1 through 20, etc. How would we\n",
    "#do that?\n",
    "#\n",
    "#Well, let's look at the phrasing: for every number from 1 to 10, we\n",
    "#want to multiply it by every number from 1 to 10. Notice the word\n",
    "#'every' is twice in that description. 'Every' is one of those words\n",
    "#that gives away the need for a loop. So, it sounds like we're going\n",
    "#to need two loops! Note also that the second loop is running through\n",
    "#the numbers 1 to 10 for every number in the first loop.\n",
    "#\n",
    "#So, what would this look like?\n",
    "\n",
    "print(\"First Example:\")\n",
    "\n",
    "#For every number from 1 to 10...\n",
    "for i in range(1, 11):\n",
    "    #For every number from 1 to 10...\n",
    "    for j in range(1, 11):\n",
    "        #Print the product of the two numbers.\n",
    "        print(i, \"times\", j, \"equals\", i*j)\n",
    "        \n",
    "#Notice that the loop on line 18 is controlled by the loop on line 16.\n",
    "#So, each iteration of the loop on line 16, the loop on line 18 runs\n",
    "#10 times.\n",
    "#\n",
    "#That's an ugly flat list, though. What if we wanted to print them more\n",
    "#like an actual table? We can do that! We just have to make use of a\n",
    "#trick we haven't quite learned... you'll do that later!"
   ]
  },
  {
   "cell_type": "code",
   "execution_count": 20,
   "id": "094f3006-47d5-487b-a277-5da18128a3d1",
   "metadata": {},
   "outputs": [],
   "source": [
    "beats_per_measure = 4\n",
    "measures = 5\n",
    "\n",
    "#You may modify the lines of code above, but don't move them!\n",
    "#When you Submit your code, we'll change these lines to\n",
    "#assign different values to the variables.\n",
    "\n",
    "#In music, a song's time signature is given in terms of beats\n",
    "#per measure. A common time signature is 4 beats per measure:\n",
    "#for every measure of music, a conductor might count from 1\n",
    "#to 4 with the tempo of the music.\n",
    "#\n",
    "#A song then has a number of measures. For example, a short\n",
    "#song might have only 5 measures. In which case, a conductor\n",
    "#would count from 1 to 4 five times. If the time signature had\n",
    "#instead been 3 beats per measure, she would could from 1 to 3\n",
    "#five times instead.\n",
    "#\n",
    "#Write a nested for loop that will print out the beats of the\n",
    "#piece of music. For example, if the song had 4 beats per\n",
    "#measure and only 2 measures, this would print out:\n",
    "#\n",
    "#1\n",
    "#2\n",
    "#3\n",
    "#4\n",
    "#1\n",
    "#2\n",
    "#3\n",
    "#4\n",
    "#\n",
    "#We print from 1 to 4 before starting over because there are\n",
    "#4 beats per measure, and we print them all twice because there\n",
    "#are two measures.\n",
    "\n",
    "\n",
    "#Add your code here! Using the original values of the variables\n",
    "#above, this will initially print 1 through 4 five times for a\n",
    "#total of 20 lines."
   ]
  },
  {
   "cell_type": "code",
   "execution_count": 24,
   "id": "82934023-a4e0-4546-bcd1-26740bd6798d",
   "metadata": {
    "collapsed": true,
    "jupyter": {
     "outputs_hidden": true
    },
    "tags": []
   },
   "outputs": [
    {
     "name": "stdout",
     "output_type": "stream",
     "text": [
      "1\n",
      "2\n",
      "3\n",
      "4\n",
      "1\n",
      "2\n",
      "3\n",
      "4\n",
      "1\n",
      "2\n",
      "3\n",
      "4\n",
      "1\n",
      "2\n",
      "3\n",
      "4\n",
      "1\n",
      "2\n",
      "3\n",
      "4\n"
     ]
    }
   ],
   "source": [
    "beats_per_measure = 4\n",
    "measures = 5\n",
    "\n",
    "for i in range(1, measures+1):\n",
    "    for i in range(1, beats_per_measure+1):\n",
    "        print(i)"
   ]
  },
  {
   "cell_type": "code",
   "execution_count": 25,
   "id": "4e216751-c8a1-4528-b8b7-c4867a420be7",
   "metadata": {},
   "outputs": [],
   "source": [
    "lyrics = [\"I wanna be your endgame\", \"I wanna be your first string\",\n",
    "          \"I wanna be your A-Team\", \"I wanna be your endgame, endgame\"]\n",
    "lines_of_sanity = 6\n",
    "\n",
    "#You may modify the lines of code above, but don't move them!\n",
    "#When you Submit your code, we'll change these lines to\n",
    "#assign different values to the variables.\n",
    "\n",
    "#Imagine you have a song stuck in your head. Worse, you have\n",
    "#only a few lines from a song stuck in your head. They just\n",
    "#keep repeating over and over. The specific lines you have\n",
    "#stuck in your head are stored in the variable lyrics.\n",
    "#\n",
    "#You can only stay sane so long while doing this.\n",
    "#Specifically, you can only listen to lines_of_sanity lines\n",
    "#before going crazy. Once you've reached lines_of_sanity,\n",
    "#your brain will finish out the current list, then crumble.\n",
    "#\n",
    "#Write some code that will print the lyrics that run through\n",
    "#your head. It should keep repeating each line one-by-one\n",
    "#until you've reached lines_of_sanity lines. Then, it should\n",
    "#keep going to finish out the current verse. After that, print\n",
    "#\"MAKE IT STOP\" in all caps (without the quotes).\n",
    "#\n",
    "#HINT: Remember, we can iterate through items in a list using\n",
    "#this syntax:\n",
    "#\n",
    "#  for item in list_of_items:\n",
    "#\n",
    "#HINT 2: You'll probably need a counter to count how many lines\n",
    "#have been printed so far.\n",
    "\n",
    "\n",
    "#Add your code here! Using the initial inputs from above, this\n",
    "#should print 9 lines: all 4 lines of the list twice, followed\n",
    "#by MAKE IT STOP"
   ]
  },
  {
   "cell_type": "code",
   "execution_count": 15,
   "id": "5b4545e1-18e1-4d3a-9c6c-e71cba0e2a8d",
   "metadata": {},
   "outputs": [
    {
     "name": "stdout",
     "output_type": "stream",
     "text": [
      "I wanna be your endgame\n",
      "I wanna be your first string\n",
      "I wanna be your A-Team\n",
      "I wanna be your endgame, endgame\n",
      "I wanna be your endgame\n",
      "I wanna be your first string\n",
      "I wanna be your A-Team\n",
      "I wanna be your endgame, endgame\n",
      "MAKE IT STOP\n"
     ]
    }
   ],
   "source": [
    "lyrics = [\"I wanna be your endgame\", \"I wanna be your first string\",\n",
    "          \"I wanna be your A-Team\", \"I wanna be your endgame, endgame\"]\n",
    "lines_of_sanity = 6\n",
    "\n",
    "count = 0\n",
    "while lines_of_sanity > count:\n",
    "    for i in lyrics:\n",
    "        count += 1\n",
    "        print(i)\n",
    "print(\"MAKE IT STOP\")"
   ]
  },
  {
   "cell_type": "code",
   "execution_count": 16,
   "id": "39fa65ea-e6d7-44a4-9645-8a1afb41d9be",
   "metadata": {},
   "outputs": [
    {
     "name": "stdout",
     "output_type": "stream",
     "text": [
      "I wanna be your endgame\n",
      "I wanna be your first string\n",
      "I wanna be your A-Team\n",
      "I wanna be your endgame, endgame\n",
      "I wanna be your endgame\n",
      "I wanna be your first string\n",
      "I wanna be your A-Team\n",
      "I wanna be your endgame, endgame\n",
      "MAKE IT STOP\n",
      "I wanna be your endgame\n",
      "I wanna be your first string\n",
      "I wanna be your A-Team\n",
      "I wanna be your endgame, endgame\n",
      "I wanna be your endgame\n",
      "I wanna be your first string\n",
      "I wanna be your A-Team\n",
      "I wanna be your endgame, endgame\n",
      "MAKE IT STOP\n"
     ]
    }
   ],
   "source": [
    "lyrics = [\"I wanna be your endgame\", \"I wanna be your first string\",\n",
    "          \"I wanna be your A-Team\", \"I wanna be your endgame, endgame\"]\n",
    "lines_of_sanity = 6\n",
    "\n",
    "#As the hint suggested, we're going to need a counter to count how\n",
    "#many lines have been played already. This is how we'll know if we've\n",
    "#lost sanity yet. We'll start this at 0:\n",
    "\n",
    "lines_heard = 0\n",
    "\n",
    "#Now, we need two loops: a while loop while lines_heard is less than\n",
    "#lines_of_sanity, and a for loop to iterate through each line of the\n",
    "#song. Which one goes first?\n",
    "#\n",
    "#Well, we want to repeat the song while lines_heard is less than\n",
    "#lines_of_sanity. Since the while loop is governing the for loop, we\n",
    "#put the while loop on the outside:\n",
    "\n",
    "while lines_heard < lines_of_sanity:\n",
    "    \n",
    "    #Then we run a for loop for each line of the lyrics:\n",
    "    for line in lyrics:\n",
    "        \n",
    "        #For each line, we want to increment out counter so we can\n",
    "        #keep track of our sanity:        \n",
    "        lines_heard += 1\n",
    "        \n",
    "        #Then we want to print the current line:\n",
    "        print(line)\n",
    "\n",
    "#Then, after we're done printing the lyrics, we print MAKE IT STOP.\n",
    "#Note that this is outside any of the loops because it only prints\n",
    "#once, and only after the other lines are done.\n",
    "print(\"MAKE IT STOP\")\n",
    "\n",
    "#There are a lot of more complicated ways we could have done this,\n",
    "#but this is the simplest. Note that if we wanted to cut off the\n",
    "#lyrics right when lines_heard exceeds lines_of_sanity, this\n",
    "#problem would actually be more complicated.\n",
    "\n",
    "\n",
    "lines_heard = 0 \n",
    "\n",
    "#while loop where lines_heard < lines_of_sanity\n",
    "\n",
    "while lines_heard < lines_of_sanity:\n",
    "\n",
    "#for loop iterate through each line of the song \n",
    "    for line in lyrics:\n",
    "        lines_heard += 1 \n",
    "        print(line)\n",
    "print(\"MAKE IT STOP\")"
   ]
  },
  {
   "cell_type": "code",
   "execution_count": 17,
   "id": "50dced7c-64cf-4226-aaab-3f92cd8470c5",
   "metadata": {},
   "outputs": [
    {
     "name": "stdout",
     "output_type": "stream",
     "text": [
      "6\n"
     ]
    }
   ],
   "source": [
    "for i in range(6, 1, -5):\n",
    "    print(i)"
   ]
  },
  {
   "cell_type": "code",
   "execution_count": 19,
   "id": "c5d221b1-818f-4332-8d58-df7933ac92e8",
   "metadata": {},
   "outputs": [
    {
     "ename": "SyntaxError",
     "evalue": "invalid syntax (785320607.py, line 1)",
     "output_type": "error",
     "traceback": [
      "\u001b[0;36m  Input \u001b[0;32mIn [19]\u001b[0;36m\u001b[0m\n\u001b[0;31m    for i < 4:\u001b[0m\n\u001b[0m             ^\u001b[0m\n\u001b[0;31mSyntaxError\u001b[0m\u001b[0;31m:\u001b[0m invalid syntax\n"
     ]
    }
   ],
   "source": [
    "for i < 4:\n",
    "    print(i)"
   ]
  },
  {
   "cell_type": "code",
   "execution_count": 20,
   "id": "bbd054a5-cdb1-4b41-b6ee-664fb339cb02",
   "metadata": {},
   "outputs": [],
   "source": [
    "for aString in range(0):\n",
    "    print(i)"
   ]
  },
  {
   "cell_type": "code",
   "execution_count": 31,
   "id": "a682ac13-196a-415a-b181-d4c730d8fd42",
   "metadata": {},
   "outputs": [
    {
     "name": "stdout",
     "output_type": "stream",
     "text": [
      "10 90\n",
      "looped!\n",
      "20 80\n",
      "looped!\n",
      "30 70\n",
      "looped!\n",
      "40 60\n",
      "looped!\n",
      "50 50\n",
      "looped!\n"
     ]
    }
   ],
   "source": [
    "i = 0 \n",
    "j = 100 \n",
    "while i < j:\n",
    "    i = i + 10\n",
    "    j = j - 10\n",
    "    print(i,j)\n",
    "    print(\"looped!\")"
   ]
  },
  {
   "cell_type": "code",
   "execution_count": null,
   "id": "a61347c6-07e4-4190-8573-e8f2280a5151",
   "metadata": {},
   "outputs": [],
   "source": [
    "## go back to this one\n",
    "\n",
    "away_team = [1, 0, 0, 0, 0, 0, 0, 0, 1]\n",
    "home_team = [0, 1, 0, 0, 0, 0, 2, 0]\n",
    "\n",
    "#You may modify the lines of code above, but don't move them!\n",
    "#When you Submit your code, we'll change these lines to\n",
    "#assign different values to the variables.\n",
    "\n",
    "#A baseball game consists of 9 innings. In each inning, each\n",
    "#team can score some number of runs. Whoever scores the most\n",
    "#runs wins the game. Note that there are reasons why the\n",
    "#number of innings might differ; extra innings for a tie game,\n",
    "#fewer innings for a rain-cancelled game, etc. So, you should\n",
    "#not assume there are exactly 9 full innings.\n",
    "#\n",
    "#The two lists above give the runs scored in each inning by\n",
    "#two teams. If the away team wins, print \"Away team wins!\"\n",
    "#If the home team wins, print \"Home team wins!\" You may assume\n",
    "#the game will not end in a tie.\n",
    "#\n",
    "#Remember, you can use a loop to look at each item in a list\n",
    "#with this syntax:\n",
    "#\n",
    "#for value in the_list:\n",
    "#\n",
    "#Inside that loop, the variable 'value' will take on each\n",
    "#value from the list until it's seen every value. You\n",
    "#don't need to know anything more about lists to solve this\n",
    "#problem!\n",
    "#\n",
    "#Note that you must use a loop to solve this problem. If you\n",
    "#use something like the sum() function, your answer will not\n",
    "#be accepted.\n",
    "\n",
    "\n",
    "#Add your code here! With the initial values above, it should\n",
    "#print \"Home team wins!\""
   ]
  },
  {
   "cell_type": "code",
   "execution_count": 29,
   "id": "0c1e4a7e-d775-4b61-a05b-be503767b140",
   "metadata": {},
   "outputs": [
    {
     "name": "stdout",
     "output_type": "stream",
     "text": [
      "1\n",
      "2\n",
      "3\n",
      "4\n",
      "5\n",
      "6\n",
      "7\n",
      "8\n",
      "9\n",
      "Away team wins!\n"
     ]
    }
   ],
   "source": [
    "away_team = [1, 0, 0, 0, 0, 0, 0, 0, 1]\n",
    "home_team = [0, 1, 0, 0, 0, 0, 2, 0]\n",
    "\n",
    "away_score = 0 \n",
    "home_score = 0 \n",
    "\n",
    "for inning in away_team:\n",
    "    if away_team > home_team: \n",
    "        away_score += 1\n",
    "        print(away_score)\n",
    "\n",
    "for inning in home_team:\n",
    "    if home_team > away_team: \n",
    "        home_score += 1\n",
    " \n",
    "\n",
    "if home_score > away_score:\n",
    "    print(\"Home team wins!\")\n",
    "if away_score > home_score:\n",
    "    print(\"Away team wins!\") "
   ]
  },
  {
   "cell_type": "code",
   "execution_count": 40,
   "id": "6c0af86d-0293-4cb5-a96a-721172bc9065",
   "metadata": {},
   "outputs": [
    {
     "name": "stdout",
     "output_type": "stream",
     "text": [
      "16\n"
     ]
    }
   ],
   "source": [
    "mystery_int = 7\n",
    "\n",
    "#You may modify the lines of code above, but don't move them!\n",
    "#When you Submit your code, we'll change these lines to\n",
    "#assign different values to the variables.\n",
    "\n",
    "#Use a loop to find the sum of all numbers between 0 and\n",
    "#mystery_int, including bounds (meaning that if\n",
    "#mystery_int = 7, you add 0 + 1 + 2 + 3 + 4 + 5 + 6 + 7).\n",
    "#\n",
    "#However, there's a twist: mystery_int might be negative.\n",
    "#So, if mystery_int was -4, you would -4 + -3 + -2 + -1 + 0.\n",
    "#\n",
    "#There are a lot of different ways you can do this. Most of\n",
    "#them will involve using a conditional to decide whether to\n",
    "#add or subtract 1 from mystery_int.\n",
    "#\n",
    "#You may use either a for loop or a while loop to solve this,\n",
    "#although we recommend using a while loop.\n",
    "mystery_int = 7 \n",
    "\n",
    "previous = 0 \n",
    "mysum = 0\n",
    "\n",
    "for i in range(mystery_int+1): \n",
    "    if mystery_int>0: \n",
    "        mysum += 1\n",
    "        tot = mysum + previous\n",
    "    if mystery_int<0:\n",
    "        mysum -= 1\n",
    "print(tot)\n",
    "\n"
   ]
  },
  {
   "cell_type": "code",
   "execution_count": 41,
   "id": "5d6bfa64-50b8-4481-b933-96406d315e13",
   "metadata": {},
   "outputs": [
    {
     "name": "stdout",
     "output_type": "stream",
     "text": [
      "4\n"
     ]
    }
   ],
   "source": [
    "mystery_string = \"Hello! What a fine day it is today.\"\n",
    "mystery_character = \"a\"\n",
    "\n",
    "#-----------------------------------------------------------\n",
    "#You may modify the lines of code above, but don't move them!\n",
    "#When you Submit your code, we'll change these lines to\n",
    "#assign different values to the variables.\n",
    "\n",
    "#Write some code below that will count and print how many\n",
    "#times mystery_character appears in mystery_string. You may\n",
    "#not use the string class's .count method.\n",
    "#\n",
    "#With the original values for mystery_string and\n",
    "#mystery_character, your code should initially print 4. Only\n",
    "#count characters with the same case as mystery_character\n",
    "#(in other words, here you would ignore capital A).\n",
    "\n",
    "\n",
    "#Add your code here!\n",
    "\n",
    "count = 0 \n",
    "\n",
    "for i in mystery_string:\n",
    "    if i == mystery_character:\n",
    "        count += 1 \n",
    "print(count)"
   ]
  },
  {
   "cell_type": "code",
   "execution_count": 42,
   "id": "9b893fc9-c21c-49ad-8f4d-7c7004106002",
   "metadata": {},
   "outputs": [
    {
     "name": "stdout",
     "output_type": "stream",
     "text": [
      "6\n"
     ]
    }
   ],
   "source": [
    "mystery_list = [\"Taylor Swift\", \"Twenty Two\", \"Georgia Tech\"]\n",
    "\n",
    "#You may modify the lines of code above, but don't move them!\n",
    "#When you Submit your code, we'll change these lines to\n",
    "#assign different values to the variables.\n",
    "\n",
    "#Above is a list of strings. Don't worry if this syntax is a\n",
    "#little unfamiliar, we'll talk you through it and then cover\n",
    "#it more in chapter 4.3.\n",
    "#\n",
    "#Write some code that will count the number of instances of\n",
    "#the letter 't' in the list of strings. Count both capital\n",
    "#'T' and lower-case 't'. Then, print the number of instances\n",
    "#of the letter 't'.\n",
    "#\n",
    "#For example, with the list declared above, you would print\n",
    "#6: two in the first string, three in the second, one in the\n",
    "#third.\n",
    "#\n",
    "#Because we haven't used lists very extensively, we've\n",
    "#gotten you started. The loop below will iterate through each\n",
    "#string in the list. Next, you want to iterate through each\n",
    "#letter in the current string, check if it's a t, and\n",
    "#increment a counter if so.\n",
    "\n",
    "\n",
    "#You'll want to add some code before the loop here.\n",
    "count = 0 \n",
    "\n",
    "for string in mystery_list:\n",
    "    count += string.lower().count('t')\n",
    "print(count)"
   ]
  },
  {
   "cell_type": "code",
   "execution_count": 1,
   "id": "d6a630fd-c5f7-419c-9972-06980180854d",
   "metadata": {},
   "outputs": [
    {
     "name": "stdout",
     "output_type": "stream",
     "text": [
      "43\n",
      "40\n",
      "37\n",
      "34\n",
      "31\n",
      "28\n",
      "25\n",
      "22\n",
      "19\n",
      "16\n",
      "13\n",
      "10\n",
      "7\n",
      "4\n",
      "1\n"
     ]
    }
   ],
   "source": [
    "mystery_int = 46\n",
    "\n",
    "#You may modify the lines of code above, but don't move them!\n",
    "#When you Submit your code, we'll change these lines to\n",
    "#assign different values to the variables.\n",
    "\n",
    "#Use a while loop to create a countdown from mystery_int to\n",
    "#0. Count down by 3s: if mystery_int is 46, then you should\n",
    "#print 46, 43, 40, etc. Do not print any number lower than 0.\n",
    "#Note that you should print both the original value of\n",
    "#mystery_int and 0 if you land on it exactly.\n",
    "\n",
    "count = 0 \n",
    "while mystery_int > 1: \n",
    "    mystery_int -= 3\n",
    "    print(mystery_int)"
   ]
  },
  {
   "cell_type": "code",
   "execution_count": 2,
   "id": "70c88181-8917-47a0-a67c-52a11ebe1cdb",
   "metadata": {},
   "outputs": [
    {
     "name": "stdout",
     "output_type": "stream",
     "text": [
      "13 heads, 10 tails. Heads wins.\n"
     ]
    }
   ],
   "source": [
    "flips = \"HHTTHTHHTTHHTHTHTHHTTHH\"\n",
    "\n",
    "#You may modify the lines of code above, but don't move them!\n",
    "#When you Submit your code, we'll change these lines to\n",
    "#assign different values to the variables.\n",
    "\n",
    "#The string above gives the results of a series of coin flips,\n",
    "#H for heads and T for tails.\n",
    "#\n",
    "#Count the number of heads and number of tails. Then, print\n",
    "#a message like this one based on the results:\n",
    "#\n",
    "#13 heads, 10 tails. Heads wins.\n",
    "#\n",
    "#Replace 13 and 10 with the actual numbers of heads and tails.\n",
    "#Replace 'Heads wins.' with 'Tails wins.' ift there are more\n",
    "#tails, or with 'It's a tie.' if there are the same number of\n",
    "#heads and tails.\n",
    "#\n",
    "#For example:\n",
    "#\n",
    "# \"HHTTHH\" -> 4 heads, 2 tails. Heads wins.\n",
    "# \"THTHTT\" -> 2 heads, 4 tails. Tails wins.\n",
    "# \"TTHHHT\" -> 3 heads, 3 tails. It's a tie.\n",
    "\n",
    "\n",
    "#Add your code here!\n",
    "\n",
    "\n",
    "head = flips.count(\"H\")\n",
    "tail = flips.count(\"T\")\n",
    "\n",
    "if head == tail:\n",
    "    print(head, \"heads,\", tail, \"tails. It's a tie.\")\n",
    "elif tail > head: \n",
    "    print(head, \"heads,\", tail, \"tails. Tails wins.\")\n",
    "elif head > tail:\n",
    "    print(head, \"heads,\", tail, \"tails. Heads wins.\")"
   ]
  },
  {
   "cell_type": "code",
   "execution_count": 3,
   "id": "08b57724-0baa-4171-b580-3e873422d7ef",
   "metadata": {},
   "outputs": [],
   "source": [
    "a_string = \"F12dav^f%$25d\"\n",
    "\n",
    "#You may modify the lines of code above, but don't move them!\n",
    "#When you Submit your code, we'll change these lines to\n",
    "#assign different values to the variables.\n",
    "\n",
    "#a_string is a string of random characters. Write some code\n",
    "#that adds all the digits that appear in the string and prints\n",
    "#their sum.\n",
    "#\n",
    "#For example, the digits in the string above are 1, 2, 2, and 5,\n",
    "#so your code would print 10.\n",
    "#\n",
    "#Remember, you can iterate over each character in a string with\n",
    "#this syntax:\n",
    "#\n",
    "#for a_character in a_string:\n",
    "#\n",
    "#Remember also, you can check if a character is in a list of other\n",
    "#characters within this syntax:\n",
    "#\n",
    "#if a_character in \"ABCDEFG\":\n",
    "#\n",
    "#If there are no digits in the string, print 0.\n",
    "\n",
    "\n",
    "#Add your code here!"
   ]
  },
  {
   "cell_type": "code",
   "execution_count": 14,
   "id": "7f4ad3d0-8025-47a7-afc1-d3d2c4e980c7",
   "metadata": {},
   "outputs": [
    {
     "name": "stdout",
     "output_type": "stream",
     "text": [
      "4\n"
     ]
    }
   ],
   "source": [
    "# Find the digit in a_string \n",
    "a_string = \"F12dav^f%$25d\"\n",
    "sum = 0 \n",
    "for a_character in a_string:\n",
    "    if a_character.isdigit():\n",
    "        sum += 1\n",
    "print(sum) \n",
    "#Add the digits \n",
    "\n"
   ]
  },
  {
   "cell_type": "code",
   "execution_count": 15,
   "id": "8cf25863-ec6c-4e33-8ffe-c72f61ae691d",
   "metadata": {
    "collapsed": true,
    "jupyter": {
     "outputs_hidden": true
    },
    "tags": []
   },
   "outputs": [
    {
     "name": "stdout",
     "output_type": "stream",
     "text": [
      "A\n",
      "B\n",
      "C\n",
      "D\n",
      "E\n",
      "F\n",
      "G\n",
      "H\n",
      "I\n",
      "J\n",
      "K\n",
      "L\n",
      "M\n",
      "N\n",
      "O\n",
      "P\n",
      "Q\n",
      "R\n",
      "S\n",
      "T\n",
      "U\n",
      "V\n",
      "W\n",
      "X\n",
      "Y\n",
      "Z\n"
     ]
    }
   ],
   "source": [
    "start_character = \"A\"\n",
    "end_character = \"Z\"\n",
    "\n",
    "#You may modify the lines of code above, but don't move them!\n",
    "#When you Submit your code, we'll change these lines to\n",
    "#assign different values to the variables.\n",
    "\n",
    "#Print all the letters from start_character to end_character,\n",
    "#each on their own line. Include start_character and\n",
    "#end_character themselves.\n",
    "#\n",
    "#Remember, you can convert a letter to its underlying ASCII\n",
    "#number using the ord() function. ord(\"A\") would give 65.\n",
    "#ord(\"Z\") would give 90. You can use these values to write\n",
    "#your loop.\n",
    "#\n",
    "#You can also convert an integer into its corresponding ASCII\n",
    "#character using the chr() function. chr(65) would give \"A\".\n",
    "#chr(90) would give \"Z\". So, for this problem, you'll need\n",
    "#to convert back and forth between ordinal values and\n",
    "#characters based on whether you're trying to loop over\n",
    "#numbers or print letters.\n",
    "#\n",
    "#You may assume that both start_character and end_character\n",
    "#are uppercase letters (although you might find it fun to\n",
    "#play around and see what happens if you put other characters\n",
    "#in instead!).\n",
    "\n",
    "\n",
    "#Add your code here! With the original values for\n",
    "#start_character and end_character, this will print the\n",
    "#letters from A to Z, each on their own line.\n",
    "\n",
    "start_character = ord(start_character)\n",
    "end_character = ord(end_character)\n",
    "\n",
    "for i in range(start_character, end_character+1):\n",
    "    print(chr(i))"
   ]
  },
  {
   "cell_type": "code",
   "execution_count": 30,
   "id": "c5fe4baf-d1fb-462c-ab5a-33187a52687c",
   "metadata": {},
   "outputs": [
    {
     "name": "stdout",
     "output_type": "stream",
     "text": [
      "1 2 3 4 2 2 3 4 3 2 3 4 4 2 3 4 5 2 3 4 "
     ]
    }
   ],
   "source": [
    "beats_per_measure = 4\n",
    "measures = 5\n",
    "\n",
    "for m in range(1, measures+1): \n",
    "#for each measure m \n",
    "    for b in range(1, beats_per_measure+1):\n",
    "#for each beat b\n",
    "        if b == 1:\n",
    "            print(m, end=\" \") \n",
    "        else: \n",
    "            print(b, end=\" \") "
   ]
  },
  {
   "cell_type": "code",
   "execution_count": 58,
   "id": "193fc3e0-6f93-459b-9030-79f191779511",
   "metadata": {},
   "outputs": [
    {
     "name": "stdout",
     "output_type": "stream",
     "text": [
      "I wanna be your endgame 0\n",
      "I wanna be your first string 1\n",
      "I wanna be your A-Team 2\n",
      "I wanna be your endgame, endgame 3\n",
      "I wanna be your endgame 4\n",
      "I wanna be your first string 5\n",
      "I wanna be your A-Team 6\n",
      "I wanna be your endgame, endgame 7\n",
      "MAKE IT STOP\n"
     ]
    }
   ],
   "source": [
    "lyrics = [\"I wanna be your endgame\", \"I wanna be your first string\",\n",
    "          \"I wanna be your A-Team\", \"I wanna be your endgame, endgame\"]\n",
    "lines_of_sanity = 6\n",
    "\n",
    "#As the hint suggested, we're going to need a counter to count how\n",
    "#many lines have been played already. This is how we'll know if we've\n",
    "#lost sanity yet. We'll start this at 0:\n",
    "\n",
    "#lines_heard = 0\n",
    "\n",
    "#Now, we need two loops: a while loop while lines_heard is less than\n",
    "#lines_of_sanity, and a for loop to iterate through each line of the\n",
    "#song. Which one goes first?\n",
    "#\n",
    "#Well, we want to repeat the song while lines_heard is less than\n",
    "#lines_of_sanity. Since the while loop is governing the for loop, we\n",
    "#put the while loop on the outside:\n",
    "\n",
    "#while lines_heard < lines_of_sanity:\n",
    "    \n",
    "    #Then we run a for loop for each line of the lyrics:\n",
    "    #for line in lyrics:\n",
    "        \n",
    "        #For each line, we want to increment out counter so we can\n",
    "        #keep track of our sanity:        \n",
    "        #lines_heard += 1\n",
    "        \n",
    "        #Then we want to print the current line:\n",
    "        #print(line)\n",
    "\n",
    "#Then, after we're done printing the lyrics, we print MAKE IT STOP.\n",
    "#Note that this is outside any of the loops because it only prints\n",
    "#once, and only after the other lines are done.\n",
    "#print(\"MAKE IT STOP\")\n",
    "\n",
    "#There are a lot of more complicated ways we could have done this,\n",
    "#but this is the simplest. Note that if we wanted to cut off the\n",
    "#lyrics right when lines_heard exceeds lines_of_sanity, this\n",
    "#problem would actually be more complicated.\n",
    "\n",
    "\n",
    "lines_heard = 0\n",
    "\n",
    "#while loop where lines_heard < lines_of_sanity\n",
    "\n",
    "while lines_heard < lines_of_sanity:\n",
    "    for line in lyrics:\n",
    "        print(line, lines_heard)\n",
    "        lines_heard += 1\n",
    "print(\"MAKE IT STOP\")"
   ]
  },
  {
   "cell_type": "code",
   "execution_count": 61,
   "id": "dfbc7c96-b935-4f3f-946c-75f6431f4132",
   "metadata": {},
   "outputs": [
    {
     "name": "stdout",
     "output_type": "stream",
     "text": [
      "I wanna be your endgame 0\n",
      "I wanna be your first string 1\n",
      "I wanna be your A-Team 2\n",
      "I wanna be your endgame, endgame 3\n",
      "I wanna be your endgame 4\n",
      "I wanna be your first string 5\n",
      "I wanna be your A-Team 6\n",
      "I wanna be your endgame, endgame 7\n",
      "make it stop\n"
     ]
    }
   ],
   "source": [
    "lyrics = [\"I wanna be your endgame\", \"I wanna be your first string\",\n",
    "          \"I wanna be your A-Team\", \"I wanna be your endgame, endgame\"]\n",
    "lines_of_sanity = 6\n",
    "lines_heard = 0 \n",
    "\n",
    "while lines_heard <= lines_of_sanity+1:\n",
    "    for line in lyrics:\n",
    "        print(line, lines_heard)\n",
    "        lines_heard = lines_heard + 1\n",
    "print(\"make it stop\")"
   ]
  },
  {
   "cell_type": "code",
   "execution_count": 64,
   "id": "6b9b0142-6cd2-4750-a7a3-fbe15ebdc933",
   "metadata": {},
   "outputs": [
    {
     "name": "stdout",
     "output_type": "stream",
     "text": [
      "1\t2\t3\t4\t5\t6\t7\t8\t9\t10\t11\t12\t \n",
      "2\t4\t6\t8\t10\t12\t14\t16\t18\t20\t22\t24\t \n",
      "3\t6\t9\t12\t15\t18\t21\t24\t27\t30\t33\t36\t \n",
      "4\t8\t12\t16\t20\t24\t28\t32\t36\t40\t44\t48\t \n",
      "5\t10\t15\t20\t25\t30\t35\t40\t45\t50\t55\t60\t \n",
      "6\t12\t18\t24\t30\t36\t42\t48\t54\t60\t66\t72\t \n",
      "7\t14\t21\t28\t35\t42\t49\t56\t63\t70\t77\t84\t \n",
      "8\t16\t24\t32\t40\t48\t56\t64\t72\t80\t88\t96\t \n",
      "9\t18\t27\t36\t45\t54\t63\t72\t81\t90\t99\t108\t \n",
      "10\t20\t30\t40\t50\t60\t70\t80\t90\t100\t110\t120\t \n",
      "11\t22\t33\t44\t55\t66\t77\t88\t99\t110\t121\t132\t \n",
      "12\t24\t36\t48\t60\t72\t84\t96\t108\t120\t132\t144\t \n"
     ]
    }
   ],
   "source": [
    "for i in range(1, 13): \n",
    "    for j in range(1, 13):\n",
    "        print(i * j, end='\\t')\n",
    "    print(' ')"
   ]
  },
  {
   "cell_type": "code",
   "execution_count": 65,
   "id": "9596bbaf-8936-46ef-8c2e-a08e6fc9083a",
   "metadata": {},
   "outputs": [
    {
     "name": "stdout",
     "output_type": "stream",
     "text": [
      "1\t2\t3\t4\t5\t\n",
      "2\t4\t6\t8\t10\t\n",
      "3\t6\t9\t12\t15\t\n",
      "4\t8\t12\t16\t20\t\n",
      "5\t10\t15\t20\t25\t\n"
     ]
    }
   ],
   "source": [
    "mystery_int = 5\n",
    "\n",
    "#There are a few ways to do this, but they all follow the\n",
    "#same structure. First, we need two nested for loops. The\n",
    "#two loops are identical:\n",
    "\n",
    "# for row in range(1, mystery_int + 1):\n",
    "#     for col in range(1, mystery_int + 1):\n",
    "\n",
    "#Notice how those two loops will run. First row will get the\n",
    "#value 1. Then, while row has the value 1, col will get\n",
    "#every value from 1 to mystery_int: 1, 2, 3, 4, and 5. Only\n",
    "#after col has gotten each value will we return to increment\n",
    "#row to 2. Then, when row is 2, we again give col each value\n",
    "#from 1 to mystery_int. In this way, we touch every pair of\n",
    "#numbers: 1*1, 1*2, 1*3, 1*4, 1*5, 2*1, 2*2, 2*3, 2*4, etc.\n",
    "#\n",
    "#Next, we know we're going to need to print the product. So,\n",
    "#let's add the code to calculate and print the product:\n",
    "#\n",
    "# for row in range(1, mystery_int + 1):\n",
    "#     for col in range(1, mystery_int + 1):\n",
    "#         product = row * col\n",
    "#         print(product)\n",
    "#\n",
    "#If you run that, you'll find that it prints all the products\n",
    "#in one flat list. We're almost there! Now we just have to\n",
    "#worry about organizing it into a table.\n",
    "#\n",
    "#So, if print() starts a new line whenever it's called, then\n",
    "#we don't want to call print() for every product. We only\n",
    "#want to call it for every row. So, instead of putting print\n",
    "#inside both loops, we want to put it only inside the outer\n",
    "#loop:\n",
    "#\n",
    "# for row in range(1, mystery_int + 1):\n",
    "#     for col in range(1, mystery_int + 1):\n",
    "#         product = row * col\n",
    "#     print()\n",
    "#\n",
    "#Notice that print() is only indented once: this means it's\n",
    "#controlled by the first loop, but not the second. So, it runs\n",
    "#for every row, not for every row and column.\n",
    "#\n",
    "#Right now, though, it isn't printing anything! We want to\n",
    "#build up a string to represent the row, then only print it\n",
    "#once the row is complete. So, we start the row before the\n",
    "#inner loop runs, and we print the row after it's done:\n",
    "\n",
    "for i in range(1, mystery_int + 1):\n",
    "    row_string = \"\"\n",
    "    for j in range(1, mystery_int + 1):\n",
    "        product = i * j\n",
    "        row_string += str(product) + \"\\t\"\n",
    "    print(row_string)\n",
    "\n",
    "#Every time the outer loop runs, it creates a new row_string.\n",
    "#Then, one-by-one, it adds each product to row_string, separated\n",
    "#by a tab (\"\\t\", though you can use spaces if you'd like).\n",
    "#Then, when it's done building the row, it prints it."
   ]
  },
  {
   "cell_type": "code",
   "execution_count": 71,
   "id": "9dd0ee66-5275-4b3a-97df-9733535a90b3",
   "metadata": {},
   "outputs": [
    {
     "name": "stdout",
     "output_type": "stream",
     "text": [
      "*  \n",
      "* *  \n",
      "* * *  \n",
      "* * * *  \n",
      "* * * * *  \n",
      "* * * * * *  \n",
      "* * * * * * *  \n",
      "* * * * * * * *  \n",
      "* * * * * * * * *  \n",
      "* * * * * * * * * *  \n",
      "* * * * * * * * * * *  \n",
      "* * * * * * * * * * * *  \n",
      "* * * * * * * * * * * * *  \n",
      "* * * * * * * * * * * * * *  \n",
      "* * * * * * * * * * * * * * *  \n"
     ]
    }
   ],
   "source": [
    "for i in range(1, 16):\n",
    "    #time.sleep(0,2)\n",
    "    for j in range(1, 16):\n",
    "        if i >= j:\n",
    "            #time.sleep(0,2)\n",
    "            print('*', end=' ')\n",
    "    print(' ')"
   ]
  },
  {
   "cell_type": "code",
   "execution_count": 92,
   "id": "abd57be0-a0af-4d51-b122-108b00d16af9",
   "metadata": {},
   "outputs": [
    {
     "name": "stdout",
     "output_type": "stream",
     "text": [
      "-10\n"
     ]
    }
   ],
   "source": [
    "mystery_int = -4\n",
    "total = 0 \n",
    "\n",
    "while mystery_int != 0:\n",
    "    total = total + mystery_int\n",
    "    if mystery_int > 0:\n",
    "        mystery_int = mystery_int - 1\n",
    "    elif mystery_int < 0:\n",
    "        mystery_int = mystery_int + 1\n",
    "\n",
    "print(total)"
   ]
  },
  {
   "cell_type": "code",
   "execution_count": 102,
   "id": "dd3829de-9dab-4cba-be81-f58af882ac15",
   "metadata": {},
   "outputs": [
    {
     "name": "stdout",
     "output_type": "stream",
     "text": [
      "1\t2\t3\t4\t5\t\n",
      "2\t4\t6\t8\t10\t\n",
      "3\t6\t9\t12\t15\t\n",
      "4\t8\t12\t16\t20\t\n",
      "5\t10\t15\t20\t25\t\n"
     ]
    }
   ],
   "source": [
    "#multiplication table \n",
    "mystery_int = 5 \n",
    "# outer for loop\n",
    "for x in range(1, mystery_int+1):\n",
    "    # inner for loop \n",
    "    row = \"\" \n",
    "    for y in range(1, mystery_int+1):\n",
    "        row = row + str(x*y) + \"\\t\"\n",
    "    print(row)"
   ]
  },
  {
   "cell_type": "code",
   "execution_count": 103,
   "id": "7aeae1d1-1846-4cc9-be84-bfd86274ff2b",
   "metadata": {},
   "outputs": [
    {
     "name": "stdout",
     "output_type": "stream",
     "text": [
      "1\t2\t3\t4\t5\t\n",
      "2\t4\t6\t8\t10\t\n",
      "3\t6\t9\t12\t15\t\n",
      "4\t8\t12\t16\t20\t\n",
      "5\t10\t15\t20\t25\t\n"
     ]
    }
   ],
   "source": [
    "mystery_int = 5 \n",
    "\n",
    "for i in range(1, mystery_int + 1):\n",
    "    row_string = \"\"\n",
    "    for j in range(1, mystery_int + 1):\n",
    "        product = i * j\n",
    "        row_string += str(product) + \"\\t\"\n",
    "    print(row_string)"
   ]
  },
  {
   "cell_type": "code",
   "execution_count": 1,
   "id": "043d25ad-fa9c-4f44-84ed-a1c9e1164491",
   "metadata": {},
   "outputs": [
    {
     "name": "stdout",
     "output_type": "stream",
     "text": [
      "0\n",
      "1\n",
      "0\n",
      "2\n",
      "1\n",
      "0\n"
     ]
    }
   ],
   "source": [
    "#range(start,end,step)\n",
    "list_of_nums = [1,2,3]\n",
    "for item in list_of_nums:\n",
    "    num = item \n",
    "    while num > 0:\n",
    "        num -= 1\n",
    "        print(num)"
   ]
  },
  {
   "cell_type": "code",
   "execution_count": null,
   "id": "1aa1ef40-19c7-41b8-8320-d7d03fa04376",
   "metadata": {},
   "outputs": [],
   "source": []
  }
 ],
 "metadata": {
  "kernelspec": {
   "display_name": "Python 3 (ipykernel)",
   "language": "python",
   "name": "python3"
  },
  "language_info": {
   "codemirror_mode": {
    "name": "ipython",
    "version": 3
   },
   "file_extension": ".py",
   "mimetype": "text/x-python",
   "name": "python",
   "nbconvert_exporter": "python",
   "pygments_lexer": "ipython3",
   "version": "3.9.12"
  }
 },
 "nbformat": 4,
 "nbformat_minor": 5
}
